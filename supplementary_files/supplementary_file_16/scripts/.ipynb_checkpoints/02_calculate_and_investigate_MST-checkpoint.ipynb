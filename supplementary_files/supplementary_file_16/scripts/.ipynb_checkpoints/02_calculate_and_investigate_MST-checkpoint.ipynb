{
 "cells": [
  {
   "cell_type": "markdown",
   "id": "1dad3525",
   "metadata": {},
   "source": [
    "# ***Streptomyces*** MLST minimum spanning tree with NetworkX and plotly"
   ]
  },
  {
   "cell_type": "markdown",
   "id": "c50244ce",
   "metadata": {},
   "source": [
    "**Setp Up - importing python modules/libraries**"
   ]
  },
  {
   "cell_type": "code",
   "execution_count": 1,
   "id": "1d9a40fc",
   "metadata": {},
   "outputs": [],
   "source": [
    "import networkx as nx\n",
    "import pandas as pd\n",
    "from collections import defaultdict\n",
    "import plotly.graph_objects as go\n",
    "import plotly.express as px\n",
    "import random\n",
    "import seaborn as sns\n",
    "import matplotlib.pyplot as plt\n",
    "from collections import Counter\n",
    "from matplotlib.pyplot import figure\n",
    "import matplotlib.patches as mpatches\n",
    "import matplotlib.pyplot as plt\n",
    "from statsmodels.distributions.empirical_distribution import ECDF\n",
    "from pathlib import Path\n",
    "import shutil\n",
    "import os"
   ]
  },
  {
   "cell_type": "markdown",
   "id": "4511f5a1",
   "metadata": {},
   "source": [
    "**Loading data**\n",
    "\n",
    "1. MLST scheme"
   ]
  },
  {
   "cell_type": "code",
   "execution_count": 2,
   "id": "8e653ac6",
   "metadata": {},
   "outputs": [],
   "source": [
    "df = pd.read_csv(Path(\"../../supplementary_file_8/output/revised_scheme/revised_scheme.txt\"),sep='\\t', dtype=int)"
   ]
  },
  {
   "cell_type": "markdown",
   "id": "40ec84d2",
   "metadata": {},
   "source": [
    "2. Annotation data. \n",
    "Data containing information about each genome and its corresponding sequence type, oranism's name etc."
   ]
  },
  {
   "cell_type": "code",
   "execution_count": 3,
   "id": "25c39995",
   "metadata": {},
   "outputs": [],
   "source": [
    "df2 = pd.read_csv(Path(\"../../supplementary_file_8/output/Genome_ST_info.csv\"))"
   ]
  },
  {
   "cell_type": "markdown",
   "id": "92565929",
   "metadata": {},
   "source": [
    "**Getting a list of all relevant STs.**\n",
    "\n",
    "We could use df to pass the ST to networkX and assign them as nodes. However, some genomes were discarded from MLST analysis when trying to estimate evolutionary relationships between genomes used in this analysis based on concatenated sequences of all 6 markers. \n",
    "\n",
    "During the extraction of protein sequences, in some instances it was found that these were not functional due to frameshift mutations that occured. "
   ]
  },
  {
   "cell_type": "code",
   "execution_count": 4,
   "id": "8e709b95",
   "metadata": {},
   "outputs": [],
   "source": [
    "STs = [_ for _ in df['ST']]"
   ]
  },
  {
   "cell_type": "markdown",
   "id": "c2da0297",
   "metadata": {},
   "source": [
    "**Assign ST**"
   ]
  },
  {
   "cell_type": "code",
   "execution_count": 16,
   "id": "9ec50c16",
   "metadata": {},
   "outputs": [],
   "source": [
    "mlst = nx.complete_graph(STs)"
   ]
  },
  {
   "cell_type": "markdown",
   "id": "349c7371",
   "metadata": {},
   "source": [
    "**Assign each ST profile as an attribute**\n",
    "\n",
    "This will allow to calculate weights using hamming distance for each edge."
   ]
  },
  {
   "cell_type": "code",
   "execution_count": 17,
   "id": "57e1f9ca",
   "metadata": {},
   "outputs": [],
   "source": [
    "#Making dictionary with a allelic profiles as list keyed by a ST\n",
    "strep_profiles = df.set_index('ST').T.to_dict('list')\n",
    "#ADD profiles as a new column to a dataframe\n",
    "df[\"profiles\"] = df[\"ST\"].map(strep_profiles)\n",
    "# Creating nested dictionary\n",
    "attributes = df.set_index('ST')[list(['profiles'])].T.to_dict()\n",
    "nx.set_node_attributes(mlst, attributes)"
   ]
  },
  {
   "cell_type": "code",
   "execution_count": 18,
   "id": "a33bb237",
   "metadata": {},
   "outputs": [],
   "source": [
    "nx.set_node_attributes(mlst, attributes)"
   ]
  },
  {
   "cell_type": "code",
   "execution_count": 19,
   "id": "057bb75a",
   "metadata": {},
   "outputs": [],
   "source": [
    "\n",
    "def hamming_dist(profile_1, profile_2):\n",
    "    \"\"\"Return distance between two allelic profiles.\n",
    "    \n",
    "    Given two profiles (profile_1 and profile_2), \n",
    "    the Hamming distance is the number of correspondig loci \n",
    "    that differ in profile_1 and profile_2. \n",
    "    \"\"\"\n",
    "    \n",
    "    \n",
    "    hmm = int(sum([profile_1 != profile_2 for profile_1, profile_2 in zip(profile_1, profile_2)]))\n",
    "    \n",
    "    return hmm"
   ]
  },
  {
   "cell_type": "code",
   "execution_count": 20,
   "id": "534fa8e3",
   "metadata": {},
   "outputs": [],
   "source": [
    "for edge in mlst.edges:\n",
    "    n1, n2 = edge\n",
    "    mlst[n1][n2][\"weight\"] = hamming_dist(mlst.nodes[n1]['profiles'], mlst.nodes[n2]['profiles'])"
   ]
  },
  {
   "cell_type": "markdown",
   "id": "356f63e5",
   "metadata": {},
   "source": [
    "**Removing edges whith weight equal to number of profiles**\n",
    "\n",
    "If the hamming distance is equal to number of profiles that means that these schemes are not connected in any way.\n",
    "Hence, removing these edges is appropriate"
   ]
  },
  {
   "cell_type": "code",
   "execution_count": 21,
   "id": "8fadad5a",
   "metadata": {},
   "outputs": [],
   "source": [
    "edges_to_remove = [(n1,n2) for n1, n2, attrs in mlst.edges(data=True) if attrs[\"weight\"] == len(mlst.nodes[n1]['profiles'])]\n",
    "mlst.remove_edges_from(edges_to_remove)"
   ]
  },
  {
   "cell_type": "code",
   "execution_count": 22,
   "id": "6718727e",
   "metadata": {},
   "outputs": [],
   "source": [
    "for node in mlst:\n",
    "    del mlst.nodes[node]['profiles']"
   ]
  },
  {
   "cell_type": "markdown",
   "id": "fb6bf486",
   "metadata": {},
   "source": [
    "**Calculating minimum spanning tree for these nodes/STs**\n",
    "1. Calculate minimum spanning tree for our nodes, and save the tree as `graphml`. \n",
    "This format is accepted by cytoscape software that will allow for better/cleaner node positions"
   ]
  },
  {
   "cell_type": "code",
   "execution_count": 23,
   "id": "c896eb3b",
   "metadata": {},
   "outputs": [],
   "source": [
    "G = nx.minimum_spanning_tree(mlst, weight=\"weight\")\n",
    "nx.write_graphml_lxml(G, Path(\"../output/mlst_mst.graphml\"))"
   ]
  },
  {
   "cell_type": "markdown",
   "id": "cbb1f205",
   "metadata": {},
   "source": [
    "**Question 1: How many groups of united STs?**\n",
    "Using `connecte_components` function we can chck how many groups of united STs there are under Hamming distance."
   ]
  },
  {
   "cell_type": "code",
   "execution_count": 24,
   "id": "9f71b894",
   "metadata": {},
   "outputs": [],
   "source": [
    "connected_components  = sorted(nx.connected_components(G), key = len, reverse=True)"
   ]
  },
  {
   "cell_type": "code",
   "execution_count": 25,
   "id": "4f210c4e",
   "metadata": {},
   "outputs": [
    {
     "data": {
      "text/plain": [
       "278"
      ]
     },
     "execution_count": 25,
     "metadata": {},
     "output_type": "execute_result"
    }
   ],
   "source": [
    "len(connected_components)"
   ]
  },
  {
   "cell_type": "markdown",
   "id": "ff0033ff",
   "metadata": {},
   "source": [
    "**Question 2: Does this divion of *Streptomyces* implies corresponds to separation at genus or species level?**\n",
    "\n",
    "The division of Streptomyces into 282 components that share no marker allele with each other could imply a set of natural divisions between groups of isolates. \n",
    "\n",
    "To answer this question, we will apply ANI analysis to each connected components comprising of at least two isolates. \n",
    "\n",
    "Here, we will get input sets for pyANI analysis"
   ]
  },
  {
   "cell_type": "code",
   "execution_count": 26,
   "id": "51e2f26e",
   "metadata": {},
   "outputs": [],
   "source": [
    "pyani_groups = {}\n",
    "for i in range(0, len(connected_components)):\n",
    "    pyani_groups[i+1] = connected_components[i]\n",
    "    \n",
    "df2['ST'] = df2['ST'].astype(int)\n",
    "\n",
    "pyani_genomes = defaultdict(list)\n",
    "for k, v in pyani_groups.items():\n",
    "    data = df2.loc[df2['ST'].isin(v)]\n",
    "    component =data[\"accession\"].tolist()\n",
    "    pyani_genomes[k].extend(component)"
   ]
  },
  {
   "cell_type": "code",
   "execution_count": 28,
   "id": "2acbbe2f",
   "metadata": {},
   "outputs": [],
   "source": [
    "\n",
    "datadir = Path(\"../../supplementary_file_2/data/\")\n",
    "filenames = sorted(datadir.glob(\"strep*/GCF*/GCF*.fna\"))\n",
    "\n",
    "pyani_group = {}\n",
    "for k, v in pyani_genomes.items():\n",
    "    if len(v) >=2:\n",
    "        path = Path(f'../../supplementary_file_17/input/connected_components/{k}')\n",
    "        os.mkdir(path)\n",
    "        for _ in v:\n",
    "            pyani_group[_] = k\n",
    "            for filename in filenames:\n",
    "                if _ in str(filename) and 'from' not in str(filename):\n",
    "                    shutil.copy2(filename, path)\n",
    "    elif len(v) ==1:\n",
    "        pyani_group[v[0]] = k"
   ]
  },
  {
   "cell_type": "markdown",
   "id": "14c1e198",
   "metadata": {},
   "source": [
    "Adding assigned pyANI group ID to dataframe"
   ]
  },
  {
   "cell_type": "code",
   "execution_count": 18,
   "id": "c25354b5",
   "metadata": {},
   "outputs": [],
   "source": [
    "df2['pyani_group_ID'] = df2['accession'].map(pyani_group)"
   ]
  },
  {
   "cell_type": "markdown",
   "id": "c266a2c0",
   "metadata": {},
   "source": [
    "Generate and add pyANI labels to dataframe"
   ]
  },
  {
   "cell_type": "code",
   "execution_count": 19,
   "id": "f1c8be82",
   "metadata": {},
   "outputs": [],
   "source": [
    "df2 = df2.astype({\"ST\": str, 'strain': str})\n",
    "df2['pyani_label'] = df2[['organism', 'strain']].agg(' '.join, axis=1)\n",
    "df2['pyani_label'] = df2[['pyani_label','ST']].agg(' - ST '.join, axis=1)\n",
    "df2['pyani_label'] = df2[['accession', 'pyani_label']].agg(' | '.join, axis=1)"
   ]
  },
  {
   "cell_type": "code",
   "execution_count": 20,
   "id": "595db5e5",
   "metadata": {},
   "outputs": [],
   "source": [
    "df2.to_csv(Path(\"../../supplementary_file_8/output/Genome_ST_info.csv\").expanduser(), index=False)"
   ]
  },
  {
   "cell_type": "markdown",
   "id": "b4e62b74",
   "metadata": {},
   "source": [
    "**Question 3: What are the node connections?**"
   ]
  },
  {
   "cell_type": "markdown",
   "id": "9e25f50a",
   "metadata": {},
   "source": [
    "1. We need to create a dictionary with ST as key, and degree as values, and add this to our dataframe. The needed information can be then pulled from the table."
   ]
  },
  {
   "cell_type": "code",
   "execution_count": 27,
   "id": "07988ec3",
   "metadata": {},
   "outputs": [],
   "source": [
    "degree = {}\n",
    "for node, adjacencies in enumerate(G.adjacency()):\n",
    "    degree[adjacencies[0]] = len(adjacencies[1])\n",
    "    \n",
    "df2[\"degree\"] = df2[\"ST\"].map(degree)\n",
    "df2.to_csv(Path(\"../../supplementary_file_8/output/Genome_ST_info.csv\").expanduser(), index=False)"
   ]
  },
  {
   "cell_type": "markdown",
   "id": "8e5d046b",
   "metadata": {},
   "source": [
    "**Question 4: Is there a trend between number of genomes seauenced and number of connected components?**"
   ]
  },
  {
   "cell_type": "markdown",
   "id": "97577568",
   "metadata": {},
   "source": [
    "This can be checked by reducing number of genomes and checking the number of connected components.\n",
    "\n",
    "We can do this for:\n",
    "\n",
    "- all (100%) genomes - 951\n",
    "- 95% genomes ~ 904\n",
    "- 90% genomes ~ 856\n",
    "- 85% genomes ~ 761\n",
    "- 80% genomes ~ 761\n",
    "- 70% genomes ~ 666\n",
    "- 60% genomes ~ 571\n",
    "- 50% genomes ~ 476\n",
    "- 40% genomes ~ 380\n",
    "- 30% genomes ~ 285\n",
    "- 20% genomes ~ 190\n",
    "- 15% genomes ~ 143"
   ]
  },
  {
   "cell_type": "code",
   "execution_count": 28,
   "id": "8c7c8cc0",
   "metadata": {},
   "outputs": [],
   "source": [
    "import numpy as np\n",
    "from matplotlib.pyplot import figure"
   ]
  },
  {
   "cell_type": "markdown",
   "id": "3887079c",
   "metadata": {},
   "source": [
    "**Step 1**\n",
    "We can get a list of all ST that are represented in genbank"
   ]
  },
  {
   "cell_type": "code",
   "execution_count": 29,
   "id": "20570ef6",
   "metadata": {},
   "outputs": [],
   "source": [
    "genbank_st = [int(_) for _ in df2['ST']]"
   ]
  },
  {
   "cell_type": "code",
   "execution_count": 30,
   "id": "2e5d71fe",
   "metadata": {},
   "outputs": [],
   "source": [
    "plus_minus = np.random.choice([_ for _ in range(-5,6)])"
   ]
  },
  {
   "cell_type": "code",
   "execution_count": 31,
   "id": "2d7c2642",
   "metadata": {},
   "outputs": [],
   "source": [
    "def get_connected_components(data):\n",
    "\n",
    "    \n",
    "    data.extend([_ for _ in range(1,237)])\n",
    "    data = set(data)\n",
    "    graph = nx.complete_graph(data)\n",
    "    nx.set_node_attributes(graph, attributes)\n",
    "\n",
    "\n",
    "    for edge in graph.edges:\n",
    "        n1, n2 = edge\n",
    "        graph[n1][n2][\"weight\"] = hamming_dist(graph.nodes[n1]['profiles'], graph.nodes[n2]['profiles'])\n",
    "        \n",
    "        \n",
    "    edges_to_remove = [(n1,n2) for n1, n2, attrs in graph.edges(data=True) if attrs[\"weight\"] == len(graph.nodes[n1]['profiles'])]\n",
    "    graph.remove_edges_from(edges_to_remove)\n",
    "    MST = nx.minimum_spanning_tree(graph, weight=\"weight\")\n",
    "    \n",
    "    return [len(_) for _ in sorted(nx.connected_components(MST), key=len, reverse=True)]"
   ]
  },
  {
   "cell_type": "code",
   "execution_count": 32,
   "id": "a6d6a9f0",
   "metadata": {},
   "outputs": [],
   "source": [
    "def get_genomes(run, all_STs):\n",
    "    \n",
    "    run = f'run {run}'\n",
    "    print(run)\n",
    "    num_connected_components_per_genomes = {}\n",
    "    all_connected_comp_per_per_genomes = {}\n",
    "    genbank_st = [int(_) for _ in df2['ST']]\n",
    "    plus_minus = np.random.choice([_ for _ in range(-10,11)])\n",
    "    \n",
    "    genomes_100 = random.choices(all_STs, k=(951+plus_minus))\n",
    "    genomes_95 = random.choices(genomes_100, k=(904+plus_minus))\n",
    "    genomes_90 = random.choices(genomes_95, k=(856+plus_minus))\n",
    "    genomes_80 = random.choices(genomes_90, k=(761+plus_minus))\n",
    "    genomes_70 = random.choices(genomes_80, k=(666+plus_minus))\n",
    "    genomes_60 = random.choices(genomes_70, k=(571+plus_minus))\n",
    "    genomes_50 = random.choices(genomes_60, k=(476+plus_minus))\n",
    "    genomes_40 = random.choices(genomes_50, k=(380+plus_minus))\n",
    "    genomes_30 = random.choices(genomes_40, k=(285+plus_minus))\n",
    "    genomes_20 = random.choices(genomes_30, k=(190+plus_minus))\n",
    "    genomes_10 = random.choices(genomes_20, k=(95+plus_minus))\n",
    "    \n",
    "    pc_100 = get_connected_components(genomes_100)\n",
    "    num_connected_components_per_genomes[len(genomes_100)-236] = len(pc_100)\n",
    "    all_connected_comp_per_per_genomes['~ 100%'] = pc_100\n",
    "    \n",
    "    \n",
    "    pc_95 = get_connected_components(genomes_95)\n",
    "    num_connected_components_per_genomes[len(genomes_95)-236] = len(pc_95)\n",
    "    all_connected_comp_per_per_genomes['~ 95%'] = pc_95\n",
    "    \n",
    "    \n",
    "    pc_90 = get_connected_components(genomes_90)\n",
    "    num_connected_components_per_genomes[len(genomes_90)-236] = len(pc_90)\n",
    "    all_connected_comp_per_per_genomes['~ 90%'] = pc_90\n",
    "    \n",
    "    \n",
    "    pc_80 = get_connected_components(genomes_80)\n",
    "    num_connected_components_per_genomes[len(genomes_80)-236] = len(pc_80)\n",
    "    all_connected_comp_per_per_genomes['~ 80%'] = pc_80\n",
    "    \n",
    "    pc_70 = get_connected_components(genomes_70)\n",
    "    num_connected_components_per_genomes[len(genomes_70)-236] = len(pc_70)\n",
    "    all_connected_comp_per_per_genomes['~ 70%'] = pc_70\n",
    "    \n",
    "    pc_60 = get_connected_components(genomes_60)\n",
    "    num_connected_components_per_genomes[len(genomes_60)-236] = len(pc_60)\n",
    "    all_connected_comp_per_per_genomes['~ 60%'] = pc_60\n",
    "    \n",
    "    pc_50 = get_connected_components(genomes_50)\n",
    "    num_connected_components_per_genomes[len(genomes_50)-236] = len(pc_50)\n",
    "    all_connected_comp_per_per_genomes['~ 50%'] = pc_50\n",
    "    \n",
    "    pc_40 = get_connected_components(genomes_40)\n",
    "    num_connected_components_per_genomes[len(genomes_40)-236] = len(pc_40)\n",
    "    all_connected_comp_per_per_genomes['~ 40%'] = pc_40\n",
    "    \n",
    "    \n",
    "    pc_30 = get_connected_components(genomes_30)\n",
    "    num_connected_components_per_genomes[len(genomes_30)-236] = len(pc_30)\n",
    "    all_connected_comp_per_per_genomes['~ 30%'] = pc_30\n",
    "    \n",
    "    pc_20 = get_connected_components(genomes_20)\n",
    "    num_connected_components_per_genomes[len(genomes_20)-236] = len(pc_20)\n",
    "    all_connected_comp_per_per_genomes['~ 20%'] = pc_20\n",
    "    \n",
    "    pc_10 = get_connected_components(genomes_10)\n",
    "    num_connected_components_per_genomes[len(genomes_10)-236] = len(pc_10)\n",
    "    all_connected_comp_per_per_genomes['~ 10%'] = pc_10\n",
    "    \n",
    "    return run, num_connected_components_per_genomes, all_connected_comp_per_per_genomes\n",
    "    "
   ]
  },
  {
   "cell_type": "markdown",
   "id": "2df9fdf0",
   "metadata": {},
   "source": [
    "**Step 3**\n",
    "Use networkx to calculate the MST, and get the number of connected components. "
   ]
  },
  {
   "cell_type": "code",
   "execution_count": 33,
   "id": "15985ef5",
   "metadata": {},
   "outputs": [
    {
     "name": "stdout",
     "output_type": "stream",
     "text": [
      "run 1\n",
      "run 2\n",
      "run 3\n",
      "run 4\n",
      "run 5\n",
      "run 6\n",
      "run 7\n",
      "run 8\n",
      "run 9\n",
      "run 10\n",
      "run 11\n",
      "run 12\n",
      "run 13\n",
      "run 14\n",
      "run 15\n",
      "run 16\n",
      "run 17\n",
      "run 18\n",
      "run 19\n",
      "run 20\n",
      "run 21\n",
      "run 22\n",
      "run 23\n",
      "run 24\n",
      "run 25\n",
      "run 26\n",
      "run 27\n",
      "run 28\n",
      "run 29\n",
      "run 30\n",
      "run 31\n",
      "run 32\n",
      "run 33\n",
      "run 34\n",
      "run 35\n",
      "run 36\n",
      "run 37\n",
      "run 38\n",
      "run 39\n",
      "run 40\n",
      "run 41\n",
      "run 42\n",
      "run 43\n",
      "run 44\n",
      "run 45\n",
      "run 46\n",
      "run 47\n",
      "run 48\n",
      "run 49\n",
      "run 50\n",
      "run 51\n",
      "run 52\n",
      "run 53\n",
      "run 54\n",
      "run 55\n",
      "run 56\n",
      "run 57\n",
      "run 58\n",
      "run 59\n",
      "run 60\n",
      "run 61\n",
      "run 62\n",
      "run 63\n",
      "run 64\n",
      "run 65\n",
      "run 66\n",
      "run 67\n",
      "run 68\n",
      "run 69\n",
      "run 70\n",
      "run 71\n",
      "run 72\n",
      "run 73\n",
      "run 74\n",
      "run 75\n",
      "run 76\n",
      "run 77\n",
      "run 78\n",
      "run 79\n",
      "run 80\n",
      "run 81\n",
      "run 82\n",
      "run 83\n",
      "run 84\n",
      "run 85\n",
      "run 86\n",
      "run 87\n",
      "run 88\n",
      "run 89\n",
      "run 90\n",
      "run 91\n",
      "run 92\n",
      "run 93\n",
      "run 94\n",
      "run 95\n",
      "run 96\n",
      "run 97\n",
      "run 98\n",
      "run 99\n",
      "run 100\n"
     ]
    }
   ],
   "source": [
    "total_comp_per_genomes = {}\n",
    "com_sizes_per_genomes = {}\n",
    "for _ in range(1,101):\n",
    "    run, total_connected, connected_comp_sizes= get_genomes(_, genbank_st)\n",
    "    total_comp_per_genomes[run] = total_connected\n",
    "    com_sizes_per_genomes[run] = connected_comp_sizes\n",
    "    "
   ]
  },
  {
   "cell_type": "code",
   "execution_count": 36,
   "id": "62f5a7ae",
   "metadata": {},
   "outputs": [
    {
     "data": {
      "text/plain": [
       "(400.0, 1000.0)"
      ]
     },
     "execution_count": 36,
     "metadata": {},
     "output_type": "execute_result"
    },
    {
     "data": {
      "image/png": "[encoded data removed]",
      "text/plain": [
       "<Figure size 720x576 with 1 Axes>"
      ]
     },
     "metadata": {},
     "output_type": "display_data"
    }
   ],
   "source": [
    "sns.set_style(\"darkgrid\")\n",
    "\n",
    "figure(figsize=(10, 8))\n",
    "for data in total_comp_per_genomes.values():\n",
    "    x = data.keys()\n",
    "    y = data.values()\n",
    "    sns.scatterplot(x=x, y=y, color=\"#55C667FF\")\n",
    "plt.ylabel('Number of disjoint graphs')\n",
    "plt.xlabel('Number of genomes')\n",
    "plt.savefig(Path(\"../../supplementary_file_20/main_text_figures/Connectivity_test_00001.pdf\").expanduser())\n",
    "plt.ylim(140,280)\n",
    "plt.xlim(400, 1000)\n"
   ]
  },
  {
   "cell_type": "code",
   "execution_count": 37,
   "id": "2853a240",
   "metadata": {},
   "outputs": [],
   "source": [
    "import numpy as np\n",
    "import scipy\n",
    "import matplotlib.pyplot as plt\n",
    "import seaborn as sns\n",
    "from numpy import hstack"
   ]
  },
  {
   "cell_type": "code",
   "execution_count": 38,
   "id": "7329143a",
   "metadata": {},
   "outputs": [],
   "source": [
    "def ecdf(data):\n",
    "    \"\"\"Calculate ecdf for a given data. \n",
    "    \"\"\"\n",
    "    x, counts = np.unique(data, return_counts=True)\n",
    "    cusum = np.cumsum(counts)\n",
    "    return x, cusum/cusum[-1]"
   ]
  },
  {
   "cell_type": "code",
   "execution_count": 39,
   "id": "b1ae26d9",
   "metadata": {},
   "outputs": [],
   "source": [
    "data_y = []\n",
    "def data_ecdf(a):\n",
    "    x, y = ecdf(a)\n",
    "    x = np.insert(x, 0, x[0])\n",
    "    y = np.insert(y, 0, 0.)\n",
    "    data_y.append(dict(zip(x,y)))\n"
   ]
  },
  {
   "cell_type": "code",
   "execution_count": 40,
   "id": "dea4a546",
   "metadata": {},
   "outputs": [],
   "source": [
    "ecdf_100 = []\n",
    "ecdf_95 = []\n",
    "ecdf_90 = []\n",
    "ecdf_80 = []\n",
    "ecdf_70 = []\n",
    "ecdf_60 = []\n",
    "ecdf_50 = []\n",
    "ecdf_40 = []\n",
    "ecdf_30 = []\n",
    "ecdf_20 = []\n",
    "ecdf_10 = []\n",
    "\n",
    "\n",
    "\n",
    "\n",
    "for data in com_sizes_per_genomes.values():\n",
    "    for label, components in data.items():\n",
    "        if label == '~ 100%':\n",
    "            ecdf_100.append(components)\n",
    "        if label == '~ 95%':\n",
    "            ecdf_95.append(components)\n",
    "        if label == '~ 90%':\n",
    "            ecdf_90.append(components)\n",
    "        if label == '~ 80%':\n",
    "            ecdf_80.append(components)\n",
    "        if label == '~ 70%':\n",
    "            ecdf_70.append(components)\n",
    "        if label == '~ 60%':\n",
    "            ecdf_60.append(components)\n",
    "        if label == '~ 50%':\n",
    "            ecdf_50.append(components)\n",
    "        if label == '~ 40%':\n",
    "            ecdf_40.append(components)\n",
    "        if label == '~ 30%':\n",
    "            ecdf_30.append(components)\n",
    "        if label == '~ 20%':\n",
    "            ecdf_20.append(components)\n",
    "        if label == '~ 10%':\n",
    "            ecdf_10.append(components)\n",
    "            \n",
    "ecdf_100_fit = hstack(ecdf_100)\n",
    "ecdf_95_fit = hstack(ecdf_95)\n",
    "ecdf_90_fit = hstack(ecdf_90)\n",
    "ecdf_80_fit = hstack(ecdf_80)\n",
    "ecdf_70_fit = hstack(ecdf_70)\n",
    "ecdf_60_fit = hstack(ecdf_60)\n",
    "ecdf_50_fit = hstack(ecdf_50)\n",
    "ecdf_40_fit = hstack(ecdf_40)\n",
    "ecdf_30_fit = hstack(ecdf_30)\n",
    "ecdf_20_fit = hstack(ecdf_20)\n",
    "ecdf_10_fit = hstack(ecdf_10)"
   ]
  },
  {
   "cell_type": "code",
   "execution_count": 41,
   "id": "bd15867b",
   "metadata": {},
   "outputs": [],
   "source": [
    "pc_100 = [data_ecdf(_) for _ in ecdf_100]\n",
    "pc_95 = [data_ecdf(_) for _ in ecdf_95]\n",
    "pc_90 = [data_ecdf(_) for _ in ecdf_90]\n",
    "pc_80 = [data_ecdf(_) for _ in ecdf_80]\n",
    "pc_70 = [data_ecdf(_) for _ in ecdf_70]\n",
    "pc_60 = [data_ecdf(_) for _ in ecdf_60]\n",
    "pc_50 = [data_ecdf(_) for _ in ecdf_50]\n",
    "pc_40 = [data_ecdf(_) for _ in ecdf_40]\n",
    "pc_30 = [data_ecdf(_) for _ in ecdf_30]\n",
    "pc_20 = [data_ecdf(_) for _ in ecdf_20]\n",
    "pc_10 = [data_ecdf(_) for _ in ecdf_10]\n",
    "\n"
   ]
  },
  {
   "cell_type": "code",
   "execution_count": 42,
   "id": "dda0930f",
   "metadata": {},
   "outputs": [],
   "source": [
    "from collections import defaultdict\n",
    "\n",
    "all_points = defaultdict(list)\n",
    "\n",
    "for _ in data_y:\n",
    "    for k, v in _.items():\n",
    "        all_points[k].append(v)\n",
    "    "
   ]
  },
  {
   "cell_type": "code",
   "execution_count": 43,
   "id": "087af8ae",
   "metadata": {},
   "outputs": [],
   "source": [
    "x_axis = []\n",
    "y_min = []\n",
    "y_max = []\n",
    "for k, v in sorted(all_points.items()):\n",
    "    x_axis.append(k)\n",
    "    y_min.append(min(v))\n",
    "    y_max.append(max(v))"
   ]
  },
  {
   "cell_type": "code",
   "execution_count": 44,
   "id": "c4ff9407",
   "metadata": {},
   "outputs": [
    {
     "data": {
      "image/png": "[encoded data removed]",
      "text/plain": [
       "<Figure size 1500x1000 with 1 Axes>"
      ]
     },
     "metadata": {},
     "output_type": "display_data"
    }
   ],
   "source": [
    "figure(figsize=(15, 10), dpi=100)\n",
    "sns.set_style(\"white\")\n",
    "sns.ecdfplot(ecdf_100_fit, color='#481f70')\n",
    "sns.ecdfplot(ecdf_95_fit, color='#443983')\n",
    "sns.ecdfplot(ecdf_90_fit, color='#3b528b')\n",
    "sns.ecdfplot(ecdf_80_fit, color='#31688e')\n",
    "sns.ecdfplot(ecdf_70_fit, color='#287c8e')\n",
    "sns.ecdfplot(ecdf_60_fit, color='#21918c')\n",
    "sns.ecdfplot(ecdf_50_fit, color='#20a486')\n",
    "sns.ecdfplot(ecdf_40_fit, color='#35b779')\n",
    "sns.ecdfplot(ecdf_30_fit, color='#5ec962')\n",
    "sns.ecdfplot(ecdf_20_fit, color='#90d743')\n",
    "sns.ecdfplot(ecdf_10_fit, color='#c8e020')\n",
    "\n",
    "\n",
    "\n",
    "          \n",
    "                \n",
    "\n",
    "pc_100_patch = mpatches.Patch(color='#481f70', label='~ 100%')\n",
    "pc_95_patch = mpatches.Patch(color='#443983', label='~ 95%')\n",
    "pc_90_patch = mpatches.Patch(color='#3b528b', label='~ 90%')\n",
    "pc_80_patch = mpatches.Patch(color='#31688e', label='~ 80%')\n",
    "pc_70_patch = mpatches.Patch(color='#287c8e', label='~ 70%')\n",
    "pc_60_patch = mpatches.Patch(color='#21918c', label='~ 60%')\n",
    "pc_50_patch = mpatches.Patch(color='#20a486', label='~ 50%')\n",
    "pc_40_patch = mpatches.Patch(color='#35b779', label='~ 40%')\n",
    "pc_30_patch = mpatches.Patch(color='#5ec962', label='~ 30%')\n",
    "pc_20_patch = mpatches.Patch(color='#90d743', label='~ 20%')\n",
    "pc_10_patch = mpatches.Patch(color='#c8e020', label='~ 10%')\n",
    "\n",
    "plt.rcParams['font.size'] = '10'\n",
    "legend = plt.legend(handles=[pc_100_patch, pc_95_patch, pc_90_patch, pc_80_patch, pc_70_patch, pc_60_patch, pc_50_patch, pc_40_patch, pc_30_patch, pc_20_patch, pc_10_patch], loc='lower right')\n",
    "legend.set_title(\"Proportion of genomes\")                \n",
    "plt.ylim(0.6, 1.05)\n",
    "plt.fill_between(x_axis, y_min, y_max, color='grey', alpha=0.2)\n",
    "\n",
    "plt.xlabel('Size of connected components', fontsize=15)\n",
    "plt.ylabel('Proportion', fontsize=15)\n",
    "plt.savefig(Path(\"../../supplementary_file_20/main_text_figures/Connectivity_test_00002.pdf\").expanduser())\n",
    "plt.show()\n"
   ]
  },
  {
   "cell_type": "markdown",
   "id": "b7362573",
   "metadata": {},
   "source": [
    "**Question 5: Can the previous observations be the result of sampling bias?**\n",
    "\n",
    "Here, we generae a completely-connected network of 5000 nodes - each labelled with an artifitial ST/allele numbers - where we can move from one node to another by changing up to five alleles. \n",
    "\n",
    "We will then try to resample 2300 nodes from that tree - around 1000 times - and see what properties the resulting network have: number of disjoing components, distibution of connected components etc. \n",
    "\n",
    "This will help rule out that this disibution arises throught sampling bias. "
   ]
  },
  {
   "cell_type": "markdown",
   "id": "1f89ce84",
   "metadata": {},
   "source": [
    "**Step 1** Creating the scheme"
   ]
  },
  {
   "cell_type": "code",
   "execution_count": 37,
   "id": "c7889864",
   "metadata": {},
   "outputs": [],
   "source": [
    "import random\n",
    "\n",
    "def generate_random_lists():\n",
    "    num_lists = 5000\n",
    "    list_length = 6\n",
    "\n",
    "    lists = []\n",
    "    for _ in range(num_lists):\n",
    "        new_list = []\n",
    "        for _ in range(list_length):\n",
    "            new_list.append(random.randint(1, 2000))\n",
    "        lists.append(new_list)\n",
    "\n",
    "    # Ensure each list shares at least one number in common with a maximum of 100 other lists\n",
    "    for i in range(num_lists):\n",
    "        common_count = random.randint(1, min(100, num_lists-1))\n",
    "        common_lists = random.sample(range(num_lists), common_count)\n",
    "\n",
    "        for common_list in common_lists:\n",
    "            if common_list != i:\n",
    "                common_index = random.randint(0, list_length-1)\n",
    "                lists[i][common_index] = lists[common_list][common_index]\n",
    "\n",
    "    return lists\n",
    "\n",
    "# Generate random lists\n",
    "random_lists = generate_random_lists()\n",
    "\n",
    "df = pd.DataFrame(columns=['ST', '16S', 'atpD', 'recA', 'gyrB', 'rpoB', 'trpB'])\n",
    "\n",
    "# Print the generated lists\n",
    "for i, lst in enumerate(random_lists):\n",
    "    df.loc[i] = [i+1] + lst\n",
    "\n"
   ]
  },
  {
   "cell_type": "markdown",
   "id": "1a05adec",
   "metadata": {},
   "source": [
    "**Step 2:** Generate network and assign attributes (eg. profiles) to neach node/ST"
   ]
  },
  {
   "cell_type": "code",
   "execution_count": 38,
   "id": "cb0d6073",
   "metadata": {},
   "outputs": [],
   "source": [
    "artificial_scheme = nx.complete_graph([int(_) for _ in df['ST']])"
   ]
  },
  {
   "cell_type": "code",
   "execution_count": 39,
   "id": "eaddbb1e",
   "metadata": {},
   "outputs": [],
   "source": [
    "#Making dictionary with a allelic profiles as list keyed by a ST\n",
    "strep_profiles = df.set_index('ST').T.to_dict('list')\n",
    "#ADD profiles as a new column to a dataframe\n",
    "df[\"profiles\"] = df[\"ST\"].map(strep_profiles)\n",
    "# Creating nested dictionary\n",
    "attributes = df.set_index('ST')[list(['profiles'])].T.to_dict()\n",
    "nx.set_node_attributes(artificial_scheme, attributes)"
   ]
  },
  {
   "cell_type": "code",
   "execution_count": 40,
   "id": "643cd5d2",
   "metadata": {},
   "outputs": [],
   "source": [
    "def get_connected_component_sizes(data):\n",
    "\n",
    "    graph = nx.complete_graph(data)\n",
    "    nx.set_node_attributes(graph, attributes)\n",
    "\n",
    "\n",
    "    for edge in graph.edges:\n",
    "        n1, n2 = edge\n",
    "        graph[n1][n2][\"weight\"] = hamming_dist(graph.nodes[n1]['profiles'], graph.nodes[n2]['profiles'])\n",
    "        \n",
    "        \n",
    "    edges_to_remove = [(n1,n2) for n1, n2, attrs in graph.edges(data=True) if attrs[\"weight\"] == len(graph.nodes[n1]['profiles'])]\n",
    "    graph.remove_edges_from(edges_to_remove)\n",
    "    MST = nx.minimum_spanning_tree(graph, weight=\"weight\")\n",
    "\n",
    "    return [len(_) for _ in sorted(nx.connected_components(MST), key=len, reverse=True)]"
   ]
  },
  {
   "cell_type": "code",
   "execution_count": 42,
   "id": "83523b50",
   "metadata": {},
   "outputs": [],
   "source": [
    "def get_genomes(run, all_STs):\n",
    "    \n",
    "    run = f'run {run}'\n",
    "    print(run)\n",
    "    num_connected_components_per_genomes = {}\n",
    "    all_connected_comp_per_per_genomes = {}\n",
    "    genbank_st = [int(_) for _ in df['ST']]\n",
    "    plus_minus = np.random.choice([_ for _ in range(-10,11)])\n",
    "    \n",
    "    genomes_100 = random.choices(all_STs, k=(5000+plus_minus))\n",
    "    print(len(genomes_100))\n",
    "    genomes_90 = random.choices(genomes_100, k=(4500+plus_minus))\n",
    "    genomes_80 = random.choices(genomes_90, k=(4000+plus_minus))\n",
    "    genomes_70 = random.choices(genomes_80, k=(3500+plus_minus))\n",
    "    genomes_60 = random.choices(genomes_70, k=(3000+plus_minus))\n",
    "    genomes_50 = random.choices(genomes_60, k=(2500+plus_minus))\n",
    "    genomes_40 = random.choices(genomes_50, k=(2000+plus_minus))\n",
    "    genomes_30 = random.choices(genomes_40, k=(1500+plus_minus))\n",
    "    genomes_20 = random.choices(genomes_30, k=(1000+plus_minus))\n",
    "    genomes_10 = random.choices(genomes_20, k=(500+plus_minus))\n",
    "    \n",
    "    pc_100 = get_connected_component_sizes(genomes_100)\n",
    "    num_connected_components_per_genomes[len(genomes_100)] = len(pc_100)\n",
    "    all_connected_comp_per_per_genomes['~ 100%'] = pc_100\n",
    "    \n",
    "    \n",
    "    pc_90 = get_connected_component_sizes(genomes_90)\n",
    "    num_connected_components_per_genomes[len(genomes_90)] = len(pc_90)\n",
    "    all_connected_comp_per_per_genomes['~ 90%'] = pc_90\n",
    "    \n",
    "    \n",
    "    pc_80 = get_connected_component_sizes(genomes_80)\n",
    "    num_connected_components_per_genomes[len(genomes_80)] = len(pc_80)\n",
    "    all_connected_comp_per_per_genomes['~ 80%'] = pc_80\n",
    "    \n",
    "    pc_70 = get_connected_component_sizes(genomes_70)\n",
    "    num_connected_components_per_genomes[len(genomes_70)] = len(pc_70)\n",
    "    all_connected_comp_per_per_genomes['~ 70%'] = pc_70\n",
    "    \n",
    "    pc_60 = get_connected_component_sizes(genomes_60)\n",
    "    num_connected_components_per_genomes[len(genomes_60)] = len(pc_60)\n",
    "    all_connected_comp_per_per_genomes['~ 60%'] = pc_60\n",
    "    \n",
    "    pc_50 = get_connected_component_sizes(genomes_50)\n",
    "    num_connected_components_per_genomes[len(genomes_50)] = len(pc_50)\n",
    "    all_connected_comp_per_per_genomes['~ 50%'] = pc_50\n",
    "    \n",
    "    pc_40 = get_connected_component_sizes(genomes_40)\n",
    "    num_connected_components_per_genomes[len(genomes_40)] = len(pc_40)\n",
    "    all_connected_comp_per_per_genomes['~ 40%'] = pc_40\n",
    "    \n",
    "    \n",
    "    pc_30 = get_connected_component_sizes(genomes_30)\n",
    "    num_connected_components_per_genomes[len(genomes_30)] = len(pc_30)\n",
    "    all_connected_comp_per_per_genomes['~ 30%'] = pc_30\n",
    "    \n",
    "    pc_20 = get_connected_component_sizes(genomes_20)\n",
    "    num_connected_components_per_genomes[len(genomes_20)] = len(pc_20)\n",
    "    all_connected_comp_per_per_genomes['~ 20%'] = pc_20\n",
    "    \n",
    "    pc_10 = get_connected_component_sizes(genomes_10)\n",
    "    num_connected_components_per_genomes[len(genomes_10)] = len(pc_10)\n",
    "    all_connected_comp_per_per_genomes['~ 10%'] = pc_10\n",
    "    \n",
    "    return run, num_connected_components_per_genomes, all_connected_comp_per_per_genomes\n",
    "    "
   ]
  },
  {
   "cell_type": "code",
   "execution_count": 43,
   "id": "5a99e4ea",
   "metadata": {},
   "outputs": [
    {
     "name": "stdout",
     "output_type": "stream",
     "text": [
      "run 1\n",
      "4995\n",
      "run 2\n",
      "5003\n",
      "run 3\n",
      "4997\n",
      "run 4\n",
      "5001\n",
      "run 5\n",
      "5003\n",
      "run 6\n",
      "5009\n",
      "run 7\n",
      "5010\n",
      "run 8\n",
      "5005\n",
      "run 9\n",
      "5000\n",
      "run 10\n",
      "4991\n",
      "run 11\n",
      "4992\n",
      "run 12\n",
      "5004\n",
      "run 13\n",
      "5004\n",
      "run 14\n",
      "5005\n",
      "run 15\n",
      "4999\n",
      "run 16\n",
      "5006\n",
      "run 17\n",
      "4990\n",
      "run 18\n",
      "4991\n",
      "run 19\n",
      "5007\n",
      "run 20\n",
      "5004\n",
      "run 21\n",
      "4996\n",
      "run 22\n",
      "5006\n",
      "run 23\n",
      "5002\n",
      "run 24\n",
      "5007\n",
      "run 25\n",
      "5003\n",
      "run 26\n",
      "4994\n",
      "run 27\n",
      "5007\n",
      "run 28\n",
      "4991\n",
      "run 29\n",
      "4996\n",
      "run 30\n",
      "5006\n",
      "run 31\n",
      "4990\n",
      "run 32\n",
      "5008\n",
      "run 33\n",
      "4996\n",
      "run 34\n",
      "5000\n",
      "run 35\n",
      "5010\n",
      "run 36\n",
      "5010\n",
      "run 37\n",
      "5007\n",
      "run 38\n",
      "4997\n",
      "run 39\n",
      "5002\n",
      "run 40\n",
      "5009\n",
      "run 41\n",
      "5009\n",
      "run 42\n",
      "5000\n",
      "run 43\n",
      "5008\n",
      "run 44\n",
      "5001\n",
      "run 45\n",
      "4994\n",
      "run 46\n",
      "4992\n",
      "run 47\n",
      "4994\n",
      "run 48\n",
      "4995\n",
      "run 49\n",
      "5003\n",
      "run 50\n",
      "5009\n",
      "run 51\n",
      "4990\n",
      "run 52\n",
      "5001\n",
      "run 53\n",
      "4995\n",
      "run 54\n",
      "5007\n",
      "run 55\n",
      "4997\n",
      "run 56\n",
      "5010\n",
      "run 57\n",
      "5007\n",
      "run 58\n",
      "4997\n",
      "run 59\n",
      "5000\n",
      "run 60\n",
      "5000\n",
      "run 61\n",
      "5003\n",
      "run 62\n",
      "5007\n",
      "run 63\n",
      "5004\n",
      "run 64\n",
      "5002\n",
      "run 65\n",
      "4993\n",
      "run 66\n",
      "4996\n",
      "run 67\n",
      "5002\n",
      "run 68\n",
      "5007\n",
      "run 69\n",
      "4990\n",
      "run 70\n",
      "5007\n",
      "run 71\n",
      "5008\n",
      "run 72\n",
      "4996\n",
      "run 73\n",
      "5010\n",
      "run 74\n",
      "4997\n",
      "run 75\n",
      "4993\n",
      "run 76\n",
      "5006\n",
      "run 77\n",
      "4991\n",
      "run 78\n",
      "4992\n",
      "run 79\n",
      "5000\n",
      "run 80\n",
      "5000\n",
      "run 81\n",
      "4994\n",
      "run 82\n",
      "5010\n",
      "run 83\n",
      "5002\n",
      "run 84\n",
      "4994\n",
      "run 85\n",
      "5001\n",
      "run 86\n",
      "5009\n",
      "run 87\n",
      "5008\n",
      "run 88\n",
      "4996\n",
      "run 89\n",
      "4997\n",
      "run 90\n",
      "4997\n",
      "run 91\n",
      "4998\n",
      "run 92\n",
      "5003\n",
      "run 93\n",
      "4993\n",
      "run 94\n",
      "5001\n",
      "run 95\n",
      "4998\n",
      "run 96\n",
      "4993\n",
      "run 97\n",
      "4992\n",
      "run 98\n",
      "4993\n",
      "run 99\n",
      "5005\n",
      "run 100\n",
      "4994\n"
     ]
    }
   ],
   "source": [
    "total_comp_per_genomes = {}\n",
    "com_sizes_per_genomes = {}\n",
    "for _ in range(1,101):\n",
    "    run, total_connected, connected_comp_sizes= get_genomes(_, [_ for _ in df['ST']])\n",
    "    total_comp_per_genomes[run] = total_connected\n",
    "    com_sizes_per_genomes[run] = connected_comp_sizes"
   ]
  },
  {
   "cell_type": "code",
   "execution_count": 44,
   "id": "fa302230",
   "metadata": {},
   "outputs": [
    {
     "data": {
      "image/png": "[encoded data removed]",
      "text/plain": [
       "<Figure size 720x576 with 1 Axes>"
      ]
     },
     "metadata": {},
     "output_type": "display_data"
    }
   ],
   "source": [
    "sns.set_style(\"darkgrid\")\n",
    "\n",
    "figure(figsize=(10, 8))\n",
    "for data in total_comp_per_genomes.values():\n",
    "    x = data.keys()\n",
    "    y = data.values()\n",
    "    sns.scatterplot(x=x, y=y, color=\"#55C667FF\", alpha=0.3)\n",
    "plt.ylabel('Number of disjoint graphs')\n",
    "plt.xlabel('Number of genomes')\n",
    "plt.savefig(Path(\"../../Supplementary_file_21.pdf\").expanduser())\n",
    "# plt.ylim(140,300)\n",
    "# plt.xlim(400, 1000)"
   ]
  },
  {
   "cell_type": "code",
   "execution_count": 45,
   "id": "a69d63c0",
   "metadata": {},
   "outputs": [
    {
     "name": "stdout",
     "output_type": "stream",
     "text": [
      "{'~ 100%': [3181], '~ 90%': [2213], '~ 80%': [1674], '~ 70%': [1326, 1, 1], '~ 60%': [1049, 1, 1, 1, 1, 1], '~ 50%': [824, 1, 1, 1, 1, 1, 1, 1, 1], '~ 40%': [644, 2, 1, 1, 1, 1, 1, 1, 1, 1, 1, 1, 1, 1, 1, 1], '~ 30%': [485, 4, 1, 1, 1, 1, 1, 1, 1, 1, 1, 1, 1, 1, 1, 1, 1, 1, 1, 1, 1, 1, 1, 1], '~ 20%': [310, 7, 3, 3, 3, 2, 2, 2, 2, 2, 2, 1, 1, 1, 1, 1, 1, 1, 1, 1, 1, 1, 1, 1, 1, 1, 1, 1, 1, 1, 1, 1, 1, 1, 1, 1, 1, 1, 1, 1, 1, 1, 1, 1, 1, 1, 1, 1, 1, 1, 1, 1, 1, 1, 1, 1], '~ 10%': [113, 6, 6, 5, 5, 4, 3, 3, 3, 3, 3, 3, 2, 2, 2, 2, 2, 2, 2, 2, 2, 1, 1, 1, 1, 1, 1, 1, 1, 1, 1, 1, 1, 1, 1, 1, 1, 1, 1, 1, 1, 1, 1, 1, 1, 1, 1, 1, 1, 1, 1, 1, 1, 1, 1, 1, 1, 1, 1, 1, 1, 1, 1, 1, 1, 1, 1, 1, 1, 1, 1, 1, 1, 1, 1, 1, 1, 1, 1, 1, 1, 1, 1, 1, 1, 1, 1, 1, 1, 1]}\n",
      "{'~ 100%': [3159], '~ 90%': [2240], '~ 80%': [1697, 1, 1], '~ 70%': [1331, 1, 1], '~ 60%': [1036, 1, 1, 1, 1, 1, 1, 1, 1], '~ 50%': [818, 1, 1, 1, 1, 1, 1, 1, 1, 1, 1, 1, 1], '~ 40%': [635, 2, 1, 1, 1, 1, 1, 1, 1, 1, 1, 1, 1, 1, 1, 1, 1, 1, 1, 1, 1, 1, 1, 1, 1, 1, 1, 1, 1], '~ 30%': [445, 7, 4, 3, 3, 2, 2, 2, 1, 1, 1, 1, 1, 1, 1, 1, 1, 1, 1, 1, 1, 1, 1, 1, 1, 1, 1, 1, 1, 1, 1, 1, 1, 1, 1, 1, 1, 1, 1, 1, 1, 1, 1, 1, 1], '~ 20%': [316, 7, 3, 3, 2, 2, 2, 2, 2, 2, 2, 1, 1, 1, 1, 1, 1, 1, 1, 1, 1, 1, 1, 1, 1, 1, 1, 1, 1, 1, 1, 1, 1, 1, 1, 1, 1, 1, 1, 1, 1, 1, 1, 1, 1, 1, 1, 1, 1, 1, 1], '~ 10%': [54, 22, 21, 14, 6, 4, 4, 3, 3, 3, 3, 3, 3, 3, 3, 2, 2, 2, 2, 2, 2, 2, 2, 2, 2, 2, 2, 2, 2, 2, 2, 2, 1, 1, 1, 1, 1, 1, 1, 1, 1, 1, 1, 1, 1, 1, 1, 1, 1, 1, 1, 1, 1, 1, 1, 1, 1, 1, 1, 1, 1, 1, 1, 1, 1, 1, 1, 1, 1, 1, 1, 1, 1, 1, 1, 1, 1, 1, 1, 1, 1, 1, 1, 1, 1, 1, 1]}\n",
      "{'~ 100%': [3118], '~ 90%': [2245], '~ 80%': [1720], '~ 70%': [1321, 1], '~ 60%': [1046, 1, 1], '~ 50%': [824, 1, 1, 1, 1, 1, 1, 1, 1, 1], '~ 40%': [639, 1, 1, 1, 1, 1, 1, 1, 1, 1, 1, 1, 1, 1, 1, 1], '~ 30%': [505, 2, 2, 2, 1, 1, 1, 1, 1, 1, 1, 1, 1, 1, 1, 1, 1, 1, 1, 1, 1, 1, 1, 1, 1, 1, 1, 1, 1, 1], '~ 20%': [343, 3, 2, 2, 2, 2, 2, 2, 2, 2, 2, 2, 2, 2, 1, 1, 1, 1, 1, 1, 1, 1, 1, 1, 1, 1, 1, 1, 1, 1, 1, 1, 1, 1, 1, 1, 1, 1, 1, 1, 1, 1, 1, 1, 1, 1, 1, 1, 1, 1, 1, 1, 1], '~ 10%': [49, 21, 16, 14, 13, 9, 6, 5, 4, 4, 3, 3, 3, 3, 3, 2, 2, 2, 2, 2, 2, 2, 2, 2, 2, 2, 2, 2, 2, 2, 1, 1, 1, 1, 1, 1, 1, 1, 1, 1, 1, 1, 1, 1, 1, 1, 1, 1, 1, 1, 1, 1, 1, 1, 1, 1, 1, 1, 1, 1, 1, 1, 1, 1, 1, 1, 1, 1, 1, 1, 1, 1, 1, 1, 1, 1, 1, 1, 1, 1, 1, 1, 1, 1, 1, 1, 1, 1, 1, 1]}\n",
      "{'~ 100%': [3145], '~ 90%': [2215], '~ 80%': [1685, 1], '~ 70%': [1297, 1], '~ 60%': [1024, 1, 1, 1], '~ 50%': [851, 2, 1, 1, 1, 1, 1], '~ 40%': [677, 2, 1, 1, 1, 1, 1, 1, 1, 1, 1, 1, 1], '~ 30%': [509, 3, 2, 1, 1, 1, 1, 1, 1, 1, 1, 1, 1, 1, 1, 1, 1, 1, 1, 1], '~ 20%': [336, 9, 4, 3, 3, 2, 2, 2, 2, 2, 2, 1, 1, 1, 1, 1, 1, 1, 1, 1, 1, 1, 1, 1, 1, 1, 1, 1, 1, 1, 1, 1, 1, 1, 1, 1, 1, 1, 1, 1, 1, 1, 1], '~ 10%': [141, 6, 3, 3, 3, 3, 3, 3, 3, 3, 2, 2, 2, 2, 2, 2, 2, 2, 2, 2, 2, 2, 2, 1, 1, 1, 1, 1, 1, 1, 1, 1, 1, 1, 1, 1, 1, 1, 1, 1, 1, 1, 1, 1, 1, 1, 1, 1, 1, 1, 1, 1, 1, 1, 1, 1, 1, 1, 1, 1, 1, 1, 1, 1, 1, 1, 1, 1, 1, 1, 1, 1, 1, 1, 1, 1, 1, 1, 1, 1, 1, 1, 1, 1, 1, 1]}\n",
      "{'~ 100%': [3164], '~ 90%': [2222], '~ 80%': [1674], '~ 70%': [1301, 1, 1, 1], '~ 60%': [1025, 1, 1, 1, 1, 1], '~ 50%': [810, 1, 1, 1, 1, 1, 1, 1, 1], '~ 40%': [629, 2, 1, 1, 1, 1, 1, 1, 1, 1, 1, 1, 1, 1, 1, 1, 1, 1, 1], '~ 30%': [476, 2, 2, 2, 2, 2, 2, 1, 1, 1, 1, 1, 1, 1, 1, 1, 1, 1, 1, 1, 1, 1, 1, 1, 1, 1, 1, 1, 1, 1, 1, 1, 1], '~ 20%': [304, 4, 4, 3, 2, 2, 2, 2, 2, 1, 1, 1, 1, 1, 1, 1, 1, 1, 1, 1, 1, 1, 1, 1, 1, 1, 1, 1, 1, 1, 1, 1, 1, 1, 1, 1, 1, 1, 1, 1, 1, 1, 1, 1, 1, 1, 1, 1, 1, 1], '~ 10%': [69, 31, 24, 9, 5, 4, 4, 3, 3, 2, 2, 2, 2, 2, 2, 2, 2, 2, 2, 2, 1, 1, 1, 1, 1, 1, 1, 1, 1, 1, 1, 1, 1, 1, 1, 1, 1, 1, 1, 1, 1, 1, 1, 1, 1, 1, 1, 1, 1, 1, 1, 1, 1, 1, 1, 1, 1, 1, 1, 1, 1, 1, 1, 1, 1, 1, 1, 1, 1, 1, 1, 1, 1, 1, 1, 1, 1, 1, 1, 1, 1]}\n",
      "{'~ 100%': [3173], '~ 90%': [2269], '~ 80%': [1702, 2], '~ 70%': [1325, 2, 1, 1], '~ 60%': [1042, 2, 1, 1, 1], '~ 50%': [824, 2, 1, 1, 1, 1, 1], '~ 40%': [636, 2, 2, 1, 1, 1, 1, 1, 1, 1, 1, 1, 1], '~ 30%': [474, 2, 1, 1, 1, 1, 1, 1, 1, 1, 1, 1, 1, 1, 1, 1, 1, 1, 1, 1, 1, 1, 1, 1, 1, 1], '~ 20%': [327, 3, 3, 2, 2, 2, 2, 2, 1, 1, 1, 1, 1, 1, 1, 1, 1, 1, 1, 1, 1, 1, 1, 1, 1, 1, 1, 1, 1, 1, 1, 1, 1, 1, 1, 1, 1, 1, 1, 1, 1, 1, 1, 1, 1, 1, 1, 1], '~ 10%': [113, 12, 12, 7, 7, 6, 5, 3, 3, 3, 3, 2, 2, 2, 2, 2, 2, 2, 2, 2, 2, 2, 2, 2, 2, 1, 1, 1, 1, 1, 1, 1, 1, 1, 1, 1, 1, 1, 1, 1, 1, 1, 1, 1, 1, 1, 1, 1, 1, 1, 1, 1, 1, 1, 1, 1, 1, 1, 1, 1, 1, 1, 1, 1, 1, 1, 1, 1, 1, 1, 1, 1]}\n",
      "{'~ 100%': [3174], '~ 90%': [2240], '~ 80%': [1681], '~ 70%': [1320, 1], '~ 60%': [1032, 2, 1, 1, 1, 1], '~ 50%': [821, 1, 1, 1, 1, 1, 1, 1, 1, 1], '~ 40%': [648, 3, 2, 1, 1, 1, 1, 1, 1, 1, 1, 1, 1, 1], '~ 30%': [485, 2, 2, 2, 1, 1, 1, 1, 1, 1, 1, 1, 1, 1, 1, 1, 1, 1, 1, 1, 1, 1, 1, 1, 1, 1, 1], '~ 20%': [332, 5, 4, 2, 2, 2, 2, 2, 1, 1, 1, 1, 1, 1, 1, 1, 1, 1, 1, 1, 1, 1, 1, 1, 1, 1, 1, 1, 1, 1, 1, 1, 1, 1, 1, 1, 1, 1, 1, 1, 1, 1, 1, 1, 1, 1], '~ 10%': [131, 10, 6, 5, 4, 4, 3, 3, 3, 3, 3, 2, 2, 2, 2, 2, 2, 2, 2, 2, 2, 1, 1, 1, 1, 1, 1, 1, 1, 1, 1, 1, 1, 1, 1, 1, 1, 1, 1, 1, 1, 1, 1, 1, 1, 1, 1, 1, 1, 1, 1, 1, 1, 1, 1, 1, 1, 1, 1, 1, 1, 1, 1, 1, 1, 1, 1, 1, 1, 1]}\n",
      "{'~ 100%': [3131], '~ 90%': [2207], '~ 80%': [1692], '~ 70%': [1319, 1], '~ 60%': [1036, 1, 1, 1, 1], '~ 50%': [840, 1, 1, 1, 1, 1, 1, 1, 1], '~ 40%': [630, 3, 2, 1, 1, 1, 1, 1, 1, 1, 1, 1, 1, 1, 1, 1, 1, 1, 1], '~ 30%': [477, 2, 2, 2, 1, 1, 1, 1, 1, 1, 1, 1, 1, 1, 1, 1, 1, 1, 1, 1, 1, 1, 1, 1, 1, 1, 1, 1, 1], '~ 20%': [320, 5, 4, 3, 2, 2, 2, 2, 2, 1, 1, 1, 1, 1, 1, 1, 1, 1, 1, 1, 1, 1, 1, 1, 1, 1, 1, 1, 1, 1, 1, 1, 1, 1, 1, 1, 1, 1, 1, 1, 1, 1, 1, 1, 1], '~ 10%': [95, 12, 7, 6, 5, 5, 4, 4, 4, 3, 3, 3, 3, 3, 3, 3, 2, 2, 2, 2, 2, 2, 2, 2, 2, 1, 1, 1, 1, 1, 1, 1, 1, 1, 1, 1, 1, 1, 1, 1, 1, 1, 1, 1, 1, 1, 1, 1, 1, 1, 1, 1, 1, 1, 1, 1, 1, 1, 1, 1, 1, 1, 1, 1, 1, 1, 1, 1, 1, 1, 1, 1, 1, 1, 1, 1, 1, 1, 1, 1, 1, 1, 1, 1]}\n",
      "{'~ 100%': [3109], '~ 90%': [2242], '~ 80%': [1650], '~ 70%': [1302], '~ 60%': [1029, 2, 1, 1, 1], '~ 50%': [812, 2, 2, 2, 2, 1, 1, 1, 1, 1, 1, 1, 1, 1], '~ 40%': [633, 2, 2, 2, 2, 2, 2, 1, 1, 1, 1, 1, 1, 1, 1, 1, 1, 1, 1, 1, 1, 1, 1], '~ 30%': [483, 2, 2, 2, 2, 2, 2, 2, 2, 1, 1, 1, 1, 1, 1, 1, 1, 1, 1, 1, 1, 1, 1, 1, 1, 1, 1, 1, 1, 1, 1, 1, 1, 1], '~ 20%': [330, 5, 3, 2, 2, 2, 2, 2, 2, 2, 2, 2, 2, 1, 1, 1, 1, 1, 1, 1, 1, 1, 1, 1, 1, 1, 1, 1, 1, 1, 1, 1, 1, 1, 1, 1, 1, 1, 1, 1, 1, 1, 1, 1, 1, 1, 1, 1, 1, 1, 1], '~ 10%': [73, 29, 27, 6, 5, 4, 4, 3, 3, 3, 3, 2, 2, 2, 2, 2, 2, 2, 2, 2, 2, 2, 2, 2, 2, 1, 1, 1, 1, 1, 1, 1, 1, 1, 1, 1, 1, 1, 1, 1, 1, 1, 1, 1, 1, 1, 1, 1, 1, 1, 1, 1, 1, 1, 1, 1, 1, 1, 1, 1, 1, 1, 1, 1, 1, 1, 1, 1, 1, 1, 1, 1, 1, 1, 1, 1]}\n",
      "{'~ 100%': [3156], '~ 90%': [2247], '~ 80%': [1674], '~ 70%': [1314, 1, 1, 1], '~ 60%': [1063, 1, 1, 1, 1, 1, 1], '~ 50%': [842, 1, 1, 1, 1, 1, 1], '~ 40%': [682, 1, 1, 1, 1, 1, 1, 1, 1, 1, 1, 1], '~ 30%': [515, 1, 1, 1, 1, 1, 1, 1, 1, 1, 1, 1, 1, 1, 1, 1, 1, 1, 1, 1, 1, 1, 1], '~ 20%': [367, 2, 2, 1, 1, 1, 1, 1, 1, 1, 1, 1, 1, 1, 1, 1, 1, 1, 1, 1, 1, 1, 1, 1, 1, 1, 1, 1, 1, 1, 1, 1, 1, 1, 1, 1, 1, 1, 1, 1, 1], '~ 10%': [164, 7, 5, 4, 4, 3, 3, 3, 3, 2, 2, 2, 2, 2, 2, 1, 1, 1, 1, 1, 1, 1, 1, 1, 1, 1, 1, 1, 1, 1, 1, 1, 1, 1, 1, 1, 1, 1, 1, 1, 1, 1, 1, 1, 1, 1, 1, 1, 1, 1, 1, 1, 1, 1, 1, 1, 1, 1, 1, 1, 1, 1, 1, 1, 1, 1, 1, 1, 1, 1, 1]}\n",
      "{'~ 100%': [3171], '~ 90%': [2268], '~ 80%': [1691], '~ 70%': [1320, 2, 1], '~ 60%': [1041, 2, 2, 1, 1, 1, 1], '~ 50%': [818, 2, 2, 1, 1, 1, 1, 1, 1], '~ 40%': [644, 2, 2, 2, 2, 1, 1, 1, 1, 1, 1, 1, 1, 1, 1, 1, 1, 1], '~ 30%': [473, 2, 2, 2, 2, 2, 2, 2, 2, 1, 1, 1, 1, 1, 1, 1, 1, 1, 1, 1, 1, 1, 1, 1, 1, 1, 1, 1, 1, 1, 1, 1, 1], '~ 20%': [319, 2, 2, 2, 2, 2, 2, 2, 2, 2, 1, 1, 1, 1, 1, 1, 1, 1, 1, 1, 1, 1, 1, 1, 1, 1, 1, 1, 1, 1, 1, 1, 1, 1, 1, 1, 1, 1, 1, 1, 1, 1, 1, 1, 1, 1, 1, 1, 1, 1, 1, 1, 1], '~ 10%': [132, 8, 5, 4, 4, 3, 3, 3, 3, 2, 2, 2, 2, 2, 2, 2, 2, 2, 2, 2, 1, 1, 1, 1, 1, 1, 1, 1, 1, 1, 1, 1, 1, 1, 1, 1, 1, 1, 1, 1, 1, 1, 1, 1, 1, 1, 1, 1, 1, 1, 1, 1, 1, 1, 1, 1, 1, 1, 1, 1, 1, 1, 1, 1, 1, 1, 1, 1, 1, 1, 1, 1, 1, 1, 1, 1]}\n",
      "{'~ 100%': [3181], '~ 90%': [2220], '~ 80%': [1677, 1], '~ 70%': [1285, 1], '~ 60%': [1023, 1, 1, 1, 1, 1, 1, 1, 1], '~ 50%': [810, 2, 1, 1, 1, 1, 1, 1, 1, 1, 1, 1, 1, 1, 1], '~ 40%': [634, 2, 2, 1, 1, 1, 1, 1, 1, 1, 1, 1, 1, 1, 1, 1], '~ 30%': [474, 3, 2, 2, 2, 2, 1, 1, 1, 1, 1, 1, 1, 1, 1, 1, 1, 1, 1, 1, 1, 1, 1, 1, 1, 1, 1, 1, 1, 1], '~ 20%': [302, 5, 4, 4, 3, 3, 3, 2, 2, 2, 2, 2, 2, 2, 2, 1, 1, 1, 1, 1, 1, 1, 1, 1, 1, 1, 1, 1, 1, 1, 1, 1, 1, 1, 1, 1, 1, 1, 1, 1, 1, 1, 1, 1, 1, 1, 1], '~ 10%': [38, 34, 28, 15, 7, 5, 5, 5, 5, 4, 4, 3, 3, 2, 2, 2, 2, 2, 2, 2, 2, 2, 2, 2, 2, 2, 1, 1, 1, 1, 1, 1, 1, 1, 1, 1, 1, 1, 1, 1, 1, 1, 1, 1, 1, 1, 1, 1, 1, 1, 1, 1, 1, 1, 1, 1, 1, 1, 1, 1, 1, 1, 1, 1, 1, 1, 1, 1, 1, 1, 1, 1, 1, 1, 1, 1, 1, 1, 1, 1, 1]}\n",
      "{'~ 100%': [3142], '~ 90%': [2215], '~ 80%': [1660], '~ 70%': [1306], '~ 60%': [1031, 1, 1, 1, 1, 1], '~ 50%': [830, 2, 1, 1, 1, 1, 1, 1, 1], '~ 40%': [663, 2, 2, 2, 1, 1, 1, 1, 1, 1, 1, 1, 1, 1], '~ 30%': [494, 2, 2, 1, 1, 1, 1, 1, 1, 1, 1, 1, 1, 1, 1, 1, 1, 1, 1, 1, 1, 1, 1, 1, 1, 1], '~ 20%': [322, 5, 3, 2, 2, 2, 2, 2, 2, 2, 2, 2, 1, 1, 1, 1, 1, 1, 1, 1, 1, 1, 1, 1, 1, 1, 1, 1, 1, 1, 1, 1, 1, 1, 1, 1, 1], '~ 10%': [90, 9, 9, 7, 7, 7, 3, 3, 3, 3, 3, 3, 2, 2, 2, 2, 2, 2, 2, 2, 2, 2, 2, 2, 2, 2, 1, 1, 1, 1, 1, 1, 1, 1, 1, 1, 1, 1, 1, 1, 1, 1, 1, 1, 1, 1, 1, 1, 1, 1, 1, 1, 1, 1, 1, 1, 1, 1, 1, 1, 1, 1, 1, 1, 1, 1, 1, 1, 1, 1, 1, 1, 1, 1, 1, 1, 1]}\n",
      "{'~ 100%': [3145], '~ 90%': [2256], '~ 80%': [1731], '~ 70%': [1340, 1, 1], '~ 60%': [1066, 1, 1, 1, 1, 1, 1], '~ 50%': [846, 2, 1, 1, 1, 1, 1, 1, 1, 1, 1, 1, 1], '~ 40%': [671, 2, 1, 1, 1, 1, 1, 1, 1, 1, 1, 1, 1], '~ 30%': [524, 3, 2, 1, 1, 1, 1, 1, 1, 1, 1, 1, 1, 1, 1, 1, 1, 1, 1, 1], '~ 20%': [342, 3, 3, 2, 2, 2, 2, 2, 2, 1, 1, 1, 1, 1, 1, 1, 1, 1, 1, 1, 1, 1, 1, 1, 1, 1, 1, 1, 1, 1, 1, 1, 1, 1, 1, 1, 1, 1], '~ 10%': [184, 2, 2, 2, 2, 2, 2, 2, 2, 2, 1, 1, 1, 1, 1, 1, 1, 1, 1, 1, 1, 1, 1, 1, 1, 1, 1, 1, 1, 1, 1, 1, 1, 1, 1, 1, 1, 1, 1, 1, 1, 1, 1, 1, 1, 1, 1, 1, 1, 1, 1, 1, 1, 1, 1]}\n",
      "{'~ 100%': [3155], '~ 90%': [2190], '~ 80%': [1667], '~ 70%': [1325], '~ 60%': [1069, 2, 1, 1, 1], '~ 50%': [862, 1, 1, 1, 1, 1, 1, 1, 1, 1], '~ 40%': [669, 2, 1, 1, 1, 1, 1, 1, 1, 1, 1, 1, 1, 1, 1, 1, 1], '~ 30%': [496, 2, 2, 2, 1, 1, 1, 1, 1, 1, 1, 1, 1, 1, 1, 1, 1, 1, 1, 1, 1, 1, 1, 1, 1, 1, 1, 1, 1, 1, 1, 1], '~ 20%': [314, 4, 4, 4, 3, 2, 2, 2, 2, 2, 2, 1, 1, 1, 1, 1, 1, 1, 1, 1, 1, 1, 1, 1, 1, 1, 1, 1, 1, 1, 1, 1, 1, 1, 1, 1, 1, 1, 1, 1, 1, 1, 1, 1, 1, 1, 1, 1], '~ 10%': [72, 37, 12, 10, 7, 6, 5, 4, 4, 4, 3, 3, 3, 2, 2, 2, 2, 2, 2, 2, 2, 2, 2, 2, 2, 1, 1, 1, 1, 1, 1, 1, 1, 1, 1, 1, 1, 1, 1, 1, 1, 1, 1, 1, 1, 1, 1, 1, 1, 1, 1, 1, 1, 1, 1, 1, 1, 1, 1, 1, 1, 1, 1, 1, 1, 1, 1, 1, 1, 1, 1, 1, 1, 1, 1, 1, 1]}\n",
      "{'~ 100%': [3170], '~ 90%': [2253], '~ 80%': [1738], '~ 70%': [1352], '~ 60%': [1085], '~ 50%': [865, 1, 1, 1, 1, 1], '~ 40%': [673, 2, 1, 1, 1, 1, 1, 1, 1, 1, 1, 1, 1], '~ 30%': [501, 4, 2, 2, 1, 1, 1, 1, 1, 1, 1, 1, 1, 1, 1, 1, 1, 1, 1, 1, 1, 1, 1], '~ 20%': [337, 4, 3, 2, 2, 2, 1, 1, 1, 1, 1, 1, 1, 1, 1, 1, 1, 1, 1, 1, 1, 1, 1, 1, 1, 1, 1, 1, 1, 1, 1, 1, 1, 1], '~ 10%': [113, 10, 9, 7, 6, 6, 5, 5, 4, 4, 4, 3, 2, 2, 2, 2, 2, 2, 2, 2, 2, 1, 1, 1, 1, 1, 1, 1, 1, 1, 1, 1, 1, 1, 1, 1, 1, 1, 1, 1, 1, 1, 1, 1, 1, 1, 1, 1, 1, 1, 1, 1, 1, 1, 1, 1, 1, 1, 1, 1, 1, 1, 1, 1, 1, 1, 1, 1, 1, 1, 1, 1]}\n",
      "{'~ 100%': [3130], '~ 90%': [2225], '~ 80%': [1666, 1], '~ 70%': [1327, 1, 1], '~ 60%': [1060, 1, 1, 1, 1, 1], '~ 50%': [847, 1, 1, 1, 1, 1, 1, 1, 1, 1], '~ 40%': [646, 3, 2, 1, 1, 1, 1, 1, 1, 1, 1, 1, 1, 1, 1, 1, 1, 1, 1, 1, 1], '~ 30%': [475, 2, 2, 1, 1, 1, 1, 1, 1, 1, 1, 1, 1, 1, 1, 1, 1, 1, 1, 1, 1, 1, 1, 1, 1, 1, 1, 1, 1, 1, 1, 1], '~ 20%': [330, 3, 3, 2, 2, 2, 2, 1, 1, 1, 1, 1, 1, 1, 1, 1, 1, 1, 1, 1, 1, 1, 1, 1, 1, 1, 1, 1, 1, 1, 1, 1, 1, 1, 1, 1, 1, 1, 1, 1, 1, 1, 1, 1, 1], '~ 10%': [135, 9, 8, 8, 4, 4, 4, 3, 3, 3, 2, 2, 2, 2, 2, 2, 2, 1, 1, 1, 1, 1, 1, 1, 1, 1, 1, 1, 1, 1, 1, 1, 1, 1, 1, 1, 1, 1, 1, 1, 1, 1, 1, 1, 1, 1, 1, 1, 1, 1, 1, 1, 1, 1, 1, 1, 1]}\n",
      "{'~ 100%': [3169], '~ 90%': [2227], '~ 80%': [1688], '~ 70%': [1319, 1, 1], '~ 60%': [1041, 1, 1], '~ 50%': [816, 2, 1, 1, 1, 1], '~ 40%': [624, 2, 1, 1, 1, 1, 1, 1, 1, 1, 1, 1, 1, 1, 1, 1, 1, 1, 1, 1], '~ 30%': [472, 5, 2, 2, 2, 1, 1, 1, 1, 1, 1, 1, 1, 1, 1, 1, 1, 1, 1, 1, 1, 1, 1, 1, 1, 1, 1, 1, 1, 1, 1, 1, 1], '~ 20%': [324, 4, 2, 2, 2, 2, 2, 2, 2, 1, 1, 1, 1, 1, 1, 1, 1, 1, 1, 1, 1, 1, 1, 1, 1, 1, 1, 1, 1, 1, 1, 1, 1, 1, 1, 1, 1, 1, 1, 1, 1, 1, 1, 1, 1, 1], '~ 10%': [105, 14, 8, 6, 6, 4, 4, 4, 3, 3, 2, 2, 2, 2, 2, 2, 2, 2, 2, 2, 2, 2, 1, 1, 1, 1, 1, 1, 1, 1, 1, 1, 1, 1, 1, 1, 1, 1, 1, 1, 1, 1, 1, 1, 1, 1, 1, 1, 1, 1, 1, 1, 1, 1, 1, 1, 1, 1, 1, 1, 1, 1, 1, 1, 1, 1, 1, 1, 1, 1, 1, 1, 1, 1, 1, 1, 1, 1, 1, 1, 1]}\n",
      "{'~ 100%': [3180], '~ 90%': [2266], '~ 80%': [1720], '~ 70%': [1325], '~ 60%': [1070, 1, 1, 1], '~ 50%': [841, 1, 1, 1, 1, 1, 1, 1, 1], '~ 40%': [669, 1, 1, 1, 1, 1, 1, 1, 1, 1, 1, 1, 1, 1, 1, 1, 1], '~ 30%': [520, 3, 1, 1, 1, 1, 1, 1, 1, 1, 1, 1, 1, 1, 1, 1, 1, 1, 1, 1, 1, 1, 1, 1, 1, 1, 1], '~ 20%': [336, 4, 4, 3, 2, 2, 2, 2, 2, 1, 1, 1, 1, 1, 1, 1, 1, 1, 1, 1, 1, 1, 1, 1, 1, 1, 1, 1, 1, 1, 1, 1, 1, 1, 1, 1, 1, 1, 1, 1, 1, 1, 1, 1, 1, 1, 1, 1], '~ 10%': [127, 15, 5, 3, 3, 3, 3, 3, 2, 2, 2, 2, 2, 2, 2, 2, 2, 2, 2, 1, 1, 1, 1, 1, 1, 1, 1, 1, 1, 1, 1, 1, 1, 1, 1, 1, 1, 1, 1, 1, 1, 1, 1, 1, 1, 1, 1, 1, 1, 1, 1, 1, 1, 1, 1, 1, 1, 1, 1, 1, 1, 1, 1, 1, 1, 1, 1, 1, 1, 1, 1, 1, 1, 1, 1, 1, 1, 1, 1, 1, 1, 1, 1, 1, 1, 1]}\n",
      "{'~ 100%': [3163], '~ 90%': [2224], '~ 80%': [1658], '~ 70%': [1270, 1], '~ 60%': [1016, 1, 1, 1, 1], '~ 50%': [795, 2, 1, 1, 1, 1, 1, 1, 1, 1, 1, 1], '~ 40%': [642, 2, 1, 1, 1, 1, 1, 1, 1, 1, 1], '~ 30%': [467, 2, 2, 2, 2, 1, 1, 1, 1, 1, 1, 1, 1, 1, 1, 1, 1, 1, 1, 1, 1, 1, 1, 1], '~ 20%': [320, 5, 3, 3, 2, 2, 2, 2, 2, 1, 1, 1, 1, 1, 1, 1, 1, 1, 1, 1, 1, 1, 1, 1, 1, 1, 1, 1, 1, 1, 1, 1, 1, 1, 1, 1, 1, 1, 1, 1, 1, 1, 1], '~ 10%': [77, 38, 6, 5, 5, 4, 4, 3, 3, 3, 3, 3, 2, 2, 2, 2, 2, 2, 2, 2, 2, 2, 2, 1, 1, 1, 1, 1, 1, 1, 1, 1, 1, 1, 1, 1, 1, 1, 1, 1, 1, 1, 1, 1, 1, 1, 1, 1, 1, 1, 1, 1, 1, 1, 1, 1, 1, 1, 1, 1, 1, 1, 1, 1, 1, 1, 1, 1, 1, 1, 1, 1, 1, 1, 1, 1, 1, 1, 1, 1, 1, 1, 1, 1, 1]}\n",
      "{'~ 100%': [3182], '~ 90%': [2237], '~ 80%': [1667], '~ 70%': [1326], '~ 60%': [1059, 1, 1, 1], '~ 50%': [818, 1, 1, 1, 1, 1, 1, 1, 1], '~ 40%': [640, 3, 2, 2, 1, 1, 1, 1, 1, 1, 1, 1, 1, 1, 1, 1, 1, 1, 1, 1, 1, 1], '~ 30%': [487, 3, 2, 2, 2, 2, 1, 1, 1, 1, 1, 1, 1, 1, 1, 1, 1, 1, 1, 1, 1, 1, 1, 1, 1, 1, 1, 1, 1, 1, 1], '~ 20%': [328, 2, 2, 2, 2, 2, 2, 2, 2, 1, 1, 1, 1, 1, 1, 1, 1, 1, 1, 1, 1, 1, 1, 1, 1, 1, 1, 1, 1, 1, 1, 1, 1, 1, 1, 1, 1, 1, 1, 1, 1, 1, 1, 1, 1, 1, 1, 1, 1, 1, 1, 1], '~ 10%': [169, 8, 5, 3, 2, 2, 2, 2, 2, 2, 2, 2, 2, 2, 1, 1, 1, 1, 1, 1, 1, 1, 1, 1, 1, 1, 1, 1, 1, 1, 1, 1, 1, 1, 1, 1, 1, 1, 1, 1, 1, 1, 1, 1, 1, 1, 1, 1, 1, 1, 1, 1, 1, 1, 1, 1, 1, 1, 1, 1, 1, 1, 1, 1, 1, 1, 1]}\n",
      "{'~ 100%': [3167], '~ 90%': [2227], '~ 80%': [1662, 1, 1], '~ 70%': [1306, 1, 1, 1], '~ 60%': [1019, 1, 1, 1, 1], '~ 50%': [818, 1, 1, 1, 1, 1, 1, 1, 1, 1, 1], '~ 40%': [627, 2, 2, 2, 2, 1, 1, 1, 1, 1, 1, 1, 1, 1, 1, 1, 1, 1, 1, 1, 1, 1, 1], '~ 30%': [480, 2, 2, 2, 1, 1, 1, 1, 1, 1, 1, 1, 1, 1, 1, 1, 1, 1, 1, 1, 1, 1, 1, 1, 1, 1, 1, 1, 1, 1, 1, 1, 1, 1], '~ 20%': [312, 5, 2, 2, 2, 2, 2, 2, 2, 1, 1, 1, 1, 1, 1, 1, 1, 1, 1, 1, 1, 1, 1, 1, 1, 1, 1, 1, 1, 1, 1, 1, 1, 1, 1, 1, 1, 1, 1, 1, 1, 1, 1, 1, 1, 1, 1, 1, 1, 1, 1, 1, 1, 1], '~ 10%': [96, 13, 10, 7, 7, 6, 5, 4, 4, 4, 3, 3, 3, 3, 3, 2, 2, 2, 2, 2, 2, 2, 2, 2, 2, 2, 1, 1, 1, 1, 1, 1, 1, 1, 1, 1, 1, 1, 1, 1, 1, 1, 1, 1, 1, 1, 1, 1, 1, 1, 1, 1, 1, 1, 1, 1, 1, 1, 1, 1, 1, 1, 1, 1, 1, 1, 1, 1, 1, 1, 1, 1, 1, 1, 1, 1, 1, 1]}\n",
      "{'~ 100%': [3174], '~ 90%': [2262], '~ 80%': [1707], '~ 70%': [1321], '~ 60%': [1025, 1, 1, 1, 1], '~ 50%': [799, 1, 1, 1, 1, 1, 1, 1, 1, 1, 1], '~ 40%': [624, 2, 2, 2, 1, 1, 1, 1, 1, 1, 1, 1, 1, 1, 1, 1, 1, 1, 1, 1, 1, 1, 1, 1, 1], '~ 30%': [472, 2, 2, 2, 2, 2, 1, 1, 1, 1, 1, 1, 1, 1, 1, 1, 1, 1, 1, 1, 1, 1, 1, 1, 1, 1, 1, 1, 1, 1, 1, 1, 1, 1, 1, 1, 1, 1, 1], '~ 20%': [317, 3, 2, 2, 2, 2, 2, 2, 2, 1, 1, 1, 1, 1, 1, 1, 1, 1, 1, 1, 1, 1, 1, 1, 1, 1, 1, 1, 1, 1, 1, 1, 1, 1, 1, 1, 1, 1, 1, 1, 1, 1, 1, 1, 1, 1, 1, 1, 1, 1, 1, 1, 1, 1, 1], '~ 10%': [124, 11, 7, 6, 5, 4, 3, 3, 3, 3, 3, 2, 2, 2, 2, 2, 2, 2, 2, 2, 1, 1, 1, 1, 1, 1, 1, 1, 1, 1, 1, 1, 1, 1, 1, 1, 1, 1, 1, 1, 1, 1, 1, 1, 1, 1, 1, 1, 1, 1, 1, 1, 1, 1, 1, 1, 1, 1, 1, 1, 1, 1, 1, 1, 1, 1, 1, 1, 1, 1, 1, 1]}\n",
      "{'~ 100%': [3136], '~ 90%': [2235], '~ 80%': [1678, 1], '~ 70%': [1321, 1, 1], '~ 60%': [1035, 1, 1, 1, 1], '~ 50%': [798, 2, 1, 1, 1, 1, 1, 1, 1, 1, 1, 1, 1, 1], '~ 40%': [641, 2, 2, 1, 1, 1, 1, 1, 1, 1, 1, 1, 1, 1, 1, 1, 1, 1], '~ 30%': [474, 2, 2, 2, 2, 2, 2, 1, 1, 1, 1, 1, 1, 1, 1, 1, 1, 1, 1, 1, 1, 1, 1, 1, 1, 1, 1, 1, 1, 1, 1, 1, 1, 1, 1, 1], '~ 20%': [321, 3, 3, 3, 3, 2, 2, 2, 2, 1, 1, 1, 1, 1, 1, 1, 1, 1, 1, 1, 1, 1, 1, 1, 1, 1, 1, 1, 1, 1, 1, 1, 1, 1, 1, 1, 1, 1, 1, 1, 1, 1, 1, 1, 1, 1, 1, 1, 1, 1], '~ 10%': [140, 11, 5, 4, 3, 3, 3, 3, 2, 2, 2, 2, 2, 2, 2, 2, 1, 1, 1, 1, 1, 1, 1, 1, 1, 1, 1, 1, 1, 1, 1, 1, 1, 1, 1, 1, 1, 1, 1, 1, 1, 1, 1, 1, 1, 1, 1, 1, 1, 1, 1, 1, 1, 1, 1, 1, 1, 1, 1, 1, 1, 1, 1, 1, 1, 1, 1, 1]}\n",
      "{'~ 100%': [3186], '~ 90%': [2237], '~ 80%': [1680], '~ 70%': [1298, 1], '~ 60%': [1036, 1, 1], '~ 50%': [800, 2, 1, 1, 1, 1, 1, 1, 1, 1], '~ 40%': [623, 2, 2, 2, 1, 1, 1, 1, 1, 1, 1, 1, 1, 1, 1, 1, 1, 1, 1, 1], '~ 30%': [441, 3, 3, 2, 2, 2, 2, 1, 1, 1, 1, 1, 1, 1, 1, 1, 1, 1, 1, 1, 1, 1, 1, 1, 1, 1, 1, 1, 1, 1, 1, 1, 1, 1, 1, 1, 1, 1, 1, 1], '~ 20%': [279, 7, 4, 4, 3, 3, 2, 2, 2, 2, 2, 2, 1, 1, 1, 1, 1, 1, 1, 1, 1, 1, 1, 1, 1, 1, 1, 1, 1, 1, 1, 1, 1, 1, 1, 1, 1, 1, 1, 1, 1, 1, 1, 1, 1, 1, 1, 1, 1, 1, 1, 1, 1, 1, 1, 1, 1, 1, 1, 1, 1, 1], '~ 10%': [126, 14, 8, 4, 4, 3, 3, 3, 3, 3, 2, 2, 2, 2, 2, 2, 2, 1, 1, 1, 1, 1, 1, 1, 1, 1, 1, 1, 1, 1, 1, 1, 1, 1, 1, 1, 1, 1, 1, 1, 1, 1, 1, 1, 1, 1, 1, 1, 1, 1, 1, 1, 1, 1, 1, 1, 1, 1, 1, 1, 1, 1, 1, 1, 1, 1, 1, 1, 1, 1, 1, 1, 1]}\n",
      "{'~ 100%': [3179], '~ 90%': [2253], '~ 80%': [1686, 1], '~ 70%': [1314, 1, 1, 1], '~ 60%': [1068, 1, 1, 1, 1, 1, 1], '~ 50%': [834, 1, 1, 1, 1, 1, 1, 1, 1, 1, 1, 1, 1], '~ 40%': [634, 3, 2, 2, 2, 1, 1, 1, 1, 1, 1, 1, 1, 1, 1, 1, 1, 1], '~ 30%': [475, 2, 2, 2, 2, 2, 1, 1, 1, 1, 1, 1, 1, 1, 1, 1, 1, 1, 1, 1, 1, 1, 1, 1, 1, 1, 1, 1, 1, 1, 1, 1, 1, 1, 1, 1, 1, 1], '~ 20%': [314, 6, 3, 3, 2, 2, 2, 2, 2, 1, 1, 1, 1, 1, 1, 1, 1, 1, 1, 1, 1, 1, 1, 1, 1, 1, 1, 1, 1, 1, 1, 1, 1, 1, 1, 1, 1, 1, 1, 1, 1, 1, 1, 1, 1, 1, 1, 1, 1, 1], '~ 10%': [115, 8, 7, 7, 4, 4, 4, 4, 3, 3, 3, 2, 2, 2, 2, 2, 2, 2, 2, 2, 2, 1, 1, 1, 1, 1, 1, 1, 1, 1, 1, 1, 1, 1, 1, 1, 1, 1, 1, 1, 1, 1, 1, 1, 1, 1, 1, 1, 1, 1, 1, 1, 1, 1, 1, 1, 1, 1, 1, 1, 1, 1, 1, 1, 1, 1, 1, 1, 1, 1, 1, 1, 1, 1, 1, 1, 1]}\n",
      "{'~ 100%': [3163], '~ 90%': [2247, 1], '~ 80%': [1671, 1], '~ 70%': [1307, 1, 1, 1, 1, 1], '~ 60%': [1038, 1, 1, 1, 1, 1, 1], '~ 50%': [813, 2, 1, 1, 1, 1, 1, 1, 1, 1, 1], '~ 40%': [633, 2, 1, 1, 1, 1, 1, 1, 1, 1, 1, 1], '~ 30%': [472, 2, 2, 2, 2, 1, 1, 1, 1, 1, 1, 1, 1, 1, 1, 1, 1, 1, 1, 1, 1, 1, 1, 1, 1, 1, 1], '~ 20%': [278, 9, 6, 4, 3, 3, 2, 2, 2, 2, 2, 2, 2, 2, 2, 1, 1, 1, 1, 1, 1, 1, 1, 1, 1, 1, 1, 1, 1, 1, 1, 1, 1, 1, 1, 1, 1, 1, 1, 1, 1, 1, 1, 1, 1, 1, 1, 1, 1, 1, 1, 1, 1, 1, 1, 1, 1, 1, 1, 1], '~ 10%': [102, 12, 10, 6, 6, 4, 4, 4, 3, 3, 3, 3, 3, 2, 2, 2, 2, 2, 2, 2, 2, 2, 2, 2, 2, 2, 2, 2, 2, 1, 1, 1, 1, 1, 1, 1, 1, 1, 1, 1, 1, 1, 1, 1, 1, 1, 1, 1, 1, 1, 1, 1, 1, 1, 1, 1, 1, 1, 1, 1, 1, 1, 1, 1, 1, 1, 1, 1, 1, 1, 1, 1, 1, 1, 1, 1, 1, 1, 1, 1]}\n",
      "{'~ 100%': [3168], '~ 90%': [2241], '~ 80%': [1678], '~ 70%': [1302, 1, 1], '~ 60%': [1037, 2, 1, 1, 1], '~ 50%': [820, 1, 1, 1, 1, 1, 1, 1, 1], '~ 40%': [654, 2, 1, 1, 1, 1, 1, 1, 1, 1, 1, 1, 1, 1, 1, 1, 1, 1], '~ 30%': [486, 2, 2, 1, 1, 1, 1, 1, 1, 1, 1, 1, 1, 1, 1, 1, 1, 1, 1, 1, 1, 1, 1, 1, 1, 1, 1, 1, 1], '~ 20%': [316, 5, 4, 4, 3, 2, 2, 2, 2, 2, 1, 1, 1, 1, 1, 1, 1, 1, 1, 1, 1, 1, 1, 1, 1, 1, 1, 1, 1, 1, 1, 1, 1, 1, 1, 1, 1, 1, 1, 1, 1, 1, 1, 1, 1, 1, 1, 1, 1, 1, 1, 1, 1], '~ 10%': [130, 8, 6, 4, 3, 2, 2, 2, 2, 2, 2, 2, 2, 2, 2, 2, 2, 2, 1, 1, 1, 1, 1, 1, 1, 1, 1, 1, 1, 1, 1, 1, 1, 1, 1, 1, 1, 1, 1, 1, 1, 1, 1, 1, 1, 1, 1, 1, 1, 1, 1, 1, 1, 1, 1, 1, 1, 1, 1, 1, 1, 1, 1, 1, 1, 1, 1, 1, 1, 1, 1, 1, 1, 1, 1, 1, 1]}\n",
      "{'~ 100%': [3153], '~ 90%': [2213], '~ 80%': [1699], '~ 70%': [1332, 1], '~ 60%': [1045, 1, 1, 1, 1, 1, 1], '~ 50%': [819, 1, 1, 1, 1, 1, 1, 1, 1, 1], '~ 40%': [629, 2, 2, 1, 1, 1, 1, 1, 1, 1, 1, 1, 1, 1, 1, 1, 1, 1, 1, 1], '~ 30%': [474, 2, 1, 1, 1, 1, 1, 1, 1, 1, 1, 1, 1, 1, 1, 1, 1, 1, 1, 1, 1, 1, 1, 1, 1, 1], '~ 20%': [303, 5, 5, 4, 4, 3, 2, 2, 2, 2, 2, 2, 2, 2, 1, 1, 1, 1, 1, 1, 1, 1, 1, 1, 1, 1, 1, 1, 1, 1, 1, 1, 1, 1, 1, 1, 1, 1, 1, 1, 1, 1, 1, 1, 1, 1, 1, 1, 1, 1], '~ 10%': [144, 7, 5, 4, 4, 4, 4, 4, 3, 3, 3, 2, 2, 2, 2, 2, 2, 2, 2, 1, 1, 1, 1, 1, 1, 1, 1, 1, 1, 1, 1, 1, 1, 1, 1, 1, 1, 1, 1, 1, 1, 1, 1, 1, 1, 1, 1, 1, 1, 1, 1, 1, 1, 1, 1, 1, 1, 1, 1, 1, 1, 1, 1, 1, 1]}\n",
      "{'~ 100%': [3184], '~ 90%': [2246], '~ 80%': [1664], '~ 70%': [1286, 1, 1, 1], '~ 60%': [1037, 1, 1], '~ 50%': [834, 1, 1], '~ 40%': [632, 3, 2, 1, 1, 1, 1, 1, 1, 1, 1, 1, 1, 1, 1, 1, 1, 1], '~ 30%': [475, 3, 2, 1, 1, 1, 1, 1, 1, 1, 1, 1, 1, 1, 1, 1, 1, 1, 1, 1, 1, 1, 1, 1, 1, 1, 1, 1, 1, 1, 1, 1], '~ 20%': [317, 3, 2, 2, 2, 2, 2, 2, 1, 1, 1, 1, 1, 1, 1, 1, 1, 1, 1, 1, 1, 1, 1, 1, 1, 1, 1, 1, 1, 1, 1, 1, 1, 1, 1, 1, 1, 1, 1, 1, 1, 1, 1, 1, 1, 1, 1, 1, 1, 1, 1, 1, 1, 1], '~ 10%': [107, 11, 10, 5, 5, 4, 4, 4, 4, 3, 3, 3, 3, 3, 2, 2, 2, 2, 1, 1, 1, 1, 1, 1, 1, 1, 1, 1, 1, 1, 1, 1, 1, 1, 1, 1, 1, 1, 1, 1, 1, 1, 1, 1, 1, 1, 1, 1, 1, 1, 1, 1, 1, 1, 1, 1, 1, 1, 1, 1, 1, 1, 1, 1, 1, 1, 1, 1, 1, 1, 1, 1, 1, 1, 1, 1]}\n",
      "{'~ 100%': [3158], '~ 90%': [2219, 1], '~ 80%': [1698, 1, 1], '~ 70%': [1321, 1, 1, 1, 1, 1], '~ 60%': [1046, 1, 1, 1, 1, 1, 1], '~ 50%': [843, 1, 1, 1, 1, 1, 1, 1], '~ 40%': [660, 3, 1, 1, 1, 1, 1, 1, 1, 1, 1, 1, 1, 1, 1, 1, 1, 1, 1, 1, 1], '~ 30%': [484, 3, 2, 2, 2, 2, 1, 1, 1, 1, 1, 1, 1, 1, 1, 1, 1, 1, 1, 1, 1, 1, 1, 1, 1, 1, 1, 1, 1, 1, 1, 1, 1], '~ 20%': [316, 3, 3, 3, 2, 2, 2, 2, 2, 2, 2, 1, 1, 1, 1, 1, 1, 1, 1, 1, 1, 1, 1, 1, 1, 1, 1, 1, 1, 1, 1, 1, 1, 1, 1, 1, 1, 1, 1, 1, 1, 1, 1, 1, 1, 1, 1, 1, 1, 1, 1, 1, 1, 1, 1, 1, 1], '~ 10%': [117, 19, 15, 3, 3, 3, 2, 2, 2, 2, 2, 1, 1, 1, 1, 1, 1, 1, 1, 1, 1, 1, 1, 1, 1, 1, 1, 1, 1, 1, 1, 1, 1, 1, 1, 1, 1, 1, 1, 1, 1, 1, 1, 1, 1, 1, 1, 1, 1, 1, 1, 1, 1, 1, 1, 1, 1, 1, 1, 1, 1, 1, 1, 1, 1, 1, 1, 1, 1, 1, 1, 1, 1, 1, 1]}\n",
      "{'~ 100%': [3208], '~ 90%': [2240], '~ 80%': [1683], '~ 70%': [1323, 1], '~ 60%': [1049, 1, 1, 1], '~ 50%': [831, 1, 1, 1, 1, 1, 1, 1, 1, 1, 1, 1], '~ 40%': [666, 2, 1, 1, 1, 1, 1, 1, 1, 1, 1, 1, 1, 1, 1, 1, 1], '~ 30%': [496, 2, 2, 2, 2, 1, 1, 1, 1, 1, 1, 1, 1, 1, 1, 1, 1, 1, 1, 1, 1, 1, 1, 1, 1, 1, 1], '~ 20%': [350, 3, 2, 2, 2, 2, 2, 1, 1, 1, 1, 1, 1, 1, 1, 1, 1, 1, 1, 1, 1, 1, 1, 1, 1, 1, 1, 1, 1, 1, 1, 1, 1, 1, 1, 1, 1, 1, 1, 1, 1, 1], '~ 10%': [142, 10, 4, 4, 4, 3, 3, 3, 3, 3, 3, 2, 2, 2, 2, 2, 2, 2, 2, 2, 1, 1, 1, 1, 1, 1, 1, 1, 1, 1, 1, 1, 1, 1, 1, 1, 1, 1, 1, 1, 1, 1, 1, 1, 1, 1, 1, 1, 1, 1, 1, 1, 1, 1, 1, 1, 1, 1, 1, 1, 1, 1, 1, 1, 1, 1, 1, 1, 1, 1, 1, 1, 1, 1]}\n",
      "{'~ 100%': [3173], '~ 90%': [2236], '~ 80%': [1652, 1], '~ 70%': [1300, 1, 1], '~ 60%': [1039, 1, 1, 1, 1, 1, 1, 1], '~ 50%': [843, 1, 1, 1, 1, 1, 1], '~ 40%': [660, 2, 1, 1, 1, 1, 1, 1, 1, 1, 1, 1, 1, 1, 1, 1, 1, 1], '~ 30%': [475, 2, 2, 2, 1, 1, 1, 1, 1, 1, 1, 1, 1, 1, 1, 1, 1, 1, 1, 1, 1, 1, 1, 1, 1, 1, 1, 1, 1, 1, 1, 1, 1, 1, 1, 1, 1, 1, 1, 1, 1, 1], '~ 20%': [322, 3, 2, 2, 2, 2, 2, 1, 1, 1, 1, 1, 1, 1, 1, 1, 1, 1, 1, 1, 1, 1, 1, 1, 1, 1, 1, 1, 1, 1, 1, 1, 1, 1, 1, 1, 1, 1, 1, 1, 1, 1, 1, 1, 1, 1, 1, 1, 1, 1, 1, 1, 1, 1, 1, 1], '~ 10%': [89, 14, 13, 12, 7, 5, 4, 4, 4, 3, 3, 3, 3, 3, 2, 2, 2, 2, 2, 2, 2, 2, 2, 2, 2, 2, 2, 2, 1, 1, 1, 1, 1, 1, 1, 1, 1, 1, 1, 1, 1, 1, 1, 1, 1, 1, 1, 1, 1, 1, 1, 1, 1, 1, 1, 1, 1, 1, 1, 1, 1, 1, 1, 1, 1, 1, 1, 1, 1, 1, 1, 1, 1, 1, 1, 1, 1, 1, 1, 1, 1, 1, 1, 1, 1, 1, 1]}\n",
      "{'~ 100%': [3123], '~ 90%': [2213], '~ 80%': [1648], '~ 70%': [1316, 1, 1], '~ 60%': [1057, 1, 1, 1, 1], '~ 50%': [824, 2, 2, 1, 1, 1, 1, 1, 1, 1, 1, 1], '~ 40%': [635, 2, 2, 2, 2, 1, 1, 1, 1, 1, 1, 1, 1, 1, 1, 1, 1, 1], '~ 30%': [481, 5, 2, 2, 2, 2, 1, 1, 1, 1, 1, 1, 1, 1, 1, 1, 1, 1, 1, 1, 1, 1, 1, 1, 1, 1, 1, 1, 1, 1, 1, 1, 1], '~ 20%': [321, 5, 2, 2, 2, 2, 2, 2, 1, 1, 1, 1, 1, 1, 1, 1, 1, 1, 1, 1, 1, 1, 1, 1, 1, 1, 1, 1, 1, 1, 1, 1, 1, 1, 1, 1, 1, 1, 1, 1, 1, 1, 1, 1, 1, 1, 1, 1, 1, 1, 1], '~ 10%': [81, 15, 12, 12, 9, 5, 4, 4, 3, 3, 3, 3, 3, 2, 2, 2, 2, 2, 2, 2, 2, 2, 2, 2, 2, 2, 1, 1, 1, 1, 1, 1, 1, 1, 1, 1, 1, 1, 1, 1, 1, 1, 1, 1, 1, 1, 1, 1, 1, 1, 1, 1, 1, 1, 1, 1, 1, 1, 1, 1, 1, 1, 1, 1, 1, 1, 1, 1, 1, 1, 1, 1, 1, 1, 1, 1, 1, 1, 1, 1, 1, 1, 1, 1, 1, 1, 1]}\n",
      "{'~ 100%': [3159], '~ 90%': [2238, 1], '~ 80%': [1664, 1], '~ 70%': [1313, 1], '~ 60%': [1042, 2], '~ 50%': [833, 1, 1, 1, 1], '~ 40%': [645, 2, 2, 1, 1, 1, 1, 1, 1, 1, 1, 1, 1, 1, 1], '~ 30%': [476, 2, 2, 2, 1, 1, 1, 1, 1, 1, 1, 1, 1, 1, 1, 1, 1, 1, 1, 1, 1, 1, 1, 1, 1, 1, 1], '~ 20%': [333, 2, 2, 2, 2, 2, 2, 1, 1, 1, 1, 1, 1, 1, 1, 1, 1, 1, 1, 1, 1, 1, 1, 1, 1, 1, 1, 1, 1, 1, 1, 1, 1, 1, 1, 1, 1, 1, 1, 1, 1, 1, 1], '~ 10%': [145, 10, 4, 4, 4, 3, 3, 3, 2, 2, 2, 2, 2, 2, 2, 2, 2, 2, 2, 2, 2, 1, 1, 1, 1, 1, 1, 1, 1, 1, 1, 1, 1, 1, 1, 1, 1, 1, 1, 1, 1, 1, 1, 1, 1, 1, 1, 1, 1, 1, 1, 1, 1, 1, 1, 1, 1, 1, 1, 1, 1, 1]}\n",
      "{'~ 100%': [3163], '~ 90%': [2221], '~ 80%': [1688], '~ 70%': [1318, 1], '~ 60%': [1034, 1, 1, 1, 1, 1, 1, 1], '~ 50%': [843, 1, 1, 1, 1, 1, 1, 1, 1, 1, 1], '~ 40%': [636, 3, 2, 1, 1, 1, 1, 1, 1, 1, 1, 1, 1, 1, 1, 1, 1, 1, 1], '~ 30%': [488, 3, 3, 2, 2, 2, 2, 1, 1, 1, 1, 1, 1, 1, 1, 1, 1, 1, 1, 1, 1, 1, 1, 1, 1, 1, 1, 1, 1, 1], '~ 20%': [298, 11, 3, 3, 3, 3, 3, 2, 2, 2, 2, 1, 1, 1, 1, 1, 1, 1, 1, 1, 1, 1, 1, 1, 1, 1, 1, 1, 1, 1, 1, 1, 1, 1, 1, 1, 1, 1, 1, 1, 1, 1, 1, 1, 1, 1, 1, 1, 1, 1, 1, 1, 1, 1, 1, 1, 1, 1, 1, 1, 1, 1, 1, 1], '~ 10%': [109, 18, 7, 5, 4, 4, 3, 3, 3, 3, 3, 3, 2, 2, 2, 2, 2, 2, 2, 2, 1, 1, 1, 1, 1, 1, 1, 1, 1, 1, 1, 1, 1, 1, 1, 1, 1, 1, 1, 1, 1, 1, 1, 1, 1, 1, 1, 1, 1, 1, 1, 1, 1, 1, 1, 1, 1, 1, 1, 1, 1, 1, 1, 1, 1, 1, 1, 1, 1, 1, 1, 1, 1, 1, 1, 1, 1, 1, 1, 1, 1, 1, 1, 1]}\n",
      "{'~ 100%': [3224], '~ 90%': [2274], '~ 80%': [1702], '~ 70%': [1316, 1], '~ 60%': [1045, 1, 1, 1, 1, 1, 1], '~ 50%': [845, 1, 1, 1, 1, 1, 1, 1, 1], '~ 40%': [641, 2, 1, 1, 1, 1, 1, 1, 1, 1, 1, 1, 1, 1, 1, 1, 1, 1, 1, 1, 1], '~ 30%': [470, 2, 2, 1, 1, 1, 1, 1, 1, 1, 1, 1, 1, 1, 1, 1, 1, 1, 1, 1, 1, 1, 1, 1, 1, 1, 1, 1, 1], '~ 20%': [327, 2, 2, 2, 2, 2, 2, 1, 1, 1, 1, 1, 1, 1, 1, 1, 1, 1, 1, 1, 1, 1, 1, 1, 1, 1, 1, 1, 1, 1, 1, 1, 1, 1, 1, 1, 1, 1, 1, 1, 1, 1, 1, 1, 1], '~ 10%': [130, 14, 5, 5, 3, 3, 3, 2, 2, 2, 2, 2, 2, 2, 2, 2, 1, 1, 1, 1, 1, 1, 1, 1, 1, 1, 1, 1, 1, 1, 1, 1, 1, 1, 1, 1, 1, 1, 1, 1, 1, 1, 1, 1, 1, 1, 1, 1, 1, 1, 1, 1, 1, 1, 1, 1, 1, 1, 1, 1, 1, 1, 1, 1, 1, 1, 1, 1, 1, 1, 1, 1, 1, 1, 1, 1]}\n",
      "{'~ 100%': [3177], '~ 90%': [2248], '~ 80%': [1691], '~ 70%': [1308], '~ 60%': [1025, 1, 1, 1, 1, 1, 1], '~ 50%': [821, 1, 1, 1, 1, 1, 1, 1, 1, 1, 1, 1], '~ 40%': [643, 3, 2, 1, 1, 1, 1, 1, 1, 1, 1, 1, 1, 1, 1, 1, 1, 1, 1], '~ 30%': [492, 2, 2, 2, 2, 1, 1, 1, 1, 1, 1, 1, 1, 1, 1, 1, 1, 1, 1, 1, 1, 1, 1, 1, 1, 1, 1], '~ 20%': [316, 5, 3, 3, 2, 2, 2, 2, 1, 1, 1, 1, 1, 1, 1, 1, 1, 1, 1, 1, 1, 1, 1, 1, 1, 1, 1, 1, 1, 1, 1, 1, 1, 1, 1, 1, 1, 1, 1, 1, 1], '~ 10%': [30, 29, 23, 19, 9, 8, 8, 7, 5, 4, 4, 4, 4, 3, 3, 3, 2, 2, 2, 2, 2, 2, 2, 2, 1, 1, 1, 1, 1, 1, 1, 1, 1, 1, 1, 1, 1, 1, 1, 1, 1, 1, 1, 1, 1, 1, 1, 1, 1, 1, 1, 1, 1, 1, 1, 1, 1, 1, 1, 1, 1, 1, 1, 1, 1, 1, 1, 1, 1, 1, 1, 1, 1, 1, 1, 1, 1, 1, 1, 1, 1, 1, 1, 1]}\n",
      "{'~ 100%': [3155], '~ 90%': [2208], '~ 80%': [1664, 1], '~ 70%': [1305, 1, 1], '~ 60%': [1021, 1, 1, 1, 1, 1, 1], '~ 50%': [813, 1, 1, 1, 1, 1, 1, 1, 1, 1, 1], '~ 40%': [661, 1, 1, 1, 1, 1, 1, 1, 1, 1, 1, 1, 1, 1, 1, 1, 1, 1], '~ 30%': [496, 5, 3, 2, 2, 2, 2, 1, 1, 1, 1, 1, 1, 1, 1, 1, 1, 1, 1, 1, 1, 1, 1, 1, 1, 1, 1, 1, 1], '~ 20%': [354, 6, 3, 2, 2, 2, 1, 1, 1, 1, 1, 1, 1, 1, 1, 1, 1, 1, 1, 1, 1, 1, 1, 1, 1, 1, 1, 1, 1, 1, 1, 1, 1, 1, 1], '~ 10%': [147, 19, 8, 6, 5, 4, 4, 3, 3, 2, 2, 2, 1, 1, 1, 1, 1, 1, 1, 1, 1, 1, 1, 1, 1, 1, 1, 1, 1, 1, 1, 1, 1, 1, 1, 1, 1, 1, 1, 1, 1, 1, 1, 1, 1, 1, 1, 1, 1, 1, 1, 1, 1, 1, 1, 1, 1, 1, 1]}\n",
      "{'~ 100%': [3223], '~ 90%': [2240], '~ 80%': [1686, 1], '~ 70%': [1285, 1, 1], '~ 60%': [1004, 1, 1, 1, 1, 1, 1], '~ 50%': [810, 1, 1, 1, 1, 1, 1, 1, 1, 1, 1], '~ 40%': [648, 1, 1, 1, 1, 1, 1, 1, 1, 1, 1, 1, 1, 1], '~ 30%': [493, 3, 2, 2, 2, 2, 1, 1, 1, 1, 1, 1, 1, 1, 1, 1, 1, 1, 1, 1, 1, 1, 1], '~ 20%': [338, 5, 3, 3, 2, 2, 2, 2, 2, 2, 2, 1, 1, 1, 1, 1, 1, 1, 1, 1, 1, 1, 1, 1, 1, 1, 1, 1, 1, 1, 1, 1, 1, 1, 1, 1, 1, 1, 1, 1, 1], '~ 10%': [142, 7, 7, 4, 4, 3, 3, 3, 3, 3, 2, 2, 2, 2, 2, 2, 2, 2, 2, 2, 2, 2, 1, 1, 1, 1, 1, 1, 1, 1, 1, 1, 1, 1, 1, 1, 1, 1, 1, 1, 1, 1, 1, 1, 1, 1, 1, 1, 1, 1, 1, 1, 1, 1, 1, 1, 1, 1, 1, 1, 1, 1, 1]}\n",
      "{'~ 100%': [3107], '~ 90%': [2198], '~ 80%': [1680], '~ 70%': [1316, 1, 1, 1], '~ 60%': [1025, 3, 1, 1, 1, 1, 1, 1, 1], '~ 50%': [814, 2, 1, 1, 1, 1, 1, 1, 1, 1, 1, 1, 1, 1], '~ 40%': [642, 1, 1, 1, 1, 1, 1, 1, 1, 1, 1, 1, 1, 1, 1, 1, 1, 1, 1, 1, 1, 1, 1, 1, 1, 1, 1, 1], '~ 30%': [497, 2, 2, 1, 1, 1, 1, 1, 1, 1, 1, 1, 1, 1, 1, 1, 1, 1, 1, 1, 1, 1, 1, 1, 1, 1, 1, 1, 1, 1, 1, 1, 1], '~ 20%': [355, 4, 3, 2, 1, 1, 1, 1, 1, 1, 1, 1, 1, 1, 1, 1, 1, 1, 1, 1, 1, 1, 1, 1, 1, 1, 1, 1, 1, 1, 1, 1, 1, 1, 1, 1, 1, 1, 1], '~ 10%': [159, 8, 5, 5, 4, 3, 3, 3, 3, 3, 3, 2, 2, 2, 2, 2, 2, 2, 2, 1, 1, 1, 1, 1, 1, 1, 1, 1, 1, 1, 1, 1, 1, 1, 1, 1, 1, 1, 1, 1, 1, 1, 1, 1, 1, 1, 1, 1, 1, 1, 1, 1, 1, 1, 1, 1]}\n",
      "{'~ 100%': [3165], '~ 90%': [2255], '~ 80%': [1695, 1], '~ 70%': [1346, 1, 1], '~ 60%': [1029, 1, 1, 1, 1, 1], '~ 50%': [816, 1, 1, 1, 1, 1, 1, 1], '~ 40%': [638, 1, 1, 1, 1, 1, 1, 1, 1, 1, 1, 1, 1, 1], '~ 30%': [488, 2, 1, 1, 1, 1, 1, 1, 1, 1, 1, 1, 1, 1, 1, 1, 1, 1, 1, 1, 1, 1, 1, 1, 1, 1], '~ 20%': [326, 5, 4, 3, 3, 2, 2, 2, 2, 2, 2, 2, 1, 1, 1, 1, 1, 1, 1, 1, 1, 1, 1, 1, 1, 1, 1, 1, 1, 1, 1, 1, 1, 1, 1, 1, 1, 1, 1, 1, 1, 1, 1, 1, 1, 1, 1], '~ 10%': [107, 17, 5, 5, 5, 5, 4, 4, 4, 4, 4, 3, 3, 3, 3, 2, 2, 2, 2, 2, 2, 2, 2, 2, 2, 2, 2, 2, 2, 2, 2, 2, 2, 1, 1, 1, 1, 1, 1, 1, 1, 1, 1, 1, 1, 1, 1, 1, 1, 1, 1, 1, 1, 1, 1, 1, 1, 1, 1, 1, 1, 1, 1, 1, 1, 1, 1, 1, 1, 1, 1, 1, 1, 1, 1, 1, 1, 1, 1]}\n",
      "{'~ 100%': [3167], '~ 90%': [2205], '~ 80%': [1669], '~ 70%': [1315, 1, 1, 1, 1], '~ 60%': [1034, 1, 1, 1, 1, 1, 1, 1], '~ 50%': [825, 1, 1, 1, 1, 1, 1, 1, 1, 1, 1], '~ 40%': [678, 1, 1, 1, 1, 1, 1, 1, 1, 1, 1, 1], '~ 30%': [499, 3, 2, 2, 1, 1, 1, 1, 1, 1, 1, 1, 1, 1, 1, 1, 1, 1, 1, 1, 1, 1, 1, 1, 1, 1, 1, 1, 1], '~ 20%': [346, 3, 2, 2, 2, 2, 1, 1, 1, 1, 1, 1, 1, 1, 1, 1, 1, 1, 1, 1, 1, 1, 1, 1, 1, 1, 1, 1, 1, 1, 1, 1, 1, 1, 1, 1, 1, 1, 1, 1, 1], '~ 10%': [158, 11, 6, 3, 3, 3, 3, 2, 2, 2, 2, 2, 2, 2, 2, 1, 1, 1, 1, 1, 1, 1, 1, 1, 1, 1, 1, 1, 1, 1, 1, 1, 1, 1, 1, 1, 1, 1, 1, 1, 1, 1, 1, 1, 1, 1, 1, 1, 1, 1, 1, 1, 1, 1, 1, 1, 1, 1, 1, 1, 1, 1, 1, 1]}\n",
      "{'~ 100%': [3145], '~ 90%': [2216], '~ 80%': [1644, 1], '~ 70%': [1299, 1, 1, 1, 1], '~ 60%': [1004, 1, 1, 1, 1, 1, 1, 1, 1], '~ 50%': [798, 2, 1, 1, 1, 1, 1, 1, 1, 1, 1], '~ 40%': [633, 1, 1, 1, 1, 1, 1, 1, 1, 1, 1, 1, 1, 1, 1, 1, 1, 1, 1, 1], '~ 30%': [474, 3, 2, 2, 2, 2, 1, 1, 1, 1, 1, 1, 1, 1, 1, 1, 1, 1, 1, 1, 1, 1, 1, 1, 1, 1, 1, 1, 1, 1, 1], '~ 20%': [326, 5, 4, 3, 3, 2, 2, 2, 2, 1, 1, 1, 1, 1, 1, 1, 1, 1, 1, 1, 1, 1, 1, 1, 1, 1, 1, 1, 1, 1, 1, 1, 1, 1, 1, 1, 1, 1, 1, 1, 1, 1, 1, 1, 1, 1, 1, 1, 1], '~ 10%': [139, 4, 4, 3, 3, 3, 3, 2, 2, 2, 2, 2, 2, 2, 2, 1, 1, 1, 1, 1, 1, 1, 1, 1, 1, 1, 1, 1, 1, 1, 1, 1, 1, 1, 1, 1, 1, 1, 1, 1, 1, 1, 1, 1, 1, 1, 1, 1, 1, 1, 1, 1, 1, 1, 1, 1, 1, 1, 1, 1, 1, 1, 1, 1, 1, 1, 1, 1, 1, 1, 1, 1, 1, 1, 1, 1, 1, 1]}\n",
      "{'~ 100%': [3167], '~ 90%': [2240], '~ 80%': [1677], '~ 70%': [1309, 1], '~ 60%': [1053, 1, 1, 1, 1, 1], '~ 50%': [823, 2, 1, 1, 1, 1, 1, 1, 1, 1, 1], '~ 40%': [618, 2, 2, 1, 1, 1, 1, 1, 1, 1, 1, 1, 1, 1, 1, 1, 1, 1], '~ 30%': [468, 2, 2, 2, 1, 1, 1, 1, 1, 1, 1, 1, 1, 1, 1, 1, 1, 1, 1, 1, 1, 1, 1, 1, 1], '~ 20%': [310, 3, 3, 2, 2, 2, 2, 1, 1, 1, 1, 1, 1, 1, 1, 1, 1, 1, 1, 1, 1, 1, 1, 1, 1, 1, 1, 1, 1, 1, 1, 1, 1, 1, 1, 1, 1, 1, 1, 1, 1, 1, 1], '~ 10%': [41, 38, 36, 11, 7, 6, 6, 5, 5, 5, 4, 3, 2, 2, 2, 2, 2, 2, 2, 2, 2, 2, 1, 1, 1, 1, 1, 1, 1, 1, 1, 1, 1, 1, 1, 1, 1, 1, 1, 1, 1, 1, 1, 1, 1, 1, 1, 1, 1, 1, 1, 1, 1, 1, 1, 1, 1, 1, 1, 1, 1, 1, 1, 1]}\n",
      "{'~ 100%': [3152], '~ 90%': [2206], '~ 80%': [1660], '~ 70%': [1285, 1], '~ 60%': [1018, 1, 1], '~ 50%': [830, 1, 1, 1, 1, 1], '~ 40%': [655, 2, 1, 1, 1, 1, 1, 1, 1, 1, 1], '~ 30%': [498, 2, 1, 1, 1, 1, 1, 1, 1, 1, 1, 1, 1, 1, 1], '~ 20%': [324, 5, 4, 3, 2, 2, 2, 1, 1, 1, 1, 1, 1, 1, 1, 1, 1, 1, 1, 1, 1, 1, 1, 1, 1, 1, 1, 1, 1, 1, 1, 1, 1, 1, 1, 1, 1, 1], '~ 10%': [162, 5, 5, 4, 4, 3, 2, 2, 2, 2, 2, 2, 2, 2, 2, 2, 1, 1, 1, 1, 1, 1, 1, 1, 1, 1, 1, 1, 1, 1, 1, 1, 1, 1, 1, 1, 1, 1, 1, 1, 1, 1, 1, 1, 1, 1, 1, 1, 1, 1, 1, 1, 1, 1, 1, 1, 1]}\n",
      "{'~ 100%': [3169], '~ 90%': [2237], '~ 80%': [1683], '~ 70%': [1313, 1], '~ 60%': [1038, 1, 1, 1, 1], '~ 50%': [824, 1, 1, 1, 1], '~ 40%': [644, 1, 1, 1, 1, 1, 1, 1, 1, 1, 1, 1, 1], '~ 30%': [473, 3, 2, 1, 1, 1, 1, 1, 1, 1, 1, 1, 1, 1, 1, 1, 1, 1, 1, 1, 1, 1, 1, 1, 1, 1, 1, 1], '~ 20%': [310, 5, 3, 3, 3, 2, 2, 2, 2, 2, 1, 1, 1, 1, 1, 1, 1, 1, 1, 1, 1, 1, 1, 1, 1, 1, 1, 1, 1, 1, 1, 1, 1, 1, 1, 1, 1, 1, 1, 1, 1, 1, 1, 1], '~ 10%': [136, 5, 5, 3, 3, 3, 3, 3, 2, 2, 2, 2, 2, 2, 2, 2, 2, 2, 2, 2, 1, 1, 1, 1, 1, 1, 1, 1, 1, 1, 1, 1, 1, 1, 1, 1, 1, 1, 1, 1, 1, 1, 1, 1, 1, 1, 1, 1, 1, 1, 1, 1, 1, 1, 1, 1, 1, 1, 1, 1, 1, 1, 1, 1, 1, 1, 1, 1, 1, 1, 1, 1]}\n",
      "{'~ 100%': [3149], '~ 90%': [2240], '~ 80%': [1684], '~ 70%': [1277, 1, 1, 1, 1], '~ 60%': [1000, 1, 1, 1, 1, 1, 1, 1, 1], '~ 50%': [804, 1, 1, 1, 1, 1, 1, 1, 1, 1, 1, 1], '~ 40%': [637, 1, 1, 1, 1, 1, 1, 1, 1, 1, 1, 1, 1, 1, 1], '~ 30%': [512, 2, 1, 1, 1, 1, 1, 1, 1, 1, 1, 1, 1, 1, 1, 1, 1, 1, 1], '~ 20%': [350, 3, 2, 2, 2, 2, 2, 1, 1, 1, 1, 1, 1, 1, 1, 1, 1, 1, 1, 1, 1, 1, 1, 1, 1, 1, 1, 1, 1, 1, 1, 1, 1, 1, 1, 1, 1, 1, 1], '~ 10%': [106, 37, 10, 8, 7, 6, 4, 3, 2, 2, 2, 2, 2, 2, 2, 2, 2, 2, 2, 1, 1, 1, 1, 1, 1, 1, 1, 1, 1, 1, 1, 1, 1, 1, 1, 1, 1, 1, 1, 1, 1, 1, 1, 1, 1, 1, 1, 1, 1, 1, 1, 1, 1, 1, 1, 1, 1, 1, 1, 1, 1, 1, 1, 1, 1, 1, 1, 1, 1]}\n",
      "{'~ 100%': [3178], '~ 90%': [2243], '~ 80%': [1663], '~ 70%': [1282, 1], '~ 60%': [1055, 1, 1, 1, 1], '~ 50%': [828, 1, 1, 1, 1, 1, 1, 1, 1, 1], '~ 40%': [664, 1, 1, 1, 1, 1, 1, 1, 1], '~ 30%': [508, 5, 1, 1, 1, 1, 1, 1, 1, 1, 1, 1, 1, 1, 1, 1, 1, 1, 1, 1, 1, 1, 1, 1], '~ 20%': [329, 4, 2, 2, 2, 2, 2, 2, 2, 1, 1, 1, 1, 1, 1, 1, 1, 1, 1, 1, 1, 1, 1, 1, 1, 1, 1, 1, 1, 1, 1, 1, 1, 1, 1, 1, 1, 1, 1, 1], '~ 10%': [157, 5, 4, 3, 3, 3, 2, 2, 2, 2, 2, 2, 2, 2, 2, 2, 2, 2, 2, 2, 2, 1, 1, 1, 1, 1, 1, 1, 1, 1, 1, 1, 1, 1, 1, 1, 1, 1, 1, 1, 1, 1, 1, 1, 1, 1, 1, 1, 1, 1, 1, 1, 1, 1, 1, 1, 1, 1, 1, 1]}\n",
      "{'~ 100%': [3160], '~ 90%': [2219], '~ 80%': [1674, 1], '~ 70%': [1306, 1, 1, 1, 1, 1], '~ 60%': [1046, 1, 1, 1, 1, 1, 1], '~ 50%': [827, 3, 1, 1, 1, 1, 1, 1, 1, 1, 1, 1], '~ 40%': [657, 3, 2, 1, 1, 1, 1, 1, 1, 1, 1, 1, 1, 1], '~ 30%': [499, 3, 2, 2, 1, 1, 1, 1, 1, 1, 1, 1, 1, 1, 1, 1, 1], '~ 20%': [350, 6, 3, 2, 2, 2, 2, 2, 2, 2, 2, 2, 1, 1, 1, 1, 1, 1, 1, 1, 1, 1, 1, 1, 1, 1, 1, 1, 1, 1, 1, 1, 1, 1], '~ 10%': [56, 24, 11, 10, 7, 6, 6, 5, 4, 4, 4, 3, 3, 3, 3, 3, 3, 2, 2, 2, 2, 2, 2, 2, 2, 2, 2, 2, 2, 2, 2, 2, 2, 1, 1, 1, 1, 1, 1, 1, 1, 1, 1, 1, 1, 1, 1, 1, 1, 1, 1, 1, 1, 1, 1, 1, 1, 1, 1, 1, 1, 1, 1, 1, 1, 1, 1, 1, 1, 1, 1, 1, 1, 1, 1, 1, 1, 1, 1, 1, 1, 1, 1, 1]}\n",
      "{'~ 100%': [3124], '~ 90%': [2219], '~ 80%': [1674, 1], '~ 70%': [1310, 1, 1], '~ 60%': [1033, 1, 1, 1, 1, 1, 1], '~ 50%': [814, 1, 1, 1, 1, 1, 1, 1, 1, 1], '~ 40%': [630, 2, 1, 1, 1, 1, 1, 1, 1, 1, 1, 1, 1, 1, 1, 1, 1, 1, 1, 1], '~ 30%': [480, 3, 3, 2, 2, 1, 1, 1, 1, 1, 1, 1, 1, 1, 1, 1, 1, 1, 1, 1, 1, 1, 1, 1, 1, 1, 1, 1, 1], '~ 20%': [328, 5, 3, 3, 3, 2, 2, 2, 1, 1, 1, 1, 1, 1, 1, 1, 1, 1, 1, 1, 1, 1, 1, 1, 1, 1, 1, 1, 1, 1, 1, 1, 1, 1, 1, 1, 1, 1, 1, 1, 1, 1, 1], '~ 10%': [147, 9, 4, 3, 3, 3, 3, 3, 2, 2, 2, 2, 2, 2, 2, 1, 1, 1, 1, 1, 1, 1, 1, 1, 1, 1, 1, 1, 1, 1, 1, 1, 1, 1, 1, 1, 1, 1, 1, 1, 1, 1, 1, 1, 1, 1, 1, 1, 1, 1, 1, 1, 1, 1, 1, 1, 1, 1]}\n",
      "{'~ 100%': [3149], '~ 90%': [2221], '~ 80%': [1670], '~ 70%': [1294], '~ 60%': [1006, 1, 1, 1], '~ 50%': [809, 1, 1, 1, 1], '~ 40%': [651, 1, 1, 1, 1, 1, 1, 1, 1, 1, 1], '~ 30%': [492, 4, 2, 1, 1, 1, 1, 1, 1, 1, 1, 1, 1, 1, 1, 1, 1, 1, 1, 1, 1, 1, 1, 1, 1], '~ 20%': [340, 3, 3, 2, 2, 2, 2, 2, 2, 2, 1, 1, 1, 1, 1, 1, 1, 1, 1, 1, 1, 1, 1, 1, 1, 1, 1, 1, 1, 1, 1, 1, 1, 1, 1, 1, 1, 1, 1, 1, 1, 1, 1, 1], '~ 10%': [170, 5, 5, 4, 2, 2, 2, 2, 2, 2, 2, 2, 2, 1, 1, 1, 1, 1, 1, 1, 1, 1, 1, 1, 1, 1, 1, 1, 1, 1, 1, 1, 1, 1, 1, 1, 1, 1, 1, 1, 1, 1, 1, 1, 1, 1, 1, 1, 1, 1, 1, 1, 1, 1, 1, 1, 1, 1, 1, 1, 1, 1, 1, 1, 1, 1, 1, 1, 1]}\n",
      "{'~ 100%': [3144], '~ 90%': [2215], '~ 80%': [1674, 1], '~ 70%': [1298, 1, 1], '~ 60%': [1042, 1, 1, 1, 1, 1, 1, 1], '~ 50%': [821, 2, 1, 1, 1, 1, 1, 1, 1, 1, 1, 1, 1], '~ 40%': [659, 2, 2, 1, 1, 1, 1, 1, 1, 1, 1, 1, 1, 1, 1, 1, 1], '~ 30%': [493, 2, 1, 1, 1, 1, 1, 1, 1, 1, 1, 1, 1, 1, 1, 1, 1, 1, 1, 1, 1, 1, 1, 1, 1, 1, 1, 1, 1, 1, 1, 1, 1], '~ 20%': [317, 6, 5, 2, 2, 2, 2, 2, 2, 2, 2, 2, 1, 1, 1, 1, 1, 1, 1, 1, 1, 1, 1, 1, 1, 1, 1, 1, 1, 1, 1, 1, 1, 1, 1, 1, 1, 1, 1, 1, 1, 1, 1, 1, 1, 1, 1, 1, 1, 1, 1, 1], '~ 10%': [127, 5, 5, 4, 4, 3, 3, 3, 2, 2, 2, 2, 2, 2, 2, 2, 2, 2, 2, 2, 2, 2, 2, 2, 2, 2, 2, 1, 1, 1, 1, 1, 1, 1, 1, 1, 1, 1, 1, 1, 1, 1, 1, 1, 1, 1, 1, 1, 1, 1, 1, 1, 1, 1, 1, 1, 1, 1, 1, 1, 1, 1, 1, 1, 1, 1, 1, 1, 1, 1, 1, 1, 1, 1, 1, 1, 1, 1, 1, 1]}\n",
      "{'~ 100%': [3164], '~ 90%': [2232], '~ 80%': [1690], '~ 70%': [1303, 1], '~ 60%': [1023, 1, 1, 1], '~ 50%': [830, 1, 1, 1, 1, 1, 1, 1, 1], '~ 40%': [655, 1, 1, 1, 1, 1, 1, 1, 1, 1, 1, 1, 1, 1, 1], '~ 30%': [465, 4, 4, 3, 2, 2, 2, 1, 1, 1, 1, 1, 1, 1, 1, 1, 1, 1, 1, 1, 1, 1, 1, 1, 1, 1, 1, 1, 1, 1], '~ 20%': [304, 5, 4, 4, 3, 3, 3, 3, 2, 2, 2, 2, 2, 2, 2, 1, 1, 1, 1, 1, 1, 1, 1, 1, 1, 1, 1, 1, 1, 1, 1, 1, 1, 1, 1, 1, 1, 1, 1, 1, 1, 1, 1, 1, 1, 1, 1, 1, 1, 1, 1, 1, 1, 1], '~ 10%': [31, 15, 14, 10, 7, 6, 5, 5, 5, 5, 4, 4, 4, 4, 4, 4, 3, 3, 3, 3, 3, 3, 3, 2, 2, 2, 2, 2, 2, 2, 2, 2, 2, 2, 2, 2, 2, 2, 2, 1, 1, 1, 1, 1, 1, 1, 1, 1, 1, 1, 1, 1, 1, 1, 1, 1, 1, 1, 1, 1, 1, 1, 1, 1, 1, 1, 1, 1, 1, 1, 1, 1, 1, 1, 1, 1, 1, 1, 1, 1, 1, 1, 1, 1, 1, 1, 1, 1, 1, 1, 1, 1, 1, 1, 1, 1, 1, 1, 1, 1, 1, 1, 1]}\n",
      "{'~ 100%': [3158], '~ 90%': [2250], '~ 80%': [1670], '~ 70%': [1298, 1, 1, 1, 1], '~ 60%': [1028, 1, 1, 1, 1, 1], '~ 50%': [826, 1, 1, 1, 1, 1, 1, 1], '~ 40%': [639, 3, 2, 1, 1, 1, 1, 1, 1], '~ 30%': [458, 3, 3, 2, 2, 2, 1, 1, 1, 1, 1, 1, 1, 1, 1, 1, 1, 1, 1, 1, 1, 1, 1, 1, 1, 1, 1, 1], '~ 20%': [340, 3, 2, 2, 2, 2, 2, 2, 2, 1, 1, 1, 1, 1, 1, 1, 1, 1, 1, 1, 1, 1, 1, 1, 1, 1, 1, 1, 1, 1, 1, 1, 1, 1, 1, 1, 1, 1, 1, 1, 1, 1, 1], '~ 10%': [114, 12, 8, 5, 5, 4, 4, 3, 2, 2, 2, 2, 2, 2, 2, 2, 2, 2, 2, 2, 2, 1, 1, 1, 1, 1, 1, 1, 1, 1, 1, 1, 1, 1, 1, 1, 1, 1, 1, 1, 1, 1, 1, 1, 1, 1, 1, 1, 1, 1, 1, 1, 1, 1, 1, 1, 1, 1, 1, 1, 1, 1, 1, 1, 1, 1, 1, 1, 1, 1, 1, 1, 1, 1, 1, 1, 1]}\n",
      "{'~ 100%': [3154], '~ 90%': [2222], '~ 80%': [1671, 1], '~ 70%': [1297, 1, 1], '~ 60%': [1018, 1, 1, 1, 1, 1], '~ 50%': [800, 1, 1, 1, 1, 1], '~ 40%': [632, 2, 2, 1, 1, 1, 1, 1, 1, 1, 1, 1, 1, 1, 1, 1], '~ 30%': [494, 2, 1, 1, 1, 1, 1, 1, 1, 1, 1, 1, 1, 1, 1, 1, 1, 1, 1, 1, 1, 1, 1], '~ 20%': [341, 3, 2, 2, 1, 1, 1, 1, 1, 1, 1, 1, 1, 1, 1, 1, 1, 1, 1, 1, 1, 1, 1, 1, 1, 1, 1, 1, 1, 1, 1, 1, 1, 1, 1, 1, 1, 1, 1, 1, 1], '~ 10%': [153, 10, 8, 4, 3, 3, 3, 2, 2, 2, 2, 2, 2, 1, 1, 1, 1, 1, 1, 1, 1, 1, 1, 1, 1, 1, 1, 1, 1, 1, 1, 1, 1, 1, 1, 1, 1, 1, 1, 1, 1, 1, 1, 1, 1, 1, 1, 1, 1, 1, 1, 1, 1, 1, 1, 1]}\n",
      "{'~ 100%': [3165], '~ 90%': [2257], '~ 80%': [1675], '~ 70%': [1287], '~ 60%': [1029, 1, 1], '~ 50%': [829, 1, 1, 1, 1, 1, 1, 1, 1, 1, 1], '~ 40%': [658, 2, 1, 1, 1, 1, 1, 1, 1, 1, 1, 1, 1, 1, 1, 1, 1], '~ 30%': [486, 2, 2, 2, 2, 2, 1, 1, 1, 1, 1, 1, 1, 1, 1, 1, 1, 1, 1, 1, 1, 1, 1, 1, 1, 1, 1, 1, 1, 1, 1, 1, 1, 1, 1, 1], '~ 20%': [348, 2, 2, 2, 2, 2, 2, 1, 1, 1, 1, 1, 1, 1, 1, 1, 1, 1, 1, 1, 1, 1, 1, 1, 1, 1, 1, 1, 1, 1, 1, 1, 1, 1, 1, 1, 1, 1, 1, 1, 1, 1, 1, 1, 1, 1], '~ 10%': [142, 10, 9, 5, 5, 3, 3, 2, 2, 2, 2, 2, 2, 2, 1, 1, 1, 1, 1, 1, 1, 1, 1, 1, 1, 1, 1, 1, 1, 1, 1, 1, 1, 1, 1, 1, 1, 1, 1, 1, 1, 1, 1, 1, 1, 1, 1, 1, 1, 1, 1, 1, 1, 1, 1, 1, 1, 1, 1, 1, 1, 1, 1, 1, 1, 1, 1, 1]}\n",
      "{'~ 100%': [3176], '~ 90%': [2249], '~ 80%': [1687, 1, 1], '~ 70%': [1302, 1], '~ 60%': [1032, 1, 1, 1, 1], '~ 50%': [808, 1, 1, 1, 1, 1], '~ 40%': [619, 1, 1, 1, 1, 1, 1, 1, 1, 1, 1, 1, 1, 1], '~ 30%': [477, 4, 2, 1, 1, 1, 1, 1, 1, 1, 1, 1, 1, 1, 1, 1, 1, 1, 1, 1, 1, 1, 1, 1, 1, 1, 1], '~ 20%': [332, 5, 2, 2, 2, 2, 2, 1, 1, 1, 1, 1, 1, 1, 1, 1, 1, 1, 1, 1, 1, 1, 1, 1, 1, 1, 1, 1, 1, 1, 1, 1, 1, 1, 1, 1, 1, 1, 1, 1, 1, 1, 1, 1, 1, 1], '~ 10%': [86, 37, 7, 4, 4, 4, 4, 3, 3, 3, 3, 3, 2, 2, 2, 2, 2, 2, 2, 2, 2, 1, 1, 1, 1, 1, 1, 1, 1, 1, 1, 1, 1, 1, 1, 1, 1, 1, 1, 1, 1, 1, 1, 1, 1, 1, 1, 1, 1, 1, 1, 1, 1, 1, 1, 1, 1, 1, 1, 1, 1, 1, 1, 1, 1, 1, 1, 1, 1, 1, 1, 1, 1, 1, 1]}\n",
      "{'~ 100%': [3165], '~ 90%': [2238], '~ 80%': [1686], '~ 70%': [1310, 2, 1], '~ 60%': [1046, 1, 1, 1, 1, 1, 1], '~ 50%': [844, 1, 1, 1, 1, 1, 1, 1, 1, 1, 1, 1, 1], '~ 40%': [635, 2, 1, 1, 1, 1, 1, 1, 1, 1, 1, 1, 1, 1, 1, 1, 1, 1, 1, 1, 1, 1, 1, 1, 1, 1, 1, 1], '~ 30%': [470, 4, 1, 1, 1, 1, 1, 1, 1, 1, 1, 1, 1, 1, 1, 1, 1, 1, 1, 1, 1, 1, 1, 1, 1, 1, 1, 1, 1, 1, 1, 1, 1, 1, 1, 1], '~ 20%': [314, 4, 3, 3, 2, 2, 2, 2, 2, 2, 1, 1, 1, 1, 1, 1, 1, 1, 1, 1, 1, 1, 1, 1, 1, 1, 1, 1, 1, 1, 1, 1, 1, 1, 1, 1, 1, 1, 1, 1, 1, 1, 1, 1, 1, 1], '~ 10%': [146, 7, 5, 5, 4, 4, 4, 3, 3, 2, 2, 2, 2, 2, 2, 2, 2, 2, 2, 2, 2, 2, 2, 1, 1, 1, 1, 1, 1, 1, 1, 1, 1, 1, 1, 1, 1, 1, 1, 1, 1, 1, 1, 1, 1, 1, 1, 1, 1, 1, 1, 1, 1, 1, 1, 1, 1, 1, 1, 1, 1, 1, 1, 1, 1, 1, 1, 1, 1]}\n",
      "{'~ 100%': [3158], '~ 90%': [2226], '~ 80%': [1659], '~ 70%': [1305, 1, 1, 1], '~ 60%': [1032, 1, 1, 1], '~ 50%': [826, 1, 1, 1, 1, 1, 1, 1, 1, 1], '~ 40%': [667, 3, 1, 1, 1, 1, 1, 1, 1, 1, 1, 1, 1, 1], '~ 30%': [477, 3, 2, 2, 2, 2, 2, 2, 2, 1, 1, 1, 1, 1, 1, 1, 1, 1, 1, 1, 1, 1, 1, 1, 1, 1, 1, 1, 1, 1], '~ 20%': [331, 3, 3, 2, 2, 2, 2, 2, 2, 1, 1, 1, 1, 1, 1, 1, 1, 1, 1, 1, 1, 1, 1, 1, 1, 1, 1, 1, 1, 1, 1, 1, 1, 1, 1, 1, 1, 1, 1, 1, 1, 1, 1, 1, 1], '~ 10%': [125, 14, 8, 5, 4, 3, 3, 3, 3, 2, 2, 2, 2, 2, 2, 2, 2, 1, 1, 1, 1, 1, 1, 1, 1, 1, 1, 1, 1, 1, 1, 1, 1, 1, 1, 1, 1, 1, 1, 1, 1, 1, 1, 1, 1, 1, 1, 1, 1, 1, 1, 1, 1, 1, 1, 1, 1, 1, 1, 1, 1, 1, 1, 1, 1, 1, 1, 1, 1, 1, 1, 1, 1, 1]}\n",
      "{'~ 100%': [3134], '~ 90%': [2245], '~ 80%': [1703], '~ 70%': [1363], '~ 60%': [1082, 1, 1], '~ 50%': [848, 1, 1, 1, 1, 1, 1, 1, 1], '~ 40%': [664, 2, 1, 1, 1, 1, 1, 1, 1, 1, 1, 1, 1, 1], '~ 30%': [509, 2, 2, 2, 1, 1, 1, 1, 1, 1, 1, 1, 1, 1, 1, 1, 1, 1, 1, 1, 1, 1, 1, 1, 1, 1, 1, 1], '~ 20%': [349, 5, 3, 2, 2, 2, 2, 2, 1, 1, 1, 1, 1, 1, 1, 1, 1, 1, 1, 1, 1, 1, 1, 1, 1, 1, 1, 1, 1, 1, 1, 1, 1, 1, 1, 1], '~ 10%': [174, 5, 4, 3, 3, 2, 2, 2, 2, 2, 2, 1, 1, 1, 1, 1, 1, 1, 1, 1, 1, 1, 1, 1, 1, 1, 1, 1, 1, 1, 1, 1, 1, 1, 1, 1, 1, 1, 1, 1, 1, 1, 1, 1, 1, 1, 1, 1, 1, 1, 1, 1, 1, 1, 1, 1, 1, 1, 1]}\n",
      "{'~ 100%': [3193], '~ 90%': [2280], '~ 80%': [1710, 1, 1], '~ 70%': [1327, 1, 1], '~ 60%': [1043, 1, 1, 1], '~ 50%': [816, 1, 1, 1, 1, 1, 1, 1, 1], '~ 40%': [649, 2, 1, 1, 1, 1, 1, 1, 1, 1, 1, 1, 1, 1, 1], '~ 30%': [478, 3, 2, 2, 2, 2, 2, 1, 1, 1, 1, 1, 1, 1, 1, 1, 1, 1, 1, 1, 1, 1, 1, 1, 1, 1, 1, 1, 1, 1, 1, 1, 1, 1, 1, 1], '~ 20%': [305, 9, 3, 3, 3, 2, 2, 2, 2, 2, 2, 1, 1, 1, 1, 1, 1, 1, 1, 1, 1, 1, 1, 1, 1, 1, 1, 1, 1, 1, 1, 1, 1, 1, 1, 1, 1, 1, 1, 1, 1, 1, 1, 1, 1, 1, 1, 1, 1, 1, 1, 1, 1, 1, 1], '~ 10%': [65, 27, 21, 6, 5, 5, 5, 5, 4, 4, 3, 3, 3, 3, 3, 3, 3, 3, 3, 2, 2, 2, 2, 2, 2, 2, 2, 2, 1, 1, 1, 1, 1, 1, 1, 1, 1, 1, 1, 1, 1, 1, 1, 1, 1, 1, 1, 1, 1, 1, 1, 1, 1, 1, 1, 1, 1, 1, 1, 1, 1, 1, 1, 1, 1, 1, 1, 1, 1, 1, 1, 1, 1, 1, 1, 1, 1, 1, 1, 1, 1]}\n",
      "{'~ 100%': [3168], '~ 90%': [2218], '~ 80%': [1675], '~ 70%': [1281, 1], '~ 60%': [1011, 1, 1, 1, 1, 1, 1], '~ 50%': [805, 1, 1, 1, 1, 1, 1, 1, 1, 1], '~ 40%': [630, 2, 1, 1, 1, 1, 1, 1, 1, 1, 1, 1, 1, 1, 1, 1, 1, 1, 1, 1], '~ 30%': [467, 2, 2, 2, 1, 1, 1, 1, 1, 1, 1, 1, 1, 1, 1, 1, 1, 1, 1, 1, 1, 1, 1, 1, 1, 1, 1, 1, 1, 1, 1, 1, 1, 1], '~ 20%': [325, 4, 2, 2, 2, 2, 2, 2, 2, 2, 2, 2, 1, 1, 1, 1, 1, 1, 1, 1, 1, 1, 1, 1, 1, 1, 1, 1, 1, 1, 1, 1, 1, 1, 1, 1, 1, 1, 1, 1, 1, 1, 1, 1, 1, 1, 1, 1, 1], '~ 10%': [86, 32, 7, 4, 4, 3, 3, 3, 3, 3, 3, 3, 3, 3, 2, 2, 2, 2, 2, 2, 2, 2, 2, 2, 2, 2, 2, 2, 1, 1, 1, 1, 1, 1, 1, 1, 1, 1, 1, 1, 1, 1, 1, 1, 1, 1, 1, 1, 1, 1, 1, 1, 1, 1, 1, 1, 1, 1, 1, 1, 1, 1, 1, 1, 1, 1, 1, 1, 1, 1, 1, 1, 1, 1, 1, 1, 1, 1, 1, 1, 1]}\n",
      "{'~ 100%': [3122], '~ 90%': [2236], '~ 80%': [1655], '~ 70%': [1311], '~ 60%': [1034, 1, 1, 1, 1, 1, 1], '~ 50%': [802, 2, 1, 1, 1, 1, 1, 1, 1, 1, 1, 1, 1, 1, 1], '~ 40%': [619, 2, 1, 1, 1, 1, 1, 1, 1, 1, 1, 1, 1, 1, 1, 1, 1, 1, 1, 1, 1, 1, 1, 1, 1], '~ 30%': [467, 5, 2, 1, 1, 1, 1, 1, 1, 1, 1, 1, 1, 1, 1, 1, 1, 1, 1, 1, 1, 1, 1, 1, 1, 1, 1, 1, 1, 1, 1, 1, 1, 1, 1, 1, 1, 1], '~ 20%': [278, 4, 4, 3, 3, 3, 3, 3, 2, 2, 2, 2, 2, 2, 2, 2, 2, 1, 1, 1, 1, 1, 1, 1, 1, 1, 1, 1, 1, 1, 1, 1, 1, 1, 1, 1, 1, 1, 1, 1, 1, 1, 1, 1, 1, 1, 1, 1, 1, 1, 1, 1, 1, 1, 1, 1, 1, 1, 1, 1, 1, 1, 1], '~ 10%': [60, 23, 13, 11, 5, 4, 4, 4, 4, 4, 3, 3, 3, 2, 2, 2, 2, 2, 2, 2, 2, 2, 2, 1, 1, 1, 1, 1, 1, 1, 1, 1, 1, 1, 1, 1, 1, 1, 1, 1, 1, 1, 1, 1, 1, 1, 1, 1, 1, 1, 1, 1, 1, 1, 1, 1, 1, 1, 1, 1, 1, 1, 1, 1, 1, 1, 1, 1, 1, 1, 1, 1, 1, 1, 1, 1, 1, 1, 1, 1, 1, 1, 1, 1, 1, 1, 1, 1, 1, 1, 1, 1, 1]}\n",
      "{'~ 100%': [3166], '~ 90%': [2221], '~ 80%': [1661, 1], '~ 70%': [1303, 1, 1], '~ 60%': [1037, 2, 1, 1, 1, 1, 1], '~ 50%': [828, 2, 1, 1, 1, 1, 1, 1, 1, 1, 1, 1], '~ 40%': [632, 2, 2, 2, 1, 1, 1, 1, 1, 1, 1, 1, 1, 1, 1, 1, 1, 1, 1, 1, 1, 1], '~ 30%': [483, 2, 2, 2, 1, 1, 1, 1, 1, 1, 1, 1, 1, 1, 1, 1, 1, 1, 1, 1, 1, 1, 1, 1, 1, 1, 1, 1, 1, 1, 1, 1, 1, 1, 1, 1], '~ 20%': [330, 3, 2, 2, 2, 2, 2, 1, 1, 1, 1, 1, 1, 1, 1, 1, 1, 1, 1, 1, 1, 1, 1, 1, 1, 1, 1, 1, 1, 1, 1, 1, 1, 1, 1, 1, 1, 1, 1, 1, 1, 1, 1, 1, 1, 1, 1, 1, 1, 1], '~ 10%': [80, 30, 15, 7, 6, 5, 4, 4, 4, 4, 3, 3, 3, 3, 3, 3, 2, 2, 2, 2, 2, 2, 2, 2, 2, 2, 1, 1, 1, 1, 1, 1, 1, 1, 1, 1, 1, 1, 1, 1, 1, 1, 1, 1, 1, 1, 1, 1, 1, 1, 1, 1, 1, 1, 1, 1, 1, 1, 1, 1, 1, 1, 1, 1, 1, 1, 1, 1, 1, 1, 1, 1, 1, 1, 1, 1, 1, 1, 1, 1, 1, 1, 1]}\n",
      "{'~ 100%': [3125], '~ 90%': [2218], '~ 80%': [1696], '~ 70%': [1326, 1], '~ 60%': [1036], '~ 50%': [827, 3, 1, 1, 1, 1], '~ 40%': [626, 2, 1, 1, 1, 1, 1, 1, 1, 1, 1, 1, 1, 1, 1, 1, 1, 1, 1, 1, 1, 1, 1, 1, 1, 1, 1], '~ 30%': [458, 3, 2, 2, 2, 1, 1, 1, 1, 1, 1, 1, 1, 1, 1, 1, 1, 1, 1, 1, 1, 1, 1, 1, 1, 1, 1, 1, 1, 1, 1, 1, 1, 1, 1, 1, 1, 1, 1, 1, 1], '~ 20%': [307, 4, 4, 3, 2, 2, 2, 2, 2, 2, 1, 1, 1, 1, 1, 1, 1, 1, 1, 1, 1, 1, 1, 1, 1, 1, 1, 1, 1, 1, 1, 1, 1, 1, 1, 1, 1, 1, 1, 1, 1, 1, 1, 1, 1, 1, 1, 1, 1, 1, 1, 1, 1, 1, 1, 1, 1, 1, 1, 1, 1, 1, 1, 1, 1, 1], '~ 10%': [117, 23, 4, 3, 3, 3, 3, 3, 3, 3, 2, 2, 2, 2, 2, 2, 2, 2, 2, 1, 1, 1, 1, 1, 1, 1, 1, 1, 1, 1, 1, 1, 1, 1, 1, 1, 1, 1, 1, 1, 1, 1, 1, 1, 1, 1, 1, 1, 1, 1, 1, 1, 1, 1, 1, 1, 1, 1, 1, 1, 1, 1, 1, 1, 1, 1, 1, 1, 1, 1, 1, 1, 1, 1, 1, 1, 1]}\n",
      "{'~ 100%': [3173], '~ 90%': [2284], '~ 80%': [1680], '~ 70%': [1320, 1, 1], '~ 60%': [1055, 1, 1, 1], '~ 50%': [843, 1, 1, 1, 1, 1, 1], '~ 40%': [644, 2, 1, 1, 1, 1, 1, 1, 1, 1, 1, 1, 1, 1, 1, 1, 1, 1], '~ 30%': [499, 2, 2, 2, 1, 1, 1, 1, 1, 1, 1, 1, 1, 1, 1, 1, 1, 1, 1, 1, 1, 1, 1, 1], '~ 20%': [319, 5, 3, 3, 2, 2, 2, 2, 2, 1, 1, 1, 1, 1, 1, 1, 1, 1, 1, 1, 1, 1, 1, 1, 1, 1, 1, 1, 1, 1, 1, 1, 1, 1, 1, 1, 1, 1, 1, 1, 1, 1, 1, 1, 1, 1, 1], '~ 10%': [85, 10, 8, 7, 6, 5, 5, 5, 4, 4, 4, 3, 3, 3, 3, 3, 3, 3, 3, 3, 2, 2, 2, 2, 2, 2, 2, 2, 2, 2, 1, 1, 1, 1, 1, 1, 1, 1, 1, 1, 1, 1, 1, 1, 1, 1, 1, 1, 1, 1, 1, 1, 1, 1, 1, 1, 1, 1, 1, 1, 1, 1, 1, 1, 1, 1, 1, 1, 1, 1, 1, 1, 1, 1, 1, 1, 1, 1, 1, 1, 1, 1, 1, 1, 1, 1]}\n",
      "{'~ 100%': [3198], '~ 90%': [2251], '~ 80%': [1681, 1], '~ 70%': [1316, 1, 1], '~ 60%': [1033, 1, 1, 1], '~ 50%': [813, 1, 1, 1, 1, 1, 1, 1], '~ 40%': [628, 2, 1, 1, 1, 1, 1, 1, 1, 1, 1, 1, 1, 1, 1, 1, 1, 1, 1, 1, 1, 1, 1, 1, 1], '~ 30%': [473, 3, 3, 2, 2, 1, 1, 1, 1, 1, 1, 1, 1, 1, 1, 1, 1, 1, 1, 1, 1, 1, 1, 1, 1, 1, 1, 1, 1, 1, 1, 1, 1, 1, 1, 1, 1, 1, 1], '~ 20%': [315, 4, 3, 3, 2, 2, 2, 2, 2, 1, 1, 1, 1, 1, 1, 1, 1, 1, 1, 1, 1, 1, 1, 1, 1, 1, 1, 1, 1, 1, 1, 1, 1, 1, 1, 1, 1, 1, 1, 1, 1, 1, 1, 1, 1, 1, 1, 1, 1], '~ 10%': [111, 7, 5, 4, 4, 4, 4, 3, 3, 3, 3, 3, 3, 2, 2, 2, 2, 2, 2, 2, 2, 2, 2, 2, 2, 2, 1, 1, 1, 1, 1, 1, 1, 1, 1, 1, 1, 1, 1, 1, 1, 1, 1, 1, 1, 1, 1, 1, 1, 1, 1, 1, 1, 1, 1, 1, 1, 1, 1, 1, 1, 1, 1, 1, 1, 1, 1, 1, 1, 1, 1, 1, 1, 1, 1, 1, 1, 1, 1, 1, 1, 1, 1, 1]}\n",
      "{'~ 100%': [3145], '~ 90%': [2242], '~ 80%': [1689], '~ 70%': [1330], '~ 60%': [1042, 1, 1, 1, 1, 1, 1], '~ 50%': [842, 2, 1, 1, 1, 1, 1, 1, 1, 1, 1], '~ 40%': [667, 2, 1, 1, 1, 1, 1, 1, 1, 1, 1, 1, 1, 1, 1, 1, 1, 1, 1], '~ 30%': [513, 3, 2, 1, 1, 1, 1, 1, 1, 1, 1, 1, 1, 1, 1, 1, 1, 1, 1, 1, 1, 1, 1, 1, 1, 1, 1], '~ 20%': [323, 7, 5, 4, 3, 3, 2, 2, 2, 2, 2, 2, 1, 1, 1, 1, 1, 1, 1, 1, 1, 1, 1, 1, 1, 1, 1, 1, 1, 1, 1, 1, 1, 1, 1, 1, 1, 1, 1, 1, 1, 1], '~ 10%': [93, 12, 10, 9, 5, 5, 5, 5, 5, 5, 4, 3, 2, 2, 2, 2, 2, 2, 2, 2, 2, 2, 2, 1, 1, 1, 1, 1, 1, 1, 1, 1, 1, 1, 1, 1, 1, 1, 1, 1, 1, 1, 1, 1, 1, 1, 1, 1, 1, 1, 1, 1, 1, 1, 1, 1, 1, 1, 1, 1, 1, 1, 1, 1, 1, 1, 1, 1, 1, 1, 1, 1, 1, 1, 1, 1]}\n",
      "{'~ 100%': [3136], '~ 90%': [2230], '~ 80%': [1712], '~ 70%': [1325, 1], '~ 60%': [1079, 1, 1], '~ 50%': [864, 2, 1, 1, 1, 1, 1, 1, 1, 1], '~ 40%': [671, 1, 1, 1, 1, 1, 1, 1, 1, 1, 1, 1, 1, 1], '~ 30%': [498, 3, 3, 2, 2, 2, 1, 1, 1, 1, 1, 1, 1, 1, 1, 1, 1, 1, 1, 1, 1, 1, 1, 1, 1], '~ 20%': [323, 3, 3, 2, 2, 2, 2, 2, 2, 2, 1, 1, 1, 1, 1, 1, 1, 1, 1, 1, 1, 1, 1, 1, 1, 1, 1, 1, 1, 1, 1, 1, 1, 1, 1, 1, 1, 1, 1, 1, 1, 1, 1, 1, 1, 1, 1, 1], '~ 10%': [93, 11, 8, 8, 8, 7, 7, 5, 4, 4, 4, 3, 3, 3, 3, 2, 2, 2, 2, 2, 2, 2, 2, 2, 1, 1, 1, 1, 1, 1, 1, 1, 1, 1, 1, 1, 1, 1, 1, 1, 1, 1, 1, 1, 1, 1, 1, 1, 1, 1, 1, 1, 1, 1, 1, 1, 1, 1, 1, 1, 1, 1, 1, 1, 1, 1, 1, 1, 1, 1, 1, 1, 1, 1, 1, 1, 1, 1, 1, 1]}\n",
      "{'~ 100%': [3163], '~ 90%': [2250], '~ 80%': [1710, 1], '~ 70%': [1335, 1, 1, 1], '~ 60%': [1073, 1, 1, 1, 1, 1], '~ 50%': [861, 1, 1, 1, 1, 1], '~ 40%': [662, 2, 2, 1, 1, 1, 1, 1, 1, 1, 1, 1, 1, 1, 1, 1, 1, 1], '~ 30%': [500, 2, 2, 1, 1, 1, 1, 1, 1, 1, 1, 1, 1, 1, 1, 1, 1, 1, 1, 1, 1, 1, 1, 1, 1, 1, 1, 1, 1, 1, 1], '~ 20%': [348, 2, 2, 2, 2, 2, 2, 1, 1, 1, 1, 1, 1, 1, 1, 1, 1, 1, 1, 1, 1, 1, 1, 1, 1, 1, 1, 1, 1, 1, 1, 1, 1, 1, 1, 1, 1, 1, 1, 1, 1, 1, 1, 1], '~ 10%': [144, 5, 5, 5, 5, 5, 4, 3, 3, 3, 2, 2, 2, 2, 2, 2, 1, 1, 1, 1, 1, 1, 1, 1, 1, 1, 1, 1, 1, 1, 1, 1, 1, 1, 1, 1, 1, 1, 1, 1, 1, 1, 1, 1, 1, 1, 1, 1, 1, 1, 1, 1, 1, 1, 1, 1, 1, 1, 1, 1, 1, 1, 1, 1, 1, 1, 1, 1, 1, 1, 1, 1, 1, 1]}\n",
      "{'~ 100%': [3175], '~ 90%': [2229], '~ 80%': [1641], '~ 70%': [1301], '~ 60%': [1015, 1, 1, 1], '~ 50%': [790, 1, 1, 1, 1, 1, 1], '~ 40%': [623, 1, 1, 1, 1, 1, 1, 1, 1, 1, 1, 1, 1], '~ 30%': [486, 2, 1, 1, 1, 1, 1, 1, 1, 1, 1, 1, 1, 1, 1, 1, 1, 1], '~ 20%': [303, 4, 4, 4, 3, 3, 3, 3, 2, 2, 2, 2, 2, 2, 1, 1, 1, 1, 1, 1, 1, 1, 1, 1, 1, 1, 1, 1, 1, 1, 1, 1, 1, 1, 1, 1, 1, 1, 1, 1, 1, 1, 1, 1, 1], '~ 10%': [161, 5, 4, 4, 3, 3, 3, 3, 3, 3, 2, 2, 2, 2, 2, 2, 2, 2, 2, 2, 1, 1, 1, 1, 1, 1, 1, 1, 1, 1, 1, 1, 1, 1, 1, 1, 1, 1, 1, 1, 1, 1, 1, 1, 1, 1, 1, 1, 1, 1, 1, 1, 1, 1, 1, 1, 1, 1, 1, 1, 1, 1, 1, 1, 1, 1]}\n",
      "{'~ 100%': [3201], '~ 90%': [2279], '~ 80%': [1714], '~ 70%': [1328, 1, 1], '~ 60%': [1051, 1, 1, 1], '~ 50%': [843, 1, 1, 1, 1, 1, 1, 1, 1], '~ 40%': [654, 1, 1, 1, 1, 1, 1, 1, 1, 1, 1, 1, 1, 1, 1], '~ 30%': [481, 1, 1, 1, 1, 1, 1, 1, 1, 1, 1, 1, 1, 1, 1, 1, 1, 1, 1, 1, 1, 1, 1], '~ 20%': [322, 6, 2, 2, 2, 1, 1, 1, 1, 1, 1, 1, 1, 1, 1, 1, 1, 1, 1, 1, 1, 1, 1, 1, 1, 1, 1, 1, 1, 1, 1, 1, 1, 1, 1, 1, 1, 1, 1, 1], '~ 10%': [67, 21, 15, 14, 10, 10, 9, 6, 4, 3, 3, 3, 3, 3, 2, 2, 2, 2, 2, 2, 2, 2, 2, 2, 1, 1, 1, 1, 1, 1, 1, 1, 1, 1, 1, 1, 1, 1, 1, 1, 1, 1, 1, 1, 1, 1, 1, 1, 1, 1, 1, 1, 1, 1, 1, 1, 1, 1, 1, 1, 1, 1, 1, 1, 1, 1, 1, 1, 1, 1, 1, 1, 1, 1, 1, 1, 1, 1, 1, 1, 1, 1, 1]}\n",
      "{'~ 100%': [3158], '~ 90%': [2277], '~ 80%': [1689], '~ 70%': [1292], '~ 60%': [1045, 2, 1], '~ 50%': [841, 2, 1, 1, 1, 1, 1, 1], '~ 40%': [652, 2, 2, 1, 1, 1, 1, 1, 1, 1, 1, 1, 1, 1, 1, 1, 1, 1, 1, 1, 1, 1], '~ 30%': [502, 2, 2, 2, 1, 1, 1, 1, 1, 1, 1, 1, 1, 1, 1, 1, 1, 1, 1, 1, 1, 1, 1, 1, 1, 1, 1], '~ 20%': [336, 3, 2, 2, 2, 2, 2, 1, 1, 1, 1, 1, 1, 1, 1, 1, 1, 1, 1, 1, 1, 1, 1, 1, 1, 1, 1, 1, 1, 1, 1, 1, 1, 1, 1, 1, 1, 1, 1, 1, 1, 1, 1, 1, 1, 1, 1, 1, 1], '~ 10%': [165, 12, 8, 5, 4, 3, 3, 3, 2, 2, 2, 2, 2, 1, 1, 1, 1, 1, 1, 1, 1, 1, 1, 1, 1, 1, 1, 1, 1, 1, 1, 1, 1, 1, 1, 1, 1, 1, 1, 1, 1, 1, 1, 1, 1, 1, 1, 1, 1, 1, 1, 1, 1, 1, 1]}\n",
      "{'~ 100%': [3173], '~ 90%': [2238], '~ 80%': [1689, 1], '~ 70%': [1327, 1], '~ 60%': [1035, 1, 1, 1, 1, 1], '~ 50%': [849, 1, 1, 1, 1, 1, 1, 1, 1, 1, 1], '~ 40%': [655, 2, 2, 2, 2, 1, 1, 1, 1, 1, 1, 1, 1, 1, 1, 1, 1, 1, 1, 1, 1, 1, 1, 1, 1], '~ 30%': [496, 2, 1, 1, 1, 1, 1, 1, 1, 1, 1, 1, 1, 1, 1, 1, 1, 1, 1, 1, 1, 1, 1, 1, 1, 1, 1, 1, 1, 1, 1, 1, 1, 1, 1], '~ 20%': [339, 2, 2, 2, 2, 1, 1, 1, 1, 1, 1, 1, 1, 1, 1, 1, 1, 1, 1, 1, 1, 1, 1, 1, 1, 1, 1, 1, 1, 1, 1, 1, 1, 1, 1, 1, 1, 1, 1, 1, 1, 1, 1, 1, 1], '~ 10%': [137, 11, 11, 9, 4, 3, 3, 3, 2, 2, 2, 2, 2, 2, 2, 2, 2, 2, 1, 1, 1, 1, 1, 1, 1, 1, 1, 1, 1, 1, 1, 1, 1, 1, 1, 1, 1, 1, 1, 1, 1, 1, 1, 1, 1, 1, 1, 1, 1, 1, 1, 1, 1, 1, 1, 1, 1, 1, 1, 1, 1, 1, 1, 1, 1, 1, 1, 1]}\n",
      "{'~ 100%': [3163], '~ 90%': [2225], '~ 80%': [1678], '~ 70%': [1311, 1], '~ 60%': [1025, 1, 1, 1, 1, 1], '~ 50%': [821, 1, 1, 1, 1, 1, 1, 1, 1, 1, 1, 1, 1, 1, 1, 1, 1, 1], '~ 40%': [659, 1, 1, 1, 1, 1, 1, 1, 1, 1, 1, 1, 1, 1, 1, 1, 1, 1, 1, 1, 1], '~ 30%': [492, 2, 2, 2, 2, 2, 1, 1, 1, 1, 1, 1, 1, 1, 1, 1, 1, 1, 1, 1, 1, 1, 1, 1, 1, 1, 1, 1], '~ 20%': [310, 3, 2, 2, 2, 2, 2, 2, 2, 2, 2, 2, 2, 2, 2, 1, 1, 1, 1, 1, 1, 1, 1, 1, 1, 1, 1, 1, 1, 1, 1, 1, 1, 1, 1, 1, 1, 1, 1, 1, 1, 1, 1, 1, 1, 1, 1, 1, 1, 1], '~ 10%': [178, 6, 4, 3, 2, 2, 2, 2, 2, 2, 2, 2, 2, 2, 2, 1, 1, 1, 1, 1, 1, 1, 1, 1, 1, 1, 1, 1, 1, 1, 1, 1, 1, 1, 1, 1, 1, 1, 1, 1, 1, 1, 1, 1, 1, 1, 1, 1, 1, 1, 1, 1]}\n",
      "{'~ 100%': [3172], '~ 90%': [2241], '~ 80%': [1708], '~ 70%': [1344, 1], '~ 60%': [1080, 1, 1, 1, 1], '~ 50%': [843, 1, 1, 1, 1, 1, 1, 1, 1, 1, 1, 1], '~ 40%': [651, 2, 2, 1, 1, 1, 1, 1, 1, 1, 1, 1, 1, 1, 1, 1, 1, 1, 1, 1, 1], '~ 30%': [489, 5, 2, 2, 1, 1, 1, 1, 1, 1, 1, 1, 1, 1, 1, 1, 1, 1, 1, 1, 1, 1, 1], '~ 20%': [312, 5, 5, 4, 3, 3, 2, 2, 2, 2, 2, 1, 1, 1, 1, 1, 1, 1, 1, 1, 1, 1, 1, 1, 1, 1, 1, 1, 1, 1, 1, 1, 1, 1, 1, 1, 1, 1, 1, 1, 1, 1, 1, 1, 1, 1, 1, 1, 1, 1, 1, 1, 1, 1], '~ 10%': [57, 45, 15, 8, 7, 6, 5, 4, 4, 3, 3, 3, 3, 3, 3, 2, 2, 2, 2, 2, 2, 2, 2, 2, 2, 2, 1, 1, 1, 1, 1, 1, 1, 1, 1, 1, 1, 1, 1, 1, 1, 1, 1, 1, 1, 1, 1, 1, 1, 1, 1, 1, 1, 1, 1, 1, 1, 1, 1, 1, 1, 1, 1, 1, 1, 1, 1, 1, 1, 1, 1, 1, 1, 1, 1, 1, 1]}\n",
      "{'~ 100%': [3123], '~ 90%': [2215], '~ 80%': [1663], '~ 70%': [1311, 1], '~ 60%': [1024, 1, 1, 1, 1], '~ 50%': [803, 1, 1, 1, 1, 1, 1, 1, 1, 1, 1, 1], '~ 40%': [645, 2, 1, 1, 1, 1, 1, 1, 1, 1, 1, 1, 1, 1, 1, 1, 1, 1], '~ 30%': [508, 2, 2, 2, 2, 1, 1, 1, 1, 1, 1, 1, 1, 1, 1, 1, 1, 1, 1, 1, 1, 1, 1, 1, 1, 1, 1, 1, 1, 1], '~ 20%': [363, 5, 3, 2, 2, 2, 2, 1, 1, 1, 1, 1, 1, 1, 1, 1, 1, 1, 1, 1, 1, 1, 1, 1, 1, 1, 1, 1, 1, 1, 1, 1, 1, 1, 1, 1, 1, 1], '~ 10%': [171, 4, 4, 3, 2, 2, 2, 2, 2, 2, 1, 1, 1, 1, 1, 1, 1, 1, 1, 1, 1, 1, 1, 1, 1, 1, 1, 1, 1, 1, 1, 1, 1, 1, 1, 1, 1, 1, 1, 1, 1, 1, 1, 1, 1, 1, 1, 1, 1, 1, 1, 1, 1, 1, 1, 1, 1, 1, 1, 1, 1, 1, 1, 1]}\n",
      "{'~ 100%': [3137], '~ 90%': [2227], '~ 80%': [1697], '~ 70%': [1324, 1, 1], '~ 60%': [1060, 1, 1, 1, 1], '~ 50%': [831, 1, 1, 1, 1, 1, 1], '~ 40%': [641, 1, 1, 1, 1, 1, 1, 1, 1, 1, 1, 1], '~ 30%': [495, 2, 2, 1, 1, 1, 1, 1, 1, 1, 1, 1, 1, 1, 1, 1, 1, 1, 1, 1, 1, 1, 1], '~ 20%': [311, 4, 3, 3, 3, 3, 2, 2, 2, 2, 2, 1, 1, 1, 1, 1, 1, 1, 1, 1, 1, 1, 1, 1, 1, 1, 1, 1, 1, 1, 1, 1, 1, 1, 1, 1, 1, 1, 1, 1, 1, 1, 1, 1, 1, 1, 1, 1, 1, 1, 1, 1, 1, 1, 1], '~ 10%': [140, 5, 5, 4, 4, 4, 3, 3, 3, 3, 2, 2, 2, 2, 2, 2, 2, 2, 1, 1, 1, 1, 1, 1, 1, 1, 1, 1, 1, 1, 1, 1, 1, 1, 1, 1, 1, 1, 1, 1, 1, 1, 1, 1, 1, 1, 1, 1, 1, 1, 1, 1, 1, 1, 1, 1, 1, 1, 1, 1, 1, 1, 1, 1, 1, 1, 1, 1, 1, 1, 1, 1]}\n",
      "{'~ 100%': [3187], '~ 90%': [2263], '~ 80%': [1707], '~ 70%': [1330, 1], '~ 60%': [1021, 1, 1, 1, 1, 1, 1, 1], '~ 50%': [806, 1, 1, 1, 1, 1, 1, 1, 1, 1, 1, 1, 1], '~ 40%': [656, 1, 1, 1, 1, 1, 1, 1, 1, 1, 1, 1, 1, 1, 1, 1, 1, 1, 1, 1, 1], '~ 30%': [500, 2, 2, 2, 1, 1, 1, 1, 1, 1, 1, 1, 1, 1, 1, 1, 1, 1, 1, 1, 1, 1, 1, 1, 1, 1, 1, 1, 1, 1, 1, 1, 1, 1, 1], '~ 20%': [342, 4, 3, 2, 2, 2, 2, 1, 1, 1, 1, 1, 1, 1, 1, 1, 1, 1, 1, 1, 1, 1, 1, 1, 1, 1, 1, 1, 1, 1, 1, 1, 1, 1, 1, 1, 1, 1, 1, 1, 1, 1, 1, 1, 1, 1, 1, 1, 1], '~ 10%': [90, 10, 10, 9, 8, 7, 6, 5, 4, 4, 3, 3, 3, 3, 3, 3, 3, 2, 2, 2, 2, 2, 2, 2, 2, 2, 2, 2, 1, 1, 1, 1, 1, 1, 1, 1, 1, 1, 1, 1, 1, 1, 1, 1, 1, 1, 1, 1, 1, 1, 1, 1, 1, 1, 1, 1, 1, 1, 1, 1, 1, 1, 1, 1, 1, 1, 1, 1, 1, 1, 1, 1, 1, 1, 1, 1, 1, 1, 1]}\n",
      "{'~ 100%': [3178], '~ 90%': [2236], '~ 80%': [1683], '~ 70%': [1326, 1], '~ 60%': [1043, 1, 1, 1], '~ 50%': [839, 1, 1, 1, 1, 1, 1], '~ 40%': [650, 2, 1, 1, 1, 1, 1, 1, 1, 1, 1, 1], '~ 30%': [503, 2, 2, 1, 1, 1, 1, 1, 1, 1, 1, 1, 1, 1, 1, 1, 1, 1, 1, 1, 1, 1], '~ 20%': [312, 5, 4, 4, 3, 2, 2, 2, 2, 2, 1, 1, 1, 1, 1, 1, 1, 1, 1, 1, 1, 1, 1, 1, 1, 1, 1, 1, 1, 1, 1, 1, 1, 1, 1, 1, 1, 1, 1, 1, 1, 1, 1, 1, 1, 1, 1, 1, 1, 1], '~ 10%': [111, 17, 11, 6, 5, 4, 4, 4, 3, 3, 3, 3, 3, 3, 3, 3, 2, 2, 2, 2, 2, 2, 2, 2, 2, 2, 1, 1, 1, 1, 1, 1, 1, 1, 1, 1, 1, 1, 1, 1, 1, 1, 1, 1, 1, 1, 1, 1, 1, 1, 1, 1, 1, 1, 1, 1, 1, 1, 1, 1, 1, 1, 1, 1, 1, 1, 1, 1, 1, 1, 1]}\n",
      "{'~ 100%': [3169], '~ 90%': [2279], '~ 80%': [1698, 1], '~ 70%': [1306, 1], '~ 60%': [1037, 1, 1], '~ 50%': [825, 1, 1, 1, 1, 1, 1, 1, 1, 1, 1], '~ 40%': [637, 2, 1, 1, 1, 1, 1, 1, 1, 1, 1, 1, 1, 1, 1, 1, 1, 1, 1, 1, 1, 1], '~ 30%': [495, 2, 2, 2, 1, 1, 1, 1, 1, 1, 1, 1, 1, 1, 1, 1, 1, 1, 1, 1, 1, 1, 1, 1, 1, 1, 1, 1, 1, 1, 1, 1], '~ 20%': [333, 2, 2, 2, 2, 2, 1, 1, 1, 1, 1, 1, 1, 1, 1, 1, 1, 1, 1, 1, 1, 1, 1, 1, 1, 1, 1, 1, 1, 1, 1, 1, 1, 1, 1, 1, 1, 1, 1, 1, 1, 1, 1, 1, 1, 1, 1, 1, 1], '~ 10%': [120, 7, 7, 7, 4, 4, 4, 3, 3, 3, 3, 3, 2, 2, 2, 2, 2, 2, 2, 2, 1, 1, 1, 1, 1, 1, 1, 1, 1, 1, 1, 1, 1, 1, 1, 1, 1, 1, 1, 1, 1, 1, 1, 1, 1, 1, 1, 1, 1, 1, 1, 1, 1, 1, 1, 1, 1, 1, 1, 1, 1, 1, 1, 1, 1, 1, 1, 1, 1, 1, 1, 1, 1, 1, 1, 1, 1, 1, 1, 1, 1, 1, 1, 1]}\n",
      "{'~ 100%': [3201], '~ 90%': [2282], '~ 80%': [1708], '~ 70%': [1355, 1, 1], '~ 60%': [1077, 1, 1, 1], '~ 50%': [847, 1, 1, 1, 1, 1, 1, 1], '~ 40%': [687, 2, 2, 1, 1, 1, 1, 1, 1, 1, 1, 1, 1, 1, 1], '~ 30%': [497, 4, 3, 2, 2, 2, 1, 1, 1, 1, 1, 1, 1, 1, 1, 1, 1, 1, 1, 1, 1, 1, 1, 1, 1, 1, 1, 1, 1, 1], '~ 20%': [309, 6, 4, 4, 3, 3, 3, 3, 2, 2, 2, 2, 1, 1, 1, 1, 1, 1, 1, 1, 1, 1, 1, 1, 1, 1, 1, 1, 1, 1, 1, 1, 1, 1, 1, 1, 1, 1, 1, 1, 1, 1, 1, 1, 1, 1, 1, 1, 1, 1, 1, 1, 1], '~ 10%': [72, 42, 24, 7, 4, 3, 3, 3, 3, 3, 3, 3, 3, 2, 2, 2, 2, 2, 2, 2, 2, 2, 2, 2, 2, 2, 1, 1, 1, 1, 1, 1, 1, 1, 1, 1, 1, 1, 1, 1, 1, 1, 1, 1, 1, 1, 1, 1, 1, 1, 1, 1, 1, 1, 1, 1, 1, 1, 1, 1, 1, 1, 1, 1, 1, 1, 1, 1, 1, 1, 1, 1, 1, 1, 1, 1]}\n",
      "{'~ 100%': [3185], '~ 90%': [2228], '~ 80%': [1661, 1, 1], '~ 70%': [1297, 1, 1], '~ 60%': [1052, 1, 1, 1, 1, 1, 1], '~ 50%': [848, 1, 1, 1, 1, 1, 1, 1, 1, 1, 1], '~ 40%': [653, 2, 1, 1, 1, 1, 1, 1, 1, 1, 1, 1, 1, 1, 1, 1, 1, 1, 1, 1], '~ 30%': [506, 2, 2, 2, 1, 1, 1, 1, 1, 1, 1, 1, 1, 1, 1, 1, 1, 1, 1, 1, 1, 1, 1, 1, 1, 1, 1, 1, 1, 1, 1, 1], '~ 20%': [317, 3, 2, 2, 2, 2, 2, 2, 2, 2, 2, 1, 1, 1, 1, 1, 1, 1, 1, 1, 1, 1, 1, 1, 1, 1, 1, 1, 1, 1, 1, 1, 1, 1, 1, 1, 1, 1, 1, 1, 1, 1, 1, 1, 1, 1, 1, 1, 1, 1, 1, 1, 1, 1, 1, 1, 1, 1, 1], '~ 10%': [105, 18, 7, 5, 5, 4, 4, 3, 3, 3, 3, 3, 3, 2, 2, 2, 2, 2, 2, 2, 2, 2, 2, 2, 2, 2, 2, 1, 1, 1, 1, 1, 1, 1, 1, 1, 1, 1, 1, 1, 1, 1, 1, 1, 1, 1, 1, 1, 1, 1, 1, 1, 1, 1, 1, 1, 1, 1, 1, 1, 1, 1, 1, 1, 1, 1, 1, 1, 1, 1, 1, 1, 1, 1, 1, 1, 1, 1, 1, 1]}\n",
      "{'~ 100%': [3169], '~ 90%': [2267], '~ 80%': [1699], '~ 70%': [1327, 1, 1], '~ 60%': [1059, 1, 1, 1, 1], '~ 50%': [824, 3, 1, 1, 1, 1, 1, 1, 1, 1, 1, 1, 1], '~ 40%': [632, 3, 3, 1, 1, 1, 1, 1, 1, 1, 1, 1, 1, 1, 1, 1, 1, 1, 1, 1, 1], '~ 30%': [461, 4, 3, 3, 2, 2, 2, 2, 1, 1, 1, 1, 1, 1, 1, 1, 1, 1, 1, 1, 1, 1, 1, 1, 1, 1, 1, 1, 1, 1, 1, 1, 1, 1, 1, 1], '~ 20%': [299, 10, 4, 3, 2, 2, 2, 2, 2, 1, 1, 1, 1, 1, 1, 1, 1, 1, 1, 1, 1, 1, 1, 1, 1, 1, 1, 1, 1, 1, 1, 1, 1, 1, 1, 1, 1, 1, 1, 1, 1, 1, 1, 1, 1, 1, 1, 1], '~ 10%': [94, 13, 11, 10, 9, 7, 6, 5, 3, 2, 2, 2, 2, 2, 2, 2, 2, 2, 2, 1, 1, 1, 1, 1, 1, 1, 1, 1, 1, 1, 1, 1, 1, 1, 1, 1, 1, 1, 1, 1, 1, 1, 1, 1, 1, 1, 1, 1, 1, 1, 1, 1, 1, 1, 1, 1, 1, 1, 1, 1, 1, 1, 1, 1, 1, 1, 1, 1, 1, 1, 1, 1, 1, 1]}\n",
      "{'~ 100%': [3169], '~ 90%': [2263], '~ 80%': [1742], '~ 70%': [1350], '~ 60%': [1027, 1], '~ 50%': [815, 1, 1, 1, 1, 1, 1, 1, 1], '~ 40%': [636, 2, 1, 1, 1, 1, 1, 1, 1, 1, 1, 1, 1, 1, 1, 1, 1, 1, 1, 1], '~ 30%': [473, 2, 2, 2, 1, 1, 1, 1, 1, 1, 1, 1, 1, 1, 1, 1, 1, 1, 1, 1, 1, 1, 1, 1, 1, 1, 1, 1], '~ 20%': [305, 5, 4, 3, 3, 2, 2, 2, 2, 2, 2, 2, 2, 1, 1, 1, 1, 1, 1, 1, 1, 1, 1, 1, 1, 1, 1, 1, 1, 1, 1, 1, 1, 1, 1, 1, 1, 1, 1, 1, 1, 1, 1, 1, 1, 1, 1, 1, 1, 1, 1, 1, 1, 1], '~ 10%': [141, 9, 6, 5, 4, 4, 3, 3, 3, 3, 2, 2, 2, 2, 2, 2, 2, 2, 2, 2, 1, 1, 1, 1, 1, 1, 1, 1, 1, 1, 1, 1, 1, 1, 1, 1, 1, 1, 1, 1, 1, 1, 1, 1, 1, 1, 1, 1, 1, 1, 1, 1, 1, 1, 1, 1, 1, 1, 1, 1, 1, 1, 1, 1, 1, 1, 1, 1, 1, 1, 1, 1, 1]}\n",
      "{'~ 100%': [3164], '~ 90%': [2246], '~ 80%': [1689], '~ 70%': [1318, 1], '~ 60%': [1037, 1, 1, 1], '~ 50%': [831, 1, 1, 1, 1, 1, 1, 1, 1, 1], '~ 40%': [640, 1, 1, 1, 1, 1, 1, 1, 1, 1, 1, 1, 1, 1, 1, 1, 1, 1, 1, 1, 1, 1, 1], '~ 30%': [487, 1, 1, 1, 1, 1, 1, 1, 1, 1, 1, 1, 1, 1, 1, 1, 1, 1, 1, 1, 1, 1, 1, 1, 1, 1, 1, 1, 1, 1], '~ 20%': [328, 3, 3, 3, 3, 2, 2, 2, 1, 1, 1, 1, 1, 1, 1, 1, 1, 1, 1, 1, 1, 1, 1, 1, 1, 1, 1, 1, 1, 1, 1, 1, 1, 1, 1, 1, 1, 1, 1, 1, 1, 1, 1, 1, 1, 1, 1, 1, 1], '~ 10%': [112, 9, 9, 6, 6, 5, 5, 5, 4, 3, 3, 3, 3, 3, 2, 2, 2, 2, 2, 2, 2, 1, 1, 1, 1, 1, 1, 1, 1, 1, 1, 1, 1, 1, 1, 1, 1, 1, 1, 1, 1, 1, 1, 1, 1, 1, 1, 1, 1, 1, 1, 1, 1, 1, 1, 1, 1, 1, 1, 1, 1, 1, 1, 1, 1, 1, 1, 1, 1, 1, 1, 1, 1, 1, 1, 1, 1, 1, 1, 1, 1]}\n",
      "{'~ 100%': [3172], '~ 90%': [2240], '~ 80%': [1679], '~ 70%': [1301, 1], '~ 60%': [1010, 1, 1, 1, 1, 1, 1], '~ 50%': [800, 1, 1, 1, 1, 1, 1, 1, 1, 1, 1, 1, 1, 1], '~ 40%': [626, 2, 2, 1, 1, 1, 1, 1, 1, 1, 1, 1, 1, 1, 1, 1, 1, 1, 1], '~ 30%': [467, 2, 2, 2, 2, 2, 1, 1, 1, 1, 1, 1, 1, 1, 1, 1, 1, 1, 1, 1, 1, 1, 1, 1, 1, 1, 1, 1, 1, 1], '~ 20%': [309, 6, 5, 2, 2, 2, 2, 2, 2, 2, 2, 2, 1, 1, 1, 1, 1, 1, 1, 1, 1, 1, 1, 1, 1, 1, 1, 1, 1, 1, 1, 1, 1, 1, 1, 1, 1, 1, 1, 1, 1, 1, 1, 1, 1, 1, 1, 1, 1, 1, 1, 1, 1, 1, 1, 1, 1], '~ 10%': [67, 37, 11, 7, 6, 5, 5, 5, 4, 3, 3, 2, 2, 2, 2, 2, 2, 2, 2, 2, 2, 2, 2, 2, 1, 1, 1, 1, 1, 1, 1, 1, 1, 1, 1, 1, 1, 1, 1, 1, 1, 1, 1, 1, 1, 1, 1, 1, 1, 1, 1, 1, 1, 1, 1, 1, 1, 1, 1, 1, 1, 1, 1, 1, 1, 1, 1, 1, 1, 1, 1, 1, 1, 1, 1, 1, 1, 1, 1, 1, 1, 1, 1, 1]}\n",
      "{'~ 100%': [3125], '~ 90%': [2225, 1], '~ 80%': [1673], '~ 70%': [1286, 1], '~ 60%': [1015, 1, 1, 1, 1], '~ 50%': [802, 2, 1, 1, 1, 1, 1, 1, 1, 1], '~ 40%': [634, 3, 1, 1, 1, 1, 1, 1, 1, 1, 1, 1], '~ 30%': [467, 4, 3, 2, 2, 1, 1, 1, 1, 1, 1, 1, 1, 1, 1, 1, 1, 1, 1, 1, 1, 1, 1, 1, 1, 1, 1], '~ 20%': [300, 4, 3, 2, 2, 2, 2, 2, 2, 2, 2, 2, 1, 1, 1, 1, 1, 1, 1, 1, 1, 1, 1, 1, 1, 1, 1, 1, 1, 1, 1, 1, 1, 1, 1, 1, 1, 1, 1, 1, 1, 1, 1, 1], '~ 10%': [112, 12, 10, 9, 8, 5, 4, 4, 4, 3, 3, 3, 3, 2, 2, 2, 2, 2, 2, 2, 2, 2, 2, 2, 2, 1, 1, 1, 1, 1, 1, 1, 1, 1, 1, 1, 1, 1, 1, 1, 1, 1, 1, 1, 1, 1, 1, 1, 1, 1, 1, 1, 1, 1, 1, 1, 1, 1, 1, 1, 1, 1, 1, 1, 1, 1, 1]}\n",
      "{'~ 100%': [3167], '~ 90%': [2228, 1], '~ 80%': [1688, 1], '~ 70%': [1349, 1, 1], '~ 60%': [1078, 1, 1, 1, 1, 1, 1], '~ 50%': [863, 2, 1, 1, 1, 1, 1, 1, 1, 1, 1], '~ 40%': [673, 2, 2, 2, 1, 1, 1, 1, 1, 1, 1, 1, 1, 1, 1], '~ 30%': [491, 2, 2, 1, 1, 1, 1, 1, 1, 1, 1, 1, 1, 1, 1, 1, 1, 1, 1, 1, 1, 1, 1, 1, 1, 1, 1, 1, 1, 1], '~ 20%': [296, 7, 6, 5, 4, 4, 4, 3, 3, 2, 2, 2, 2, 2, 2, 2, 1, 1, 1, 1, 1, 1, 1, 1, 1, 1, 1, 1, 1, 1, 1, 1, 1, 1, 1, 1, 1, 1, 1, 1, 1, 1, 1, 1, 1, 1, 1, 1, 1, 1, 1, 1, 1, 1, 1, 1], '~ 10%': [121, 12, 5, 5, 4, 4, 3, 3, 3, 3, 3, 3, 3, 3, 3, 3, 2, 2, 2, 2, 2, 2, 2, 2, 2, 1, 1, 1, 1, 1, 1, 1, 1, 1, 1, 1, 1, 1, 1, 1, 1, 1, 1, 1, 1, 1, 1, 1, 1, 1, 1, 1, 1, 1, 1, 1, 1, 1, 1, 1, 1, 1, 1, 1, 1, 1, 1, 1, 1, 1, 1, 1, 1, 1, 1, 1, 1, 1]}\n",
      "{'~ 100%': [3144], '~ 90%': [2226], '~ 80%': [1656, 1], '~ 70%': [1312, 1, 1, 1, 1], '~ 60%': [1025, 1, 1, 1, 1, 1, 1, 1], '~ 50%': [835, 2, 1, 1, 1, 1, 1, 1, 1, 1, 1, 1, 1, 1], '~ 40%': [652, 2, 2, 1, 1, 1, 1, 1, 1, 1, 1, 1, 1, 1, 1, 1, 1, 1, 1, 1, 1], '~ 30%': [479, 3, 2, 2, 2, 2, 2, 1, 1, 1, 1, 1, 1, 1, 1, 1, 1, 1, 1, 1, 1, 1, 1, 1, 1, 1, 1, 1, 1, 1, 1, 1, 1, 1, 1], '~ 20%': [309, 3, 3, 3, 2, 2, 2, 2, 2, 2, 2, 2, 1, 1, 1, 1, 1, 1, 1, 1, 1, 1, 1, 1, 1, 1, 1, 1, 1, 1, 1, 1, 1, 1, 1, 1, 1, 1, 1, 1, 1, 1, 1, 1, 1, 1, 1, 1, 1, 1, 1, 1, 1, 1, 1, 1], '~ 10%': [85, 15, 10, 9, 8, 5, 4, 4, 4, 3, 3, 3, 2, 2, 2, 2, 2, 2, 2, 2, 2, 2, 2, 2, 2, 1, 1, 1, 1, 1, 1, 1, 1, 1, 1, 1, 1, 1, 1, 1, 1, 1, 1, 1, 1, 1, 1, 1, 1, 1, 1, 1, 1, 1, 1, 1, 1, 1, 1, 1, 1, 1, 1, 1, 1, 1, 1, 1, 1, 1, 1, 1, 1, 1, 1, 1, 1, 1, 1, 1, 1, 1, 1, 1, 1, 1, 1, 1, 1, 1, 1]}\n",
      "{'~ 100%': [3158], '~ 90%': [2248], '~ 80%': [1724], '~ 70%': [1321, 1, 1], '~ 60%': [1056, 1, 1, 1, 1, 1], '~ 50%': [850, 1, 1, 1, 1, 1, 1, 1, 1, 1, 1, 1, 1], '~ 40%': [673, 2, 1, 1, 1, 1, 1, 1, 1, 1, 1, 1, 1, 1, 1, 1, 1, 1, 1, 1], '~ 30%': [496, 2, 2, 2, 1, 1, 1, 1, 1, 1, 1, 1, 1, 1, 1, 1, 1, 1, 1, 1, 1, 1, 1, 1, 1, 1], '~ 20%': [313, 5, 4, 3, 3, 3, 2, 2, 2, 2, 2, 2, 2, 2, 2, 1, 1, 1, 1, 1, 1, 1, 1, 1, 1, 1, 1, 1, 1, 1, 1, 1, 1, 1, 1, 1, 1, 1, 1, 1, 1, 1, 1, 1, 1, 1, 1, 1, 1], '~ 10%': [129, 8, 7, 4, 4, 4, 3, 3, 3, 3, 3, 3, 3, 2, 2, 2, 2, 2, 2, 2, 2, 2, 2, 2, 2, 1, 1, 1, 1, 1, 1, 1, 1, 1, 1, 1, 1, 1, 1, 1, 1, 1, 1, 1, 1, 1, 1, 1, 1, 1, 1, 1, 1, 1, 1, 1, 1, 1, 1, 1, 1, 1, 1, 1, 1, 1, 1, 1, 1, 1, 1, 1, 1]}\n",
      "{'~ 100%': [3215], '~ 90%': [2280], '~ 80%': [1714], '~ 70%': [1335], '~ 60%': [1057, 1, 1, 1], '~ 50%': [831, 1, 1, 1, 1, 1, 1, 1, 1], '~ 40%': [637, 2, 2, 2, 1, 1, 1, 1, 1, 1, 1, 1, 1, 1, 1, 1, 1, 1, 1, 1], '~ 30%': [488, 3, 2, 2, 1, 1, 1, 1, 1, 1, 1, 1, 1, 1, 1, 1, 1, 1, 1, 1, 1, 1, 1, 1, 1, 1, 1], '~ 20%': [316, 5, 4, 3, 3, 3, 2, 2, 2, 2, 2, 2, 2, 2, 1, 1, 1, 1, 1, 1, 1, 1, 1, 1, 1, 1, 1, 1, 1, 1, 1, 1, 1, 1, 1, 1, 1, 1, 1, 1, 1, 1, 1, 1, 1], '~ 10%': [141, 5, 5, 4, 3, 3, 2, 2, 2, 2, 2, 2, 2, 2, 2, 2, 1, 1, 1, 1, 1, 1, 1, 1, 1, 1, 1, 1, 1, 1, 1, 1, 1, 1, 1, 1, 1, 1, 1, 1, 1, 1, 1, 1, 1, 1, 1, 1, 1, 1, 1, 1, 1, 1, 1, 1, 1, 1, 1, 1, 1, 1, 1, 1, 1, 1]}\n",
      "{'~ 100%': [3153], '~ 90%': [2248], '~ 80%': [1678, 1, 1], '~ 70%': [1298, 1, 1, 1, 1, 1], '~ 60%': [1030, 2, 1, 1, 1, 1, 1, 1, 1], '~ 50%': [812, 2, 1, 1, 1, 1, 1, 1, 1, 1, 1, 1], '~ 40%': [640, 2, 2, 1, 1, 1, 1, 1, 1, 1, 1, 1, 1, 1, 1, 1, 1, 1, 1, 1, 1, 1, 1, 1, 1], '~ 30%': [482, 2, 2, 2, 1, 1, 1, 1, 1, 1, 1, 1, 1, 1, 1, 1, 1, 1, 1, 1, 1, 1, 1, 1, 1, 1, 1, 1, 1, 1, 1, 1, 1], '~ 20%': [312, 5, 4, 4, 3, 2, 2, 2, 2, 1, 1, 1, 1, 1, 1, 1, 1, 1, 1, 1, 1, 1, 1, 1, 1, 1, 1, 1, 1, 1, 1, 1, 1, 1, 1, 1, 1, 1, 1, 1, 1, 1, 1, 1, 1, 1, 1, 1, 1, 1, 1], '~ 10%': [145, 7, 5, 5, 5, 5, 4, 3, 3, 2, 2, 2, 2, 2, 2, 1, 1, 1, 1, 1, 1, 1, 1, 1, 1, 1, 1, 1, 1, 1, 1, 1, 1, 1, 1, 1, 1, 1, 1, 1, 1, 1, 1, 1, 1, 1, 1, 1, 1, 1, 1, 1, 1, 1, 1, 1, 1, 1, 1, 1, 1, 1, 1, 1, 1, 1, 1, 1, 1, 1, 1]}\n",
      "{'~ 100%': [3159], '~ 90%': [2247], '~ 80%': [1717, 1], '~ 70%': [1339, 1, 1], '~ 60%': [1052, 1, 1, 1, 1, 1], '~ 50%': [840, 1, 1, 1, 1, 1, 1, 1, 1, 1, 1], '~ 40%': [648, 1, 1, 1, 1, 1, 1, 1, 1, 1, 1, 1, 1, 1, 1, 1, 1, 1, 1, 1, 1, 1], '~ 30%': [463, 2, 2, 2, 1, 1, 1, 1, 1, 1, 1, 1, 1, 1, 1, 1, 1, 1, 1, 1, 1, 1, 1, 1, 1, 1, 1, 1, 1, 1, 1, 1, 1, 1, 1], '~ 20%': [318, 2, 2, 2, 2, 2, 2, 2, 2, 1, 1, 1, 1, 1, 1, 1, 1, 1, 1, 1, 1, 1, 1, 1, 1, 1, 1, 1, 1, 1, 1, 1, 1, 1, 1, 1, 1, 1, 1, 1, 1, 1, 1, 1, 1, 1, 1, 1, 1, 1], '~ 10%': [94, 17, 11, 8, 5, 4, 3, 3, 3, 3, 2, 2, 2, 2, 2, 2, 2, 2, 2, 2, 2, 2, 2, 1, 1, 1, 1, 1, 1, 1, 1, 1, 1, 1, 1, 1, 1, 1, 1, 1, 1, 1, 1, 1, 1, 1, 1, 1, 1, 1, 1, 1, 1, 1, 1, 1, 1, 1, 1, 1, 1, 1, 1, 1, 1, 1, 1, 1, 1, 1, 1, 1, 1, 1, 1, 1, 1, 1, 1, 1]}\n",
      "{'~ 100%': [3181], '~ 90%': [2234], '~ 80%': [1688, 1, 1], '~ 70%': [1346, 1, 1, 1, 1], '~ 60%': [1057, 1, 1, 1, 1, 1, 1, 1], '~ 50%': [836, 2, 1, 1, 1, 1, 1, 1, 1, 1, 1], '~ 40%': [663, 2, 1, 1, 1, 1, 1, 1, 1, 1, 1, 1, 1, 1, 1, 1, 1], '~ 30%': [504, 2, 2, 1, 1, 1, 1, 1, 1, 1, 1, 1, 1, 1, 1, 1, 1, 1, 1, 1, 1, 1, 1, 1], '~ 20%': [334, 3, 2, 2, 2, 2, 2, 2, 2, 1, 1, 1, 1, 1, 1, 1, 1, 1, 1, 1, 1, 1, 1, 1, 1, 1, 1, 1, 1, 1, 1, 1, 1, 1, 1, 1, 1, 1, 1, 1, 1, 1, 1, 1, 1, 1, 1, 1, 1, 1, 1], '~ 10%': [127, 8, 6, 5, 4, 4, 3, 3, 3, 3, 3, 2, 2, 2, 2, 2, 2, 2, 2, 2, 2, 1, 1, 1, 1, 1, 1, 1, 1, 1, 1, 1, 1, 1, 1, 1, 1, 1, 1, 1, 1, 1, 1, 1, 1, 1, 1, 1, 1, 1, 1, 1, 1, 1, 1, 1, 1, 1, 1, 1, 1, 1, 1, 1, 1, 1, 1, 1, 1, 1, 1, 1, 1, 1, 1, 1]}\n",
      "{'~ 100%': [3150], '~ 90%': [2231], '~ 80%': [1693], '~ 70%': [1316, 1, 1, 1], '~ 60%': [1047, 1, 1, 1, 1, 1, 1, 1], '~ 50%': [840, 2, 1, 1, 1, 1, 1, 1, 1, 1], '~ 40%': [669, 2, 1, 1, 1, 1, 1, 1, 1, 1, 1, 1, 1, 1, 1, 1, 1], '~ 30%': [503, 4, 1, 1, 1, 1, 1, 1, 1, 1, 1, 1, 1, 1, 1, 1, 1, 1, 1, 1, 1, 1, 1, 1, 1, 1], '~ 20%': [333, 4, 2, 2, 2, 2, 2, 2, 1, 1, 1, 1, 1, 1, 1, 1, 1, 1, 1, 1, 1, 1, 1, 1, 1, 1, 1, 1, 1, 1, 1, 1, 1, 1, 1, 1, 1, 1, 1, 1, 1, 1, 1, 1, 1, 1], '~ 10%': [46, 40, 14, 8, 8, 7, 7, 6, 5, 4, 4, 4, 4, 4, 4, 3, 3, 3, 2, 2, 2, 2, 2, 2, 2, 2, 1, 1, 1, 1, 1, 1, 1, 1, 1, 1, 1, 1, 1, 1, 1, 1, 1, 1, 1, 1, 1, 1, 1, 1, 1, 1, 1, 1, 1, 1, 1, 1, 1, 1, 1, 1, 1, 1, 1, 1, 1, 1, 1, 1, 1, 1, 1, 1, 1, 1, 1, 1, 1, 1, 1]}\n",
      "{'~ 100%': [3166], '~ 90%': [2282], '~ 80%': [1679, 1], '~ 70%': [1312, 1], '~ 60%': [1035, 2, 1, 1, 1, 1], '~ 50%': [808, 2, 1, 1, 1, 1, 1, 1, 1], '~ 40%': [632, 2, 1, 1, 1, 1, 1, 1, 1, 1, 1, 1, 1, 1], '~ 30%': [488, 4, 2, 1, 1, 1, 1, 1, 1, 1, 1, 1, 1, 1, 1, 1, 1, 1, 1, 1, 1, 1, 1, 1, 1, 1, 1], '~ 20%': [322, 4, 3, 3, 2, 2, 2, 2, 2, 1, 1, 1, 1, 1, 1, 1, 1, 1, 1, 1, 1, 1, 1, 1, 1, 1, 1, 1, 1, 1, 1, 1, 1, 1, 1, 1, 1, 1, 1, 1, 1, 1, 1, 1, 1, 1, 1, 1, 1, 1], '~ 10%': [122, 13, 7, 5, 5, 5, 4, 3, 3, 3, 2, 2, 2, 2, 2, 2, 2, 2, 2, 2, 2, 2, 2, 1, 1, 1, 1, 1, 1, 1, 1, 1, 1, 1, 1, 1, 1, 1, 1, 1, 1, 1, 1, 1, 1, 1, 1, 1, 1, 1, 1, 1, 1, 1, 1, 1, 1, 1, 1, 1, 1, 1, 1, 1, 1, 1, 1, 1, 1, 1, 1, 1]}\n",
      "{'~ 100%': [3154], '~ 90%': [2251], '~ 80%': [1697], '~ 70%': [1303, 1], '~ 60%': [1034, 1, 1, 1, 1, 1], '~ 50%': [820, 1, 1, 1, 1, 1, 1, 1, 1, 1], '~ 40%': [627, 2, 1, 1, 1, 1, 1, 1, 1, 1, 1, 1, 1, 1, 1, 1, 1, 1, 1, 1, 1, 1], '~ 30%': [464, 2, 2, 2, 2, 1, 1, 1, 1, 1, 1, 1, 1, 1, 1, 1, 1, 1, 1, 1, 1, 1, 1, 1, 1, 1, 1, 1, 1, 1, 1, 1], '~ 20%': [332, 3, 3, 2, 2, 2, 2, 2, 2, 2, 2, 2, 1, 1, 1, 1, 1, 1, 1, 1, 1, 1, 1, 1, 1, 1, 1, 1, 1, 1, 1, 1, 1, 1, 1, 1, 1, 1, 1, 1, 1, 1, 1, 1, 1, 1, 1], '~ 10%': [153, 8, 4, 4, 3, 3, 3, 2, 2, 2, 2, 2, 2, 2, 2, 2, 2, 2, 2, 2, 1, 1, 1, 1, 1, 1, 1, 1, 1, 1, 1, 1, 1, 1, 1, 1, 1, 1, 1, 1, 1, 1, 1, 1, 1, 1, 1, 1, 1, 1, 1, 1, 1, 1, 1, 1, 1, 1, 1, 1, 1, 1, 1, 1, 1, 1, 1, 1, 1, 1, 1, 1]}\n",
      "{'~ 100%': [3149], '~ 90%': [2216], '~ 80%': [1673, 1], '~ 70%': [1315, 1], '~ 60%': [1043, 1, 1], '~ 50%': [833, 1, 1, 1, 1, 1, 1], '~ 40%': [667, 1, 1, 1, 1, 1, 1, 1], '~ 30%': [496, 4, 3, 2, 2, 2, 1, 1, 1, 1, 1, 1, 1, 1, 1, 1, 1, 1, 1, 1, 1, 1, 1], '~ 20%': [307, 5, 5, 5, 4, 4, 4, 4, 3, 3, 2, 2, 2, 2, 2, 2, 2, 1, 1, 1, 1, 1, 1, 1, 1, 1, 1, 1, 1, 1, 1, 1, 1, 1, 1, 1, 1, 1, 1, 1, 1, 1, 1, 1, 1, 1, 1, 1], '~ 10%': [84, 18, 15, 9, 6, 4, 4, 4, 3, 3, 3, 2, 2, 2, 2, 2, 2, 2, 2, 2, 2, 2, 2, 2, 2, 2, 1, 1, 1, 1, 1, 1, 1, 1, 1, 1, 1, 1, 1, 1, 1, 1, 1, 1, 1, 1, 1, 1, 1, 1, 1, 1, 1, 1, 1, 1, 1, 1, 1, 1, 1, 1, 1, 1, 1, 1, 1, 1, 1, 1, 1, 1, 1, 1, 1, 1, 1, 1, 1, 1, 1]}\n"
     ]
    }
   ],
   "source": [
    "ecdf_100 = []\n",
    "ecdf_90 = []\n",
    "ecdf_80 = []\n",
    "ecdf_70 = []\n",
    "ecdf_60 = []\n",
    "ecdf_50 = []\n",
    "ecdf_40 = []\n",
    "ecdf_30 = []\n",
    "ecdf_20 = []\n",
    "ecdf_10 = []\n",
    "\n",
    "\n",
    "\n",
    "\n",
    "for data in com_sizes_per_genomes.values():\n",
    "    print(data)\n",
    "    for label, components in data.items():\n",
    "        if label == '~ 100%':\n",
    "            ecdf_100.append(components)\n",
    "        if label == '~ 90%':\n",
    "            ecdf_90.append(components)\n",
    "        if label == '~ 80%':\n",
    "            ecdf_80.append(components)\n",
    "        if label == '~ 70%':\n",
    "            ecdf_70.append(components)\n",
    "        if label == '~ 60%':\n",
    "            ecdf_60.append(components)\n",
    "        if label == '~ 50%':\n",
    "            ecdf_50.append(components)\n",
    "        if label == '~ 40%':\n",
    "            ecdf_40.append(components)\n",
    "        if label == '~ 30%':\n",
    "            ecdf_30.append(components)\n",
    "        if label == '~ 20%':\n",
    "            ecdf_20.append(components)\n",
    "        if label == '~ 10%':\n",
    "            ecdf_10.append(components)\n",
    "            \n",
    "ecdf_100_fit = hstack(ecdf_100)\n",
    "ecdf_90_fit = hstack(ecdf_90)\n",
    "ecdf_80_fit = hstack(ecdf_80)\n",
    "ecdf_70_fit = hstack(ecdf_70)\n",
    "ecdf_60_fit = hstack(ecdf_60)\n",
    "ecdf_50_fit = hstack(ecdf_50)\n",
    "ecdf_40_fit = hstack(ecdf_40)\n",
    "ecdf_30_fit = hstack(ecdf_30)\n",
    "ecdf_20_fit = hstack(ecdf_20)\n",
    "ecdf_10_fit = hstack(ecdf_10)"
   ]
  },
  {
   "cell_type": "code",
   "execution_count": 46,
   "id": "13178993",
   "metadata": {},
   "outputs": [],
   "source": [
    "pc_100 = [data_ecdf(_) for _ in ecdf_100]\n",
    "pc_95 = [data_ecdf(_) for _ in ecdf_95]\n",
    "pc_90 = [data_ecdf(_) for _ in ecdf_90]\n",
    "pc_80 = [data_ecdf(_) for _ in ecdf_80]\n",
    "pc_70 = [data_ecdf(_) for _ in ecdf_70]\n",
    "pc_60 = [data_ecdf(_) for _ in ecdf_60]\n",
    "pc_50 = [data_ecdf(_) for _ in ecdf_50]\n",
    "pc_40 = [data_ecdf(_) for _ in ecdf_40]\n",
    "pc_30 = [data_ecdf(_) for _ in ecdf_30]\n",
    "pc_20 = [data_ecdf(_) for _ in ecdf_20]\n",
    "pc_10 = [data_ecdf(_) for _ in ecdf_10]"
   ]
  },
  {
   "cell_type": "code",
   "execution_count": 47,
   "id": "13cf6b70",
   "metadata": {},
   "outputs": [],
   "source": [
    "from collections import defaultdict\n",
    "\n",
    "all_points = defaultdict(list)\n",
    "\n",
    "for _ in data_y:\n",
    "    for k, v in _.items():\n",
    "        all_points[k].append(v)"
   ]
  },
  {
   "cell_type": "code",
   "execution_count": 48,
   "id": "33471dfd",
   "metadata": {},
   "outputs": [],
   "source": [
    "x_axis = []\n",
    "y_min = []\n",
    "y_max = []\n",
    "for k, v in sorted(all_points.items()):\n",
    "    x_axis.append(k)\n",
    "    y_min.append(min(v))\n",
    "    y_max.append(max(v))"
   ]
  },
  {
   "cell_type": "code",
   "execution_count": 49,
   "id": "b7e48c22",
   "metadata": {},
   "outputs": [
    {
     "data": {
      "image/png": "[encoded data removed]",
      "text/plain": [
       "<Figure size 1500x1000 with 1 Axes>"
      ]
     },
     "metadata": {},
     "output_type": "display_data"
    }
   ],
   "source": [
    "figure(figsize=(15, 10), dpi=100)\n",
    "sns.set_style(\"white\")\n",
    "sns.ecdfplot(ecdf_100_fit, color='#481f70')\n",
    "sns.ecdfplot(ecdf_90_fit, color='#3b528b')\n",
    "sns.ecdfplot(ecdf_80_fit, color='#31688e')\n",
    "sns.ecdfplot(ecdf_70_fit, color='#287c8e')\n",
    "sns.ecdfplot(ecdf_60_fit, color='#21918c')\n",
    "sns.ecdfplot(ecdf_50_fit, color='#20a486')\n",
    "sns.ecdfplot(ecdf_40_fit, color='#35b779')\n",
    "sns.ecdfplot(ecdf_30_fit, color='#5ec962')\n",
    "sns.ecdfplot(ecdf_20_fit, color='#90d743')\n",
    "sns.ecdfplot(ecdf_10_fit, color='#c8e020')\n",
    "\n",
    "\n",
    "\n",
    "          \n",
    "                \n",
    "\n",
    "pc_100_patch = mpatches.Patch(color='#481f70', label='~ 100%')\n",
    "pc_90_patch = mpatches.Patch(color='#3b528b', label='~ 90%')\n",
    "pc_80_patch = mpatches.Patch(color='#31688e', label='~ 80%')\n",
    "pc_70_patch = mpatches.Patch(color='#287c8e', label='~ 70%')\n",
    "pc_60_patch = mpatches.Patch(color='#21918c', label='~ 60%')\n",
    "pc_50_patch = mpatches.Patch(color='#20a486', label='~ 50%')\n",
    "pc_40_patch = mpatches.Patch(color='#35b779', label='~ 40%')\n",
    "pc_30_patch = mpatches.Patch(color='#5ec962', label='~ 30%')\n",
    "pc_20_patch = mpatches.Patch(color='#90d743', label='~ 20%')\n",
    "pc_10_patch = mpatches.Patch(color='#c8e020', label='~ 10%')\n",
    "\n",
    "plt.rcParams['font.size'] = '10'\n",
    "legend = plt.legend(handles=[pc_100_patch, pc_95_patch, pc_90_patch, pc_80_patch, pc_70_patch, pc_60_patch, pc_50_patch, pc_40_patch, pc_30_patch, pc_20_patch, pc_10_patch], loc='best')\n",
    "legend.set_title(\"Proportion of genomes\")                \n",
    "plt.ylim(0, 1.05)\n",
    "plt.xlim(-50, 4000)\n",
    "plt.fill_between(x_axis, y_min, y_max, color='grey', alpha=0.2)\n",
    "\n",
    "plt.xlabel('Size of connected components', fontsize=15)\n",
    "plt.ylabel('Proportion', fontsize=15)\n",
    "plt.savefig(Path(\"../../Supplementary_file_22.pdf\").expanduser())\n",
    "plt.show()\n",
    "\n"
   ]
  },
  {
   "cell_type": "markdown",
   "id": "4c94bd7b",
   "metadata": {},
   "source": [
    "# Getting input genomes for pyANI analysis between genomes that share the same name in NCBI"
   ]
  },
  {
   "cell_type": "code",
   "execution_count": 24,
   "id": "668dba1d",
   "metadata": {},
   "outputs": [],
   "source": [
    "accession_names = df2.set_index('accession').to_dict()['organism']"
   ]
  },
  {
   "cell_type": "code",
   "execution_count": 25,
   "id": "555c48ba",
   "metadata": {},
   "outputs": [],
   "source": [
    "pyANI_groups = defaultdict(list)\n",
    "for accession, organism in df2.set_index('accession').to_dict()['organism'].items():\n",
    "    pyANI_groups[organism.replace(' ', '_')].append(accession)"
   ]
  },
  {
   "cell_type": "code",
   "execution_count": 26,
   "id": "85a1cee3",
   "metadata": {},
   "outputs": [],
   "source": [
    "for organism_name, accessions in pyANI_groups.items():\n",
    "    if len(accessions) != 1 and organism_name != 'Streptomyces_sp.':\n",
    "        path = Path(f'../../supplementary_file_17/input/shared_NCBI_names/{organism_name}').expanduser()\n",
    "        os.mkdir(path)\n",
    "        for accession in accessions:\n",
    "            for fname in filenames:\n",
    "                if accession in str(fname) and 'from' not in str(fname):\n",
    "                    shutil.copy2(fname, path)"
   ]
  },
  {
   "cell_type": "code",
   "execution_count": null,
   "id": "32112c70",
   "metadata": {},
   "outputs": [],
   "source": []
  }
 ],
 "metadata": {
  "kernelspec": {
   "display_name": "Python 3 (ipykernel)",
   "language": "python",
   "name": "python3"
  },
  "language_info": {
   "codemirror_mode": {
    "name": "ipython",
    "version": 3
   },
   "file_extension": ".py",
   "mimetype": "text/x-python",
   "name": "python",
   "nbconvert_exporter": "python",
   "pygments_lexer": "ipython3",
   "version": "3.9.9"
  }
 },
 "nbformat": 4,
 "nbformat_minor": 5
}
